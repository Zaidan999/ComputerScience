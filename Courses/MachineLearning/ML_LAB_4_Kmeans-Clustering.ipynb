{
 "cells": [
  {
   "cell_type": "markdown",
   "id": "71efc2aa",
   "metadata": {},
   "source": [
    "# KMeans Clustering"
   ]
  },
  {
   "cell_type": "markdown",
   "id": "4f16852f",
   "metadata": {},
   "source": [
    "## Zaidan Mufaddhal | AIU20092029"
   ]
  },
  {
   "cell_type": "markdown",
   "id": "e5c874a4",
   "metadata": {},
   "source": [
    "### 1. Data pre-processing step"
   ]
  },
  {
   "cell_type": "markdown",
   "id": "165be04b",
   "metadata": {},
   "source": [
    "#### Importing libraries"
   ]
  },
  {
   "cell_type": "code",
   "execution_count": 1,
   "id": "502e5696",
   "metadata": {},
   "outputs": [],
   "source": [
    "# Importing the libraries  \n",
    "import numpy as np  \n",
    "import matplotlib.pyplot as plt  \n",
    "import pandas as pd  "
   ]
  },
  {
   "cell_type": "markdown",
   "id": "e3d8d88d",
   "metadata": {},
   "source": [
    "#### Importing dataset"
   ]
  },
  {
   "cell_type": "code",
   "execution_count": 23,
   "id": "7c515a1c",
   "metadata": {},
   "outputs": [],
   "source": [
    "# Importing the dataset  \n",
    "rawdata = pd.read_csv('Downloads/ClusteringHSS.csv')  "
   ]
  },
  {
   "cell_type": "code",
   "execution_count": 24,
   "id": "e1f19a55",
   "metadata": {},
   "outputs": [
    {
     "data": {
      "text/html": [
       "<div>\n",
       "<style scoped>\n",
       "    .dataframe tbody tr th:only-of-type {\n",
       "        vertical-align: middle;\n",
       "    }\n",
       "\n",
       "    .dataframe tbody tr th {\n",
       "        vertical-align: top;\n",
       "    }\n",
       "\n",
       "    .dataframe thead th {\n",
       "        text-align: right;\n",
       "    }\n",
       "</style>\n",
       "<table border=\"1\" class=\"dataframe\">\n",
       "  <thead>\n",
       "    <tr style=\"text-align: right;\">\n",
       "      <th></th>\n",
       "      <th>ID</th>\n",
       "      <th>Gender_Code</th>\n",
       "      <th>Region</th>\n",
       "      <th>Income</th>\n",
       "      <th>Spending</th>\n",
       "    </tr>\n",
       "  </thead>\n",
       "  <tbody>\n",
       "    <tr>\n",
       "      <th>0</th>\n",
       "      <td>1</td>\n",
       "      <td>Female</td>\n",
       "      <td>Rural</td>\n",
       "      <td>20.0</td>\n",
       "      <td>15.0</td>\n",
       "    </tr>\n",
       "    <tr>\n",
       "      <th>1</th>\n",
       "      <td>2</td>\n",
       "      <td>Male</td>\n",
       "      <td>Rural</td>\n",
       "      <td>5.0</td>\n",
       "      <td>12.0</td>\n",
       "    </tr>\n",
       "    <tr>\n",
       "      <th>2</th>\n",
       "      <td>3</td>\n",
       "      <td>Female</td>\n",
       "      <td>Urban</td>\n",
       "      <td>28.0</td>\n",
       "      <td>18.0</td>\n",
       "    </tr>\n",
       "    <tr>\n",
       "      <th>3</th>\n",
       "      <td>4</td>\n",
       "      <td>Male</td>\n",
       "      <td>Urban</td>\n",
       "      <td>40.0</td>\n",
       "      <td>10.0</td>\n",
       "    </tr>\n",
       "    <tr>\n",
       "      <th>4</th>\n",
       "      <td>5</td>\n",
       "      <td>Male</td>\n",
       "      <td>Urban</td>\n",
       "      <td>42.0</td>\n",
       "      <td>9.0</td>\n",
       "    </tr>\n",
       "    <tr>\n",
       "      <th>...</th>\n",
       "      <td>...</td>\n",
       "      <td>...</td>\n",
       "      <td>...</td>\n",
       "      <td>...</td>\n",
       "      <td>...</td>\n",
       "    </tr>\n",
       "    <tr>\n",
       "      <th>1108</th>\n",
       "      <td>1109</td>\n",
       "      <td>Female</td>\n",
       "      <td>Urban</td>\n",
       "      <td>33.0</td>\n",
       "      <td>16.0</td>\n",
       "    </tr>\n",
       "    <tr>\n",
       "      <th>1109</th>\n",
       "      <td>1110</td>\n",
       "      <td>Male</td>\n",
       "      <td>Urban</td>\n",
       "      <td>48.0</td>\n",
       "      <td>7.0</td>\n",
       "    </tr>\n",
       "    <tr>\n",
       "      <th>1110</th>\n",
       "      <td>1111</td>\n",
       "      <td>Male</td>\n",
       "      <td>Urban</td>\n",
       "      <td>31.0</td>\n",
       "      <td>16.0</td>\n",
       "    </tr>\n",
       "    <tr>\n",
       "      <th>1111</th>\n",
       "      <td>1112</td>\n",
       "      <td>Male</td>\n",
       "      <td>Urban</td>\n",
       "      <td>50.0</td>\n",
       "      <td>14.0</td>\n",
       "    </tr>\n",
       "    <tr>\n",
       "      <th>1112</th>\n",
       "      <td>1113</td>\n",
       "      <td>Male</td>\n",
       "      <td>Urban</td>\n",
       "      <td>26.0</td>\n",
       "      <td>11.0</td>\n",
       "    </tr>\n",
       "  </tbody>\n",
       "</table>\n",
       "<p>1113 rows × 5 columns</p>\n",
       "</div>"
      ],
      "text/plain": [
       "        ID Gender_Code Region  Income  Spending\n",
       "0        1      Female  Rural    20.0      15.0\n",
       "1        2        Male  Rural     5.0      12.0\n",
       "2        3      Female  Urban    28.0      18.0\n",
       "3        4        Male  Urban    40.0      10.0\n",
       "4        5        Male  Urban    42.0       9.0\n",
       "...    ...         ...    ...     ...       ...\n",
       "1108  1109      Female  Urban    33.0      16.0\n",
       "1109  1110        Male  Urban    48.0       7.0\n",
       "1110  1111        Male  Urban    31.0      16.0\n",
       "1111  1112        Male  Urban    50.0      14.0\n",
       "1112  1113        Male  Urban    26.0      11.0\n",
       "\n",
       "[1113 rows x 5 columns]"
      ]
     },
     "execution_count": 24,
     "metadata": {},
     "output_type": "execute_result"
    }
   ],
   "source": [
    "rawdata"
   ]
  },
  {
   "cell_type": "markdown",
   "id": "8f3df5a3",
   "metadata": {},
   "source": [
    "#### Cleaning the null value"
   ]
  },
  {
   "cell_type": "code",
   "execution_count": 25,
   "id": "10dca56a",
   "metadata": {},
   "outputs": [
    {
     "data": {
      "text/plain": [
       "ID             0\n",
       "Gender_Code    6\n",
       "Region         6\n",
       "Income         6\n",
       "Spending       5\n",
       "dtype: int64"
      ]
     },
     "execution_count": 25,
     "metadata": {},
     "output_type": "execute_result"
    }
   ],
   "source": [
    "rawdata.isnull().sum()"
   ]
  },
  {
   "cell_type": "code",
   "execution_count": 26,
   "id": "6b56133d",
   "metadata": {},
   "outputs": [],
   "source": [
    "data = rawdata.dropna()"
   ]
  },
  {
   "cell_type": "code",
   "execution_count": 28,
   "id": "6158a252",
   "metadata": {},
   "outputs": [
    {
     "data": {
      "text/plain": [
       "ID             0\n",
       "Gender_Code    0\n",
       "Region         0\n",
       "Income         0\n",
       "Spending       0\n",
       "dtype: int64"
      ]
     },
     "execution_count": 28,
     "metadata": {},
     "output_type": "execute_result"
    }
   ],
   "source": [
    "data.isnull().sum()"
   ]
  },
  {
   "cell_type": "markdown",
   "id": "c23f7ec6",
   "metadata": {},
   "source": [
    "#### Extracting independent variables"
   ]
  },
  {
   "cell_type": "code",
   "execution_count": 29,
   "id": "c44c54a2",
   "metadata": {},
   "outputs": [],
   "source": [
    "x = data.iloc[:, [3, 4]].values "
   ]
  },
  {
   "cell_type": "code",
   "execution_count": 30,
   "id": "86fc979c",
   "metadata": {},
   "outputs": [
    {
     "data": {
      "text/plain": [
       "array([[20., 15.],\n",
       "       [ 5., 12.],\n",
       "       [28., 18.],\n",
       "       ...,\n",
       "       [31., 16.],\n",
       "       [50., 14.],\n",
       "       [26., 11.]])"
      ]
     },
     "execution_count": 30,
     "metadata": {},
     "output_type": "execute_result"
    }
   ],
   "source": [
    "x"
   ]
  },
  {
   "cell_type": "markdown",
   "id": "7764d961",
   "metadata": {},
   "source": [
    "### 2. Finding the optimal number of clusters using the elbow method"
   ]
  },
  {
   "cell_type": "code",
   "execution_count": 32,
   "id": "06b9ba16",
   "metadata": {},
   "outputs": [
    {
     "data": {
      "image/png": "[encoded data removed]",
      "text/plain": [
       "<Figure size 432x288 with 1 Axes>"
      ]
     },
     "metadata": {
      "needs_background": "light"
     },
     "output_type": "display_data"
    }
   ],
   "source": [
    "#finding optimal number of clusters using the elbow method  \n",
    "from sklearn.cluster import KMeans  \n",
    "wcss_list= []  #Initializing the list for the values of WCSS  \n",
    "  \n",
    "#Using for loop for iterations from 2 to 9.  \n",
    "for i in range(2, 10):  \n",
    "    kmeans = KMeans(n_clusters=i, init='k-means++', random_state= 42)  \n",
    "    kmeans.fit(x)  \n",
    "    wcss_list.append(kmeans.inertia_)  \n",
    "plt.plot(range(2, 10), wcss_list)  \n",
    "plt.title('The Elbow Method Graph')  \n",
    "plt.xlabel('Number of clusters(k)')  \n",
    "plt.ylabel('wcss_list')  \n",
    "plt.show()  "
   ]
  },
  {
   "cell_type": "code",
   "execution_count": 33,
   "id": "cb33823c",
   "metadata": {},
   "outputs": [
    {
     "data": {
      "text/plain": [
       "[72581.49085349138,\n",
       " 43082.289092403036,\n",
       " 34596.95637547756,\n",
       " 28996.063999910533,\n",
       " 23902.134541137337,\n",
       " 19058.833001960254,\n",
       " 16349.579127083465,\n",
       " 13849.977851485946]"
      ]
     },
     "execution_count": 33,
     "metadata": {},
     "output_type": "execute_result"
    }
   ],
   "source": [
    "wcss_list"
   ]
  },
  {
   "cell_type": "markdown",
   "id": "b5fa6fb6",
   "metadata": {},
   "source": [
    "### 3. Training the K-means algorithm on the training dataset"
   ]
  },
  {
   "cell_type": "code",
   "execution_count": 34,
   "id": "ba4e02f1",
   "metadata": {},
   "outputs": [],
   "source": [
    "#training the K-means model on a dataset  \n",
    "kmeans = KMeans(n_clusters=7, init='k-means++', random_state= 42)  \n",
    "y_predict= kmeans.fit_predict(x)  "
   ]
  },
  {
   "cell_type": "code",
   "execution_count": 35,
   "id": "5a3afd54",
   "metadata": {},
   "outputs": [
    {
     "data": {
      "text/plain": [
       "array([0, 2, 3, ..., 3, 1, 0])"
      ]
     },
     "execution_count": 35,
     "metadata": {},
     "output_type": "execute_result"
    }
   ],
   "source": [
    "y_predict"
   ]
  },
  {
   "cell_type": "markdown",
   "id": "e13cd87f",
   "metadata": {},
   "source": [
    "### 4. Visualizing the clusters"
   ]
  },
  {
   "cell_type": "code",
   "execution_count": 44,
   "id": "15210b1d",
   "metadata": {},
   "outputs": [
    {
     "data": {
      "image/png": "[encoded data removed]",
      "text/plain": [
       "<Figure size 432x288 with 1 Axes>"
      ]
     },
     "metadata": {
      "needs_background": "light"
     },
     "output_type": "display_data"
    }
   ],
   "source": [
    "#visulaizing the clusters  \n",
    "plt.scatter(x[y_predict == 0, 0], x[y_predict == 0, 1], s = 100, c = 'blue', label = 'Cluster 1') #for first cluster  \n",
    "plt.scatter(x[y_predict == 1, 0], x[y_predict == 1, 1], s = 100, c = 'green', label = 'Cluster 2') #for second cluster  \n",
    "plt.scatter(x[y_predict== 2, 0], x[y_predict == 2, 1], s = 100, c = 'red', label = 'Cluster 3') #for third cluster  \n",
    "plt.scatter(x[y_predict == 3, 0], x[y_predict == 3, 1], s = 100, c = 'cyan', label = 'Cluster 4') #for fourth cluster  \n",
    "plt.scatter(x[y_predict == 4, 0], x[y_predict == 4, 1], s = 100, c = 'magenta', label = 'Cluster 5') #for fifth cluster  \n",
    "plt.scatter(x[y_predict == 5, 0], x[y_predict == 5, 1], s = 100, c = 'brown', label = 'Cluster 6') #for sixth cluster  \n",
    "plt.scatter(x[y_predict == 6, 0], x[y_predict == 6, 1], s = 100, c = 'pink', label = 'Cluster 7') #for seventh cluster  \n",
    "plt.scatter(kmeans.cluster_centers_[:, 0], kmeans.cluster_centers_[:, 1], s = 300, c = 'yellow', label = 'Centroid')   \n",
    "plt.title('Clusters of customers')  \n",
    "plt.xlabel('Income')  \n",
    "plt.ylabel('Spending')  \n",
    "plt.legend(bbox_to_anchor = (1.05, 0.6))\n",
    "plt.show() "
   ]
  }
 ],
 "metadata": {
  "kernelspec": {
   "display_name": "Python 3 (ipykernel)",
   "language": "python",
   "name": "python3"
  },
  "language_info": {
   "codemirror_mode": {
    "name": "ipython",
    "version": 3
   },
   "file_extension": ".py",
   "mimetype": "text/x-python",
   "name": "python",
   "nbconvert_exporter": "python",
   "pygments_lexer": "ipython3",
   "version": "3.9.12"
  }
 },
 "nbformat": 4,
 "nbformat_minor": 5
}
