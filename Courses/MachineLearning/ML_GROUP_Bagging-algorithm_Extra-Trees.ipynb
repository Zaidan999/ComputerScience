{
 "cells": [
  {
   "cell_type": "code",
   "execution_count": 1,
   "id": "7dde086e",
   "metadata": {},
   "outputs": [],
   "source": [
    "# Extra Trees Classification\n",
    "from pandas import read_csv\n",
    "from sklearn.model_selection import KFold\n",
    "from sklearn.model_selection import cross_val_score\n",
    "\n",
    "#Extra Trees Classifier\n",
    "from sklearn.ensemble import ExtraTreesClassifier"
   ]
  },
  {
   "cell_type": "code",
   "execution_count": 2,
   "id": "7f965653",
   "metadata": {},
   "outputs": [],
   "source": [
    "filename = 'Downloads/data_banknote_authentication (1).csv'\n",
    "names = ['Variance', 'Skewness', 'Kurtosis', 'Entropy', 'Class']\n",
    "dataframe = read_csv(filename, names=names)\n",
    "array = dataframe.values\n",
    "X = array[:,0:4]\n",
    "Y = array[:,4]"
   ]
  },
  {
   "cell_type": "code",
   "execution_count": 9,
   "id": "485065dd",
   "metadata": {},
   "outputs": [],
   "source": [
    "seed = 7\n",
    "num_trees = 100\n",
    "kfold = KFold(n_splits=10, shuffle=True, random_state=seed)"
   ]
  },
  {
   "cell_type": "code",
   "execution_count": 15,
   "id": "bd1225d4",
   "metadata": {},
   "outputs": [],
   "source": [
    "max_features = 3\n",
    "model = ExtraTreesClassifier(\n",
    "    n_estimators=num_trees, max_features=max_features)"
   ]
  },
  {
   "cell_type": "code",
   "execution_count": 16,
   "id": "d495c58c",
   "metadata": {},
   "outputs": [
    {
     "name": "stdout",
     "output_type": "stream",
     "text": [
      "0.9985454353115413\n"
     ]
    }
   ],
   "source": [
    "results = cross_val_score(model, X, Y, cv=kfold)\n",
    "print(results.mean())"
   ]
  },
  {
   "cell_type": "code",
   "execution_count": 17,
   "id": "50e97d5a",
   "metadata": {
    "scrolled": true
   },
   "outputs": [
    {
     "name": "stdout",
     "output_type": "stream",
     "text": [
      "Model: 0 Accuracy: 0.9927536231884058\n",
      "Model: 1 Accuracy: 1.0\n",
      "Model: 2 Accuracy: 1.0\n",
      "Model: 3 Accuracy: 1.0\n",
      "Model: 4 Accuracy: 1.0\n",
      "Model: 5 Accuracy: 1.0\n",
      "Model: 6 Accuracy: 1.0\n",
      "Model: 7 Accuracy: 1.0\n",
      "Model: 8 Accuracy: 1.0\n",
      "Model: 9 Accuracy: 0.9927007299270073\n"
     ]
    }
   ],
   "source": [
    "for i in range(len(results)):\n",
    "    print('Model: '+str(i)+' Accuracy: '+str(results[i]))"
   ]
  }
 ],
 "metadata": {
  "kernelspec": {
   "display_name": "Python 3 (ipykernel)",
   "language": "python",
   "name": "python3"
  },
  "language_info": {
   "codemirror_mode": {
    "name": "ipython",
    "version": 3
   },
   "file_extension": ".py",
   "mimetype": "text/x-python",
   "name": "python",
   "nbconvert_exporter": "python",
   "pygments_lexer": "ipython3",
   "version": "3.9.7"
  }
 },
 "nbformat": 4,
 "nbformat_minor": 5
}
