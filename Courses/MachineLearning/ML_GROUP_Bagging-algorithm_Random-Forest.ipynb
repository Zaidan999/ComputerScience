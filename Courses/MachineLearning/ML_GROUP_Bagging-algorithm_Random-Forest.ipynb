{
 "cells": [
  {
   "cell_type": "code",
   "execution_count": 8,
   "id": "c791333b",
   "metadata": {},
   "outputs": [],
   "source": [
    "# Random Forest Classification\n",
    "from pandas import read_csv\n",
    "from sklearn.model_selection import KFold\n",
    "from sklearn.model_selection import cross_val_score\n",
    "\n",
    "#Random Forest Classifier\n",
    "from sklearn.ensemble import RandomForestClassifier"
   ]
  },
  {
   "cell_type": "code",
   "execution_count": 13,
   "id": "fd8b0033",
   "metadata": {},
   "outputs": [],
   "source": [
    "filename = 'Downloads/data_banknote_authentication (1).csv'\n",
    "names = ['Variance', 'Skewness', 'Kurtosis', 'Entropy', 'Class']\n",
    "dataframe = read_csv(filename, names=names)\n",
    "array = dataframe.values\n",
    "X = array[:,0:4]\n",
    "Y = array[:,4]"
   ]
  },
  {
   "cell_type": "code",
   "execution_count": 19,
   "id": "ed14823d",
   "metadata": {},
   "outputs": [],
   "source": [
    "seed = 7\n",
    "num_trees = 100\n",
    "kfold = KFold(n_splits=10, shuffle=True, random_state=seed)"
   ]
  },
  {
   "cell_type": "code",
   "execution_count": 27,
   "id": "6f663be3",
   "metadata": {},
   "outputs": [],
   "source": [
    "max_features = 3\n",
    "model = RandomForestClassifier(\n",
    "    n_estimators=num_trees,max_features=max_features)"
   ]
  },
  {
   "cell_type": "code",
   "execution_count": 28,
   "id": "44c3d8e2",
   "metadata": {},
   "outputs": [
    {
     "name": "stdout",
     "output_type": "stream",
     "text": [
      "0.9934412355865863\n"
     ]
    }
   ],
   "source": [
    "results = cross_val_score(model, X, Y, cv=kfold)\n",
    "print(results.mean())"
   ]
  },
  {
   "cell_type": "code",
   "execution_count": 29,
   "id": "6540b1d2",
   "metadata": {},
   "outputs": [
    {
     "name": "stdout",
     "output_type": "stream",
     "text": [
      "Model: 0 Accuracy: 0.9855072463768116\n",
      "Model: 1 Accuracy: 1.0\n",
      "Model: 2 Accuracy: 0.9927007299270073\n",
      "Model: 3 Accuracy: 0.9854014598540146\n",
      "Model: 4 Accuracy: 0.9927007299270073\n",
      "Model: 5 Accuracy: 0.9927007299270073\n",
      "Model: 6 Accuracy: 1.0\n",
      "Model: 7 Accuracy: 1.0\n",
      "Model: 8 Accuracy: 0.9927007299270073\n",
      "Model: 9 Accuracy: 0.9927007299270073\n"
     ]
    }
   ],
   "source": [
    "for i in range(len(results)):\n",
    "    print('Model: '+str(i)+' Accuracy: '+str(results[i]))"
   ]
  }
 ],
 "metadata": {
  "kernelspec": {
   "display_name": "Python 3 (ipykernel)",
   "language": "python",
   "name": "python3"
  },
  "language_info": {
   "codemirror_mode": {
    "name": "ipython",
    "version": 3
   },
   "file_extension": ".py",
   "mimetype": "text/x-python",
   "name": "python",
   "nbconvert_exporter": "python",
   "pygments_lexer": "ipython3",
   "version": "3.9.7"
  }
 },
 "nbformat": 4,
 "nbformat_minor": 5
}
