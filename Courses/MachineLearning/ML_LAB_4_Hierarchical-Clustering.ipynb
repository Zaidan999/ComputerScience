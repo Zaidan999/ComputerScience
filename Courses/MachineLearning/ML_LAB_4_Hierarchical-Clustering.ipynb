{
 "cells": [
  {
   "cell_type": "markdown",
   "id": "71efc2aa",
   "metadata": {},
   "source": [
    "# Hierarchical Clustering"
   ]
  },
  {
   "cell_type": "markdown",
   "id": "4f16852f",
   "metadata": {},
   "source": [
    "## Zaidan Mufaddhal | AIU20092029"
   ]
  },
  {
   "cell_type": "markdown",
   "id": "e5c874a4",
   "metadata": {},
   "source": [
    "### 1. Data pre-processing step"
   ]
  },
  {
   "cell_type": "markdown",
   "id": "165be04b",
   "metadata": {},
   "source": [
    "#### Importing libraries"
   ]
  },
  {
   "cell_type": "code",
   "execution_count": 2,
   "id": "502e5696",
   "metadata": {},
   "outputs": [],
   "source": [
    "# Importing the libraries  \n",
    "import numpy as np  \n",
    "import matplotlib.pyplot as plt  \n",
    "import pandas as pd  "
   ]
  },
  {
   "cell_type": "markdown",
   "id": "e3d8d88d",
   "metadata": {},
   "source": [
    "#### Importing dataset"
   ]
  },
  {
   "cell_type": "code",
   "execution_count": 4,
   "id": "7c515a1c",
   "metadata": {},
   "outputs": [],
   "source": [
    "# Importing the dataset  \n",
    "rawdata = pd.read_csv('Downloads/ClusteringHSS.csv')  "
   ]
  },
  {
   "cell_type": "code",
   "execution_count": 5,
   "id": "e1f19a55",
   "metadata": {},
   "outputs": [
    {
     "data": {
      "text/html": [
       "<div>\n",
       "<style scoped>\n",
       "    .dataframe tbody tr th:only-of-type {\n",
       "        vertical-align: middle;\n",
       "    }\n",
       "\n",
       "    .dataframe tbody tr th {\n",
       "        vertical-align: top;\n",
       "    }\n",
       "\n",
       "    .dataframe thead th {\n",
       "        text-align: right;\n",
       "    }\n",
       "</style>\n",
       "<table border=\"1\" class=\"dataframe\">\n",
       "  <thead>\n",
       "    <tr style=\"text-align: right;\">\n",
       "      <th></th>\n",
       "      <th>ID</th>\n",
       "      <th>Gender_Code</th>\n",
       "      <th>Region</th>\n",
       "      <th>Income</th>\n",
       "      <th>Spending</th>\n",
       "    </tr>\n",
       "  </thead>\n",
       "  <tbody>\n",
       "    <tr>\n",
       "      <th>0</th>\n",
       "      <td>1</td>\n",
       "      <td>Female</td>\n",
       "      <td>Rural</td>\n",
       "      <td>20.0</td>\n",
       "      <td>15.0</td>\n",
       "    </tr>\n",
       "    <tr>\n",
       "      <th>1</th>\n",
       "      <td>2</td>\n",
       "      <td>Male</td>\n",
       "      <td>Rural</td>\n",
       "      <td>5.0</td>\n",
       "      <td>12.0</td>\n",
       "    </tr>\n",
       "    <tr>\n",
       "      <th>2</th>\n",
       "      <td>3</td>\n",
       "      <td>Female</td>\n",
       "      <td>Urban</td>\n",
       "      <td>28.0</td>\n",
       "      <td>18.0</td>\n",
       "    </tr>\n",
       "    <tr>\n",
       "      <th>3</th>\n",
       "      <td>4</td>\n",
       "      <td>Male</td>\n",
       "      <td>Urban</td>\n",
       "      <td>40.0</td>\n",
       "      <td>10.0</td>\n",
       "    </tr>\n",
       "    <tr>\n",
       "      <th>4</th>\n",
       "      <td>5</td>\n",
       "      <td>Male</td>\n",
       "      <td>Urban</td>\n",
       "      <td>42.0</td>\n",
       "      <td>9.0</td>\n",
       "    </tr>\n",
       "    <tr>\n",
       "      <th>...</th>\n",
       "      <td>...</td>\n",
       "      <td>...</td>\n",
       "      <td>...</td>\n",
       "      <td>...</td>\n",
       "      <td>...</td>\n",
       "    </tr>\n",
       "    <tr>\n",
       "      <th>1108</th>\n",
       "      <td>1109</td>\n",
       "      <td>Female</td>\n",
       "      <td>Urban</td>\n",
       "      <td>33.0</td>\n",
       "      <td>16.0</td>\n",
       "    </tr>\n",
       "    <tr>\n",
       "      <th>1109</th>\n",
       "      <td>1110</td>\n",
       "      <td>Male</td>\n",
       "      <td>Urban</td>\n",
       "      <td>48.0</td>\n",
       "      <td>7.0</td>\n",
       "    </tr>\n",
       "    <tr>\n",
       "      <th>1110</th>\n",
       "      <td>1111</td>\n",
       "      <td>Male</td>\n",
       "      <td>Urban</td>\n",
       "      <td>31.0</td>\n",
       "      <td>16.0</td>\n",
       "    </tr>\n",
       "    <tr>\n",
       "      <th>1111</th>\n",
       "      <td>1112</td>\n",
       "      <td>Male</td>\n",
       "      <td>Urban</td>\n",
       "      <td>50.0</td>\n",
       "      <td>14.0</td>\n",
       "    </tr>\n",
       "    <tr>\n",
       "      <th>1112</th>\n",
       "      <td>1113</td>\n",
       "      <td>Male</td>\n",
       "      <td>Urban</td>\n",
       "      <td>26.0</td>\n",
       "      <td>11.0</td>\n",
       "    </tr>\n",
       "  </tbody>\n",
       "</table>\n",
       "<p>1113 rows × 5 columns</p>\n",
       "</div>"
      ],
      "text/plain": [
       "        ID Gender_Code Region  Income  Spending\n",
       "0        1      Female  Rural    20.0      15.0\n",
       "1        2        Male  Rural     5.0      12.0\n",
       "2        3      Female  Urban    28.0      18.0\n",
       "3        4        Male  Urban    40.0      10.0\n",
       "4        5        Male  Urban    42.0       9.0\n",
       "...    ...         ...    ...     ...       ...\n",
       "1108  1109      Female  Urban    33.0      16.0\n",
       "1109  1110        Male  Urban    48.0       7.0\n",
       "1110  1111        Male  Urban    31.0      16.0\n",
       "1111  1112        Male  Urban    50.0      14.0\n",
       "1112  1113        Male  Urban    26.0      11.0\n",
       "\n",
       "[1113 rows x 5 columns]"
      ]
     },
     "execution_count": 5,
     "metadata": {},
     "output_type": "execute_result"
    }
   ],
   "source": [
    "rawdata"
   ]
  },
  {
   "cell_type": "markdown",
   "id": "8f3df5a3",
   "metadata": {},
   "source": [
    "#### Cleaning the null value"
   ]
  },
  {
   "cell_type": "code",
   "execution_count": 6,
   "id": "10dca56a",
   "metadata": {},
   "outputs": [
    {
     "data": {
      "text/plain": [
       "ID             0\n",
       "Gender_Code    6\n",
       "Region         6\n",
       "Income         6\n",
       "Spending       5\n",
       "dtype: int64"
      ]
     },
     "execution_count": 6,
     "metadata": {},
     "output_type": "execute_result"
    }
   ],
   "source": [
    "rawdata.isnull().sum()"
   ]
  },
  {
   "cell_type": "code",
   "execution_count": 7,
   "id": "6b56133d",
   "metadata": {},
   "outputs": [],
   "source": [
    "data = rawdata.dropna()"
   ]
  },
  {
   "cell_type": "code",
   "execution_count": 8,
   "id": "6158a252",
   "metadata": {},
   "outputs": [
    {
     "data": {
      "text/plain": [
       "ID             0\n",
       "Gender_Code    0\n",
       "Region         0\n",
       "Income         0\n",
       "Spending       0\n",
       "dtype: int64"
      ]
     },
     "execution_count": 8,
     "metadata": {},
     "output_type": "execute_result"
    }
   ],
   "source": [
    "data.isnull().sum()"
   ]
  },
  {
   "cell_type": "markdown",
   "id": "c23f7ec6",
   "metadata": {},
   "source": [
    "#### Extracting independent variables"
   ]
  },
  {
   "cell_type": "code",
   "execution_count": 9,
   "id": "c44c54a2",
   "metadata": {},
   "outputs": [],
   "source": [
    "x = data.iloc[:, [3, 4]].values "
   ]
  },
  {
   "cell_type": "code",
   "execution_count": 10,
   "id": "86fc979c",
   "metadata": {},
   "outputs": [
    {
     "data": {
      "text/plain": [
       "array([[20., 15.],\n",
       "       [ 5., 12.],\n",
       "       [28., 18.],\n",
       "       ...,\n",
       "       [31., 16.],\n",
       "       [50., 14.],\n",
       "       [26., 11.]])"
      ]
     },
     "execution_count": 10,
     "metadata": {},
     "output_type": "execute_result"
    }
   ],
   "source": [
    "x"
   ]
  },
  {
   "cell_type": "markdown",
   "id": "7764d961",
   "metadata": {},
   "source": [
    "### 2. Finding the optimal number of clusters using the dendogram method"
   ]
  },
  {
   "cell_type": "code",
   "execution_count": 23,
   "id": "06b9ba16",
   "metadata": {},
   "outputs": [
    {
     "data": {
      "image/png": "[encoded data removed]",
      "text/plain": [
       "<Figure size 432x288 with 1 Axes>"
      ]
     },
     "metadata": {
      "needs_background": "light"
     },
     "output_type": "display_data"
    }
   ],
   "source": [
    "#Finding the optimal number of clusters using the dendrogram  \n",
    "import scipy.cluster.hierarchy as shc  \n",
    "dendro = shc.dendrogram(shc.linkage(x, method=\"average\"))  \n",
    "plt.title(\"Dendrogrma Plot\")  \n",
    "plt.ylabel(\"Euclidean Distances\")  \n",
    "plt.xlabel(\"Customers\")  \n",
    "plt.show()  "
   ]
  },
  {
   "cell_type": "markdown",
   "id": "b5fa6fb6",
   "metadata": {},
   "source": [
    "### 3. Training the hierarchical algorithm on the training dataset"
   ]
  },
  {
   "cell_type": "code",
   "execution_count": 20,
   "id": "ba4e02f1",
   "metadata": {},
   "outputs": [],
   "source": [
    "#training the hierarchical model on dataset  \n",
    "from sklearn.cluster import AgglomerativeClustering  \n",
    "hc= AgglomerativeClustering(n_clusters=7, affinity='euclidean', linkage='average')  \n",
    "y_pred= hc.fit_predict(x) "
   ]
  },
  {
   "cell_type": "code",
   "execution_count": 21,
   "id": "5a3afd54",
   "metadata": {},
   "outputs": [
    {
     "data": {
      "text/plain": [
       "array([0, 6, 2, ..., 2, 1, 5], dtype=int64)"
      ]
     },
     "execution_count": 21,
     "metadata": {},
     "output_type": "execute_result"
    }
   ],
   "source": [
    "y_pred"
   ]
  },
  {
   "cell_type": "markdown",
   "id": "e13cd87f",
   "metadata": {},
   "source": [
    "### 4. Visualizing the clusters"
   ]
  },
  {
   "cell_type": "code",
   "execution_count": 22,
   "id": "15210b1d",
   "metadata": {},
   "outputs": [
    {
     "data": {
      "image/png": "[encoded data removed]",
      "text/plain": [
       "<Figure size 432x288 with 1 Axes>"
      ]
     },
     "metadata": {
      "needs_background": "light"
     },
     "output_type": "display_data"
    }
   ],
   "source": [
    "#visulaizing the clusters  \n",
    "plt.scatter(x[y_pred == 0, 0], x[y_pred == 0, 1], s = 100, c = 'blue', label = 'Cluster 1')  \n",
    "plt.scatter(x[y_pred == 1, 0], x[y_pred == 1, 1], s = 100, c = 'green', label = 'Cluster 2')  \n",
    "plt.scatter(x[y_pred== 2, 0], x[y_pred == 2, 1], s = 100, c = 'red', label = 'Cluster 3')  \n",
    "plt.scatter(x[y_pred == 3, 0], x[y_pred == 3, 1], s = 100, c = 'cyan', label = 'Cluster 4')  \n",
    "plt.scatter(x[y_pred == 4, 0], x[y_pred == 4, 1], s = 100, c = 'magenta', label = 'Cluster 5') \n",
    "plt.scatter(x[y_pred == 5, 0], x[y_pred == 5, 1], s = 100, c = 'brown', label = 'Cluster 6') \n",
    "plt.scatter(x[y_pred == 6, 0], x[y_pred == 6, 1], s = 100, c = 'pink', label = 'Cluster 7')\n",
    "plt.title('Clusters of customers')  \n",
    "plt.xlabel('Income')  \n",
    "plt.ylabel('Spending')  \n",
    "plt.legend(bbox_to_anchor = (1.05, 0.6))\n",
    "plt.show()  "
   ]
  }
 ],
 "metadata": {
  "kernelspec": {
   "display_name": "Python 3 (ipykernel)",
   "language": "python",
   "name": "python3"
  },
  "language_info": {
   "codemirror_mode": {
    "name": "ipython",
    "version": 3
   },
   "file_extension": ".py",
   "mimetype": "text/x-python",
   "name": "python",
   "nbconvert_exporter": "python",
   "pygments_lexer": "ipython3",
   "version": "3.9.7"
  }
 },
 "nbformat": 4,
 "nbformat_minor": 5
}
