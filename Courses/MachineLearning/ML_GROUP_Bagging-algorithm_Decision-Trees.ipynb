{
 "cells": [
  {
   "cell_type": "code",
   "execution_count": 22,
   "id": "4903075d",
   "metadata": {},
   "outputs": [],
   "source": [
    "from pandas import read_csv\n",
    "from sklearn.model_selection import KFold\n",
    "from sklearn.model_selection import cross_val_score\n",
    "\n",
    "#Decision Tree Classifier\n",
    "from sklearn.ensemble import BaggingClassifier\n",
    "from sklearn.tree import DecisionTreeClassifier"
   ]
  },
  {
   "cell_type": "code",
   "execution_count": 23,
   "id": "93a735fb",
   "metadata": {},
   "outputs": [],
   "source": [
    "filename = 'Downloads/data_banknote_authentication (1).csv'"
   ]
  },
  {
   "cell_type": "code",
   "execution_count": 24,
   "id": "cb808f6e",
   "metadata": {},
   "outputs": [],
   "source": [
    "names = ['Variance', 'Skewness', 'Kurtosis', 'Entropy', 'Class']\n",
    "dataframe = read_csv(filename, names=names)\n",
    "array = dataframe.values\n",
    "X = array[:,0:4]\n",
    "Y = array[:,4]"
   ]
  },
  {
   "cell_type": "code",
   "execution_count": 25,
   "id": "87237cb1",
   "metadata": {},
   "outputs": [],
   "source": [
    "seed = 7\n",
    "num_trees = 100\n",
    "kfold = KFold(n_splits=10, shuffle=True, random_state=seed)"
   ]
  },
  {
   "cell_type": "code",
   "execution_count": 37,
   "id": "bea481b1",
   "metadata": {},
   "outputs": [],
   "source": [
    "model = BaggingClassifier(\n",
    "    base_estimator=DecisionTreeClassifier(),\n",
    "    n_estimators=num_trees,\n",
    "    random_state=seed)"
   ]
  },
  {
   "cell_type": "code",
   "execution_count": 38,
   "id": "4e64d689",
   "metadata": {},
   "outputs": [
    {
     "name": "stdout",
     "output_type": "stream",
     "text": [
      "0.9890722521950703\n"
     ]
    }
   ],
   "source": [
    "results = cross_val_score(model, X, Y, cv=kfold)\n",
    "print(results.mean())"
   ]
  },
  {
   "cell_type": "code",
   "execution_count": 39,
   "id": "869d08be",
   "metadata": {
    "scrolled": true
   },
   "outputs": [
    {
     "name": "stdout",
     "output_type": "stream",
     "text": [
      "Model: 0 Accuracy: 0.9855072463768116\n",
      "Model: 1 Accuracy: 0.9855072463768116\n",
      "Model: 2 Accuracy: 0.9927007299270073\n",
      "Model: 3 Accuracy: 0.9708029197080292\n",
      "Model: 4 Accuracy: 0.9927007299270073\n",
      "Model: 5 Accuracy: 0.9927007299270073\n",
      "Model: 6 Accuracy: 1.0\n",
      "Model: 7 Accuracy: 0.9927007299270073\n",
      "Model: 8 Accuracy: 0.9854014598540146\n",
      "Model: 9 Accuracy: 0.9927007299270073\n"
     ]
    }
   ],
   "source": [
    "for i in range(len(results)):\n",
    "    print('Model: '+str(i)+' Accuracy: '+str(results[i]))"
   ]
  }
 ],
 "metadata": {
  "kernelspec": {
   "display_name": "Python 3 (ipykernel)",
   "language": "python",
   "name": "python3"
  },
  "language_info": {
   "codemirror_mode": {
    "name": "ipython",
    "version": 3
   },
   "file_extension": ".py",
   "mimetype": "text/x-python",
   "name": "python",
   "nbconvert_exporter": "python",
   "pygments_lexer": "ipython3",
   "version": "3.9.13"
  }
 },
 "nbformat": 4,
 "nbformat_minor": 5
}
