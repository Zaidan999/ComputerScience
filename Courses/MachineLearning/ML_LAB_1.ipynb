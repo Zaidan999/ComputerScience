{
 "cells": [
  {
   "cell_type": "markdown",
   "id": "67471066",
   "metadata": {},
   "source": [
    "## Name: Zaidan Mufaddhal\n",
    "## Student ID: AIU20092029"
   ]
  },
  {
   "cell_type": "code",
   "execution_count": 8,
   "id": "abc35af2",
   "metadata": {},
   "outputs": [],
   "source": [
    "#Importing libraries\n",
    "import numpy as np  \n",
    "import matplotlib.pyplot as plt  \n",
    "import pandas as pd  "
   ]
  },
  {
   "cell_type": "code",
   "execution_count": 9,
   "id": "e52748b1",
   "metadata": {},
   "outputs": [
    {
     "data": {
      "text/html": [
       "<div>\n",
       "<style scoped>\n",
       "    .dataframe tbody tr th:only-of-type {\n",
       "        vertical-align: middle;\n",
       "    }\n",
       "\n",
       "    .dataframe tbody tr th {\n",
       "        vertical-align: top;\n",
       "    }\n",
       "\n",
       "    .dataframe thead th {\n",
       "        text-align: right;\n",
       "    }\n",
       "</style>\n",
       "<table border=\"1\" class=\"dataframe\">\n",
       "  <thead>\n",
       "    <tr style=\"text-align: right;\">\n",
       "      <th></th>\n",
       "      <th>Date</th>\n",
       "      <th>Open</th>\n",
       "      <th>High</th>\n",
       "      <th>Low</th>\n",
       "      <th>Close</th>\n",
       "      <th>Adj Close</th>\n",
       "      <th>Volume</th>\n",
       "    </tr>\n",
       "  </thead>\n",
       "  <tbody>\n",
       "    <tr>\n",
       "      <th>0</th>\n",
       "      <td>2022-01-18</td>\n",
       "      <td>171.509995</td>\n",
       "      <td>172.539993</td>\n",
       "      <td>169.410004</td>\n",
       "      <td>169.800003</td>\n",
       "      <td>169.583939</td>\n",
       "      <td>90956700</td>\n",
       "    </tr>\n",
       "    <tr>\n",
       "      <th>1</th>\n",
       "      <td>2022-01-19</td>\n",
       "      <td>170.000000</td>\n",
       "      <td>171.080002</td>\n",
       "      <td>165.940002</td>\n",
       "      <td>166.229996</td>\n",
       "      <td>166.018478</td>\n",
       "      <td>94815000</td>\n",
       "    </tr>\n",
       "    <tr>\n",
       "      <th>2</th>\n",
       "      <td>2022-01-20</td>\n",
       "      <td>166.979996</td>\n",
       "      <td>169.679993</td>\n",
       "      <td>164.179993</td>\n",
       "      <td>164.509995</td>\n",
       "      <td>164.300659</td>\n",
       "      <td>91420500</td>\n",
       "    </tr>\n",
       "    <tr>\n",
       "      <th>3</th>\n",
       "      <td>2022-01-21</td>\n",
       "      <td>164.419998</td>\n",
       "      <td>166.330002</td>\n",
       "      <td>162.300003</td>\n",
       "      <td>162.410004</td>\n",
       "      <td>162.203354</td>\n",
       "      <td>122848900</td>\n",
       "    </tr>\n",
       "    <tr>\n",
       "      <th>4</th>\n",
       "      <td>2022-01-24</td>\n",
       "      <td>160.020004</td>\n",
       "      <td>162.300003</td>\n",
       "      <td>154.699997</td>\n",
       "      <td>161.619995</td>\n",
       "      <td>161.414337</td>\n",
       "      <td>162294600</td>\n",
       "    </tr>\n",
       "    <tr>\n",
       "      <th>...</th>\n",
       "      <td>...</td>\n",
       "      <td>...</td>\n",
       "      <td>...</td>\n",
       "      <td>...</td>\n",
       "      <td>...</td>\n",
       "      <td>...</td>\n",
       "      <td>...</td>\n",
       "    </tr>\n",
       "    <tr>\n",
       "      <th>57</th>\n",
       "      <td>2022-04-08</td>\n",
       "      <td>171.779999</td>\n",
       "      <td>171.779999</td>\n",
       "      <td>169.199997</td>\n",
       "      <td>170.089996</td>\n",
       "      <td>170.089996</td>\n",
       "      <td>76515900</td>\n",
       "    </tr>\n",
       "    <tr>\n",
       "      <th>58</th>\n",
       "      <td>2022-04-11</td>\n",
       "      <td>168.710007</td>\n",
       "      <td>169.029999</td>\n",
       "      <td>165.500000</td>\n",
       "      <td>165.750000</td>\n",
       "      <td>165.750000</td>\n",
       "      <td>72246700</td>\n",
       "    </tr>\n",
       "    <tr>\n",
       "      <th>59</th>\n",
       "      <td>2022-04-12</td>\n",
       "      <td>168.020004</td>\n",
       "      <td>169.869995</td>\n",
       "      <td>166.639999</td>\n",
       "      <td>167.660004</td>\n",
       "      <td>167.660004</td>\n",
       "      <td>79265200</td>\n",
       "    </tr>\n",
       "    <tr>\n",
       "      <th>60</th>\n",
       "      <td>2022-04-13</td>\n",
       "      <td>167.389999</td>\n",
       "      <td>171.039993</td>\n",
       "      <td>166.770004</td>\n",
       "      <td>170.399994</td>\n",
       "      <td>170.399994</td>\n",
       "      <td>70618900</td>\n",
       "    </tr>\n",
       "    <tr>\n",
       "      <th>61</th>\n",
       "      <td>2022-04-14</td>\n",
       "      <td>170.619995</td>\n",
       "      <td>171.270004</td>\n",
       "      <td>165.039993</td>\n",
       "      <td>165.289993</td>\n",
       "      <td>165.289993</td>\n",
       "      <td>75237500</td>\n",
       "    </tr>\n",
       "  </tbody>\n",
       "</table>\n",
       "<p>62 rows × 7 columns</p>\n",
       "</div>"
      ],
      "text/plain": [
       "          Date        Open        High         Low       Close   Adj Close  \\\n",
       "0   2022-01-18  171.509995  172.539993  169.410004  169.800003  169.583939   \n",
       "1   2022-01-19  170.000000  171.080002  165.940002  166.229996  166.018478   \n",
       "2   2022-01-20  166.979996  169.679993  164.179993  164.509995  164.300659   \n",
       "3   2022-01-21  164.419998  166.330002  162.300003  162.410004  162.203354   \n",
       "4   2022-01-24  160.020004  162.300003  154.699997  161.619995  161.414337   \n",
       "..         ...         ...         ...         ...         ...         ...   \n",
       "57  2022-04-08  171.779999  171.779999  169.199997  170.089996  170.089996   \n",
       "58  2022-04-11  168.710007  169.029999  165.500000  165.750000  165.750000   \n",
       "59  2022-04-12  168.020004  169.869995  166.639999  167.660004  167.660004   \n",
       "60  2022-04-13  167.389999  171.039993  166.770004  170.399994  170.399994   \n",
       "61  2022-04-14  170.619995  171.270004  165.039993  165.289993  165.289993   \n",
       "\n",
       "       Volume  \n",
       "0    90956700  \n",
       "1    94815000  \n",
       "2    91420500  \n",
       "3   122848900  \n",
       "4   162294600  \n",
       "..        ...  \n",
       "57   76515900  \n",
       "58   72246700  \n",
       "59   79265200  \n",
       "60   70618900  \n",
       "61   75237500  \n",
       "\n",
       "[62 rows x 7 columns]"
      ]
     },
     "execution_count": 9,
     "metadata": {},
     "output_type": "execute_result"
    }
   ],
   "source": [
    "#Original dataset\n",
    "datasetOriginal = pd.read_csv('Downloads/AAPL (1).csv')\n",
    "datasetOriginal"
   ]
  },
  {
   "cell_type": "code",
   "execution_count": 10,
   "id": "6d0f75e4",
   "metadata": {},
   "outputs": [],
   "source": [
    "#Dataset used for training and testing\n",
    "dataset=datasetOriginal[['Open','High','Low','Close']]"
   ]
  },
  {
   "cell_type": "code",
   "execution_count": 11,
   "id": "74e22910",
   "metadata": {},
   "outputs": [
    {
     "data": {
      "text/html": [
       "<div>\n",
       "<style scoped>\n",
       "    .dataframe tbody tr th:only-of-type {\n",
       "        vertical-align: middle;\n",
       "    }\n",
       "\n",
       "    .dataframe tbody tr th {\n",
       "        vertical-align: top;\n",
       "    }\n",
       "\n",
       "    .dataframe thead th {\n",
       "        text-align: right;\n",
       "    }\n",
       "</style>\n",
       "<table border=\"1\" class=\"dataframe\">\n",
       "  <thead>\n",
       "    <tr style=\"text-align: right;\">\n",
       "      <th></th>\n",
       "      <th>Open</th>\n",
       "      <th>High</th>\n",
       "      <th>Low</th>\n",
       "      <th>Close</th>\n",
       "    </tr>\n",
       "  </thead>\n",
       "  <tbody>\n",
       "    <tr>\n",
       "      <th>count</th>\n",
       "      <td>62.000000</td>\n",
       "      <td>62.000000</td>\n",
       "      <td>62.000000</td>\n",
       "      <td>62.000000</td>\n",
       "    </tr>\n",
       "    <tr>\n",
       "      <th>mean</th>\n",
       "      <td>167.475806</td>\n",
       "      <td>169.593871</td>\n",
       "      <td>165.282580</td>\n",
       "      <td>167.552420</td>\n",
       "    </tr>\n",
       "    <tr>\n",
       "      <th>std</th>\n",
       "      <td>6.524649</td>\n",
       "      <td>5.970880</td>\n",
       "      <td>6.822499</td>\n",
       "      <td>6.541811</td>\n",
       "    </tr>\n",
       "    <tr>\n",
       "      <th>min</th>\n",
       "      <td>150.899994</td>\n",
       "      <td>154.119995</td>\n",
       "      <td>150.100006</td>\n",
       "      <td>150.619995</td>\n",
       "    </tr>\n",
       "    <tr>\n",
       "      <th>25%</th>\n",
       "      <td>163.502499</td>\n",
       "      <td>165.194996</td>\n",
       "      <td>160.037495</td>\n",
       "      <td>163.004997</td>\n",
       "    </tr>\n",
       "    <tr>\n",
       "      <th>50%</th>\n",
       "      <td>168.245002</td>\n",
       "      <td>170.444999</td>\n",
       "      <td>166.065002</td>\n",
       "      <td>168.150001</td>\n",
       "    </tr>\n",
       "    <tr>\n",
       "      <th>75%</th>\n",
       "      <td>172.090000</td>\n",
       "      <td>174.130001</td>\n",
       "      <td>170.572495</td>\n",
       "      <td>172.729996</td>\n",
       "    </tr>\n",
       "    <tr>\n",
       "      <th>max</th>\n",
       "      <td>178.550003</td>\n",
       "      <td>179.610001</td>\n",
       "      <td>176.699997</td>\n",
       "      <td>178.960007</td>\n",
       "    </tr>\n",
       "  </tbody>\n",
       "</table>\n",
       "</div>"
      ],
      "text/plain": [
       "             Open        High         Low       Close\n",
       "count   62.000000   62.000000   62.000000   62.000000\n",
       "mean   167.475806  169.593871  165.282580  167.552420\n",
       "std      6.524649    5.970880    6.822499    6.541811\n",
       "min    150.899994  154.119995  150.100006  150.619995\n",
       "25%    163.502499  165.194996  160.037495  163.004997\n",
       "50%    168.245002  170.444999  166.065002  168.150001\n",
       "75%    172.090000  174.130001  170.572495  172.729996\n",
       "max    178.550003  179.610001  176.699997  178.960007"
      ]
     },
     "execution_count": 11,
     "metadata": {},
     "output_type": "execute_result"
    }
   ],
   "source": [
    "dataset.describe()"
   ]
  },
  {
   "cell_type": "code",
   "execution_count": 12,
   "id": "2260b5a1",
   "metadata": {},
   "outputs": [
    {
     "name": "stdout",
     "output_type": "stream",
     "text": [
      "<class 'pandas.core.frame.DataFrame'>\n",
      "RangeIndex: 62 entries, 0 to 61\n",
      "Data columns (total 4 columns):\n",
      " #   Column  Non-Null Count  Dtype  \n",
      "---  ------  --------------  -----  \n",
      " 0   Open    62 non-null     float64\n",
      " 1   High    62 non-null     float64\n",
      " 2   Low     62 non-null     float64\n",
      " 3   Close   62 non-null     float64\n",
      "dtypes: float64(4)\n",
      "memory usage: 2.1 KB\n"
     ]
    }
   ],
   "source": [
    "dataset.info()"
   ]
  },
  {
   "cell_type": "code",
   "execution_count": 14,
   "id": "241186f9",
   "metadata": {},
   "outputs": [],
   "source": [
    "#Extracting Independent and dependent Variable \n",
    "#Independent variables are Open, High, and Low\n",
    "#Dependent variable is Close\n",
    "x = dataset.iloc[:, :-1].values\n",
    "y = dataset.iloc[:, -1].values "
   ]
  },
  {
   "cell_type": "code",
   "execution_count": 15,
   "id": "e09bcb6e",
   "metadata": {},
   "outputs": [
    {
     "name": "stdout",
     "output_type": "stream",
     "text": [
      "[[171.509995 172.539993 169.410004]\n",
      " [170.       171.080002 165.940002]\n",
      " [166.979996 169.679993 164.179993]\n",
      " [164.419998 166.330002 162.300003]\n",
      " [160.020004 162.300003 154.699997]\n",
      " [158.979996 162.759995 157.020004]\n",
      " [163.5      164.389999 157.820007]\n",
      " [162.449997 163.839996 158.279999]\n",
      " [165.710007 170.350006 162.800003]\n",
      " [170.160004 175.       169.509995]\n",
      " [174.009995 174.839996 172.309998]\n",
      " [174.75     175.880005 173.330002]\n",
      " [174.479996 176.240005 172.119995]\n",
      " [171.679993 174.100006 170.679993]\n",
      " [172.860001 173.949997 170.949997]\n",
      " [171.729996 175.350006 171.429993]\n",
      " [176.050003 176.649994 174.899994]\n",
      " [174.139999 175.479996 171.550003]\n",
      " [172.330002 173.080002 168.039993]\n",
      " [167.369995 169.580002 166.559998]\n",
      " [170.970001 172.949997 170.25    ]\n",
      " [171.850006 173.339996 170.050003]\n",
      " [171.029999 171.910004 168.470001]\n",
      " [169.820007 170.539993 166.190002]\n",
      " [164.979996 166.690002 162.149994]\n",
      " [165.539993 166.149994 159.75    ]\n",
      " [152.580002 162.850006 152.      ]\n",
      " [163.839996 165.119995 160.869995]\n",
      " [163.059998 165.419998 162.429993]\n",
      " [164.699997 166.600006 161.970001]\n",
      " [164.389999 167.360001 162.949997]\n",
      " [168.470001 168.910004 165.550003]\n",
      " [164.490005 165.550003 162.100006]\n",
      " [163.360001 165.020004 159.039993]\n",
      " [158.820007 162.880005 155.800003]\n",
      " [161.479996 163.410004 159.410004]\n",
      " [160.199997 160.389999 155.979996]\n",
      " [158.929993 159.279999 154.5     ]\n",
      " [151.449997 154.119995 150.100006]\n",
      " [150.899994 155.570007 150.380005]\n",
      " [157.050003 160.       154.460007]\n",
      " [158.610001 161.       157.630005]\n",
      " [160.509995 164.479996 159.759995]\n",
      " [163.509995 166.350006 163.009995]\n",
      " [165.509995 169.419998 164.910004]\n",
      " [167.990005 172.639999 167.649994]\n",
      " [171.059998 174.139999 170.210007]\n",
      " [173.880005 175.279999 172.75    ]\n",
      " [172.169998 175.729996 172.      ]\n",
      " [176.690002 179.009995 176.339996]\n",
      " [178.550003 179.610001 176.699997]\n",
      " [177.839996 178.029999 174.399994]\n",
      " [174.029999 174.880005 171.940002]\n",
      " [174.570007 178.490005 174.440002]\n",
      " [177.5      178.300003 174.419998]\n",
      " [172.360001 173.630005 170.130005]\n",
      " [171.160004 173.360001 169.850006]\n",
      " [171.779999 171.779999 169.199997]\n",
      " [168.710007 169.029999 165.5     ]\n",
      " [168.020004 169.869995 166.639999]\n",
      " [167.389999 171.039993 166.770004]\n",
      " [170.619995 171.270004 165.039993]]\n"
     ]
    }
   ],
   "source": [
    "print(x)"
   ]
  },
  {
   "cell_type": "code",
   "execution_count": 16,
   "id": "554a2fda",
   "metadata": {},
   "outputs": [
    {
     "name": "stdout",
     "output_type": "stream",
     "text": [
      "[169.800003 166.229996 164.509995 162.410004 161.619995 159.779999\n",
      " 159.690002 159.220001 170.330002 174.779999 174.610001 175.839996\n",
      " 172.899994 172.389999 171.660004 174.830002 176.279999 172.119995\n",
      " 168.639999 168.880005 172.789993 172.550003 168.880005 167.300003\n",
      " 164.320007 160.070007 162.740005 164.850006 165.119995 163.199997\n",
      " 166.559998 166.229996 163.169998 159.300003 157.440002 162.949997\n",
      " 158.520004 154.729996 150.619995 155.089996 159.589996 160.619995\n",
      " 163.979996 165.380005 168.820007 170.210007 174.070007 174.720001\n",
      " 175.600006 178.960007 177.770004 174.610001 174.309998 178.440002\n",
      " 175.059998 171.830002 172.139999 170.089996 165.75     167.660004\n",
      " 170.399994 165.289993]\n"
     ]
    }
   ],
   "source": [
    "print(y)"
   ]
  },
  {
   "cell_type": "code",
   "execution_count": 106,
   "id": "c55f0eb8",
   "metadata": {},
   "outputs": [],
   "source": [
    "# Splitting the dataset into training and test set. \n",
    "# Splitting into 70% as training set, 30% as test set\n",
    "from sklearn.model_selection import train_test_split  \n",
    "x_train, x_test, y_train, y_test= train_test_split(x, y, test_size= 0.3, random_state=0)  "
   ]
  },
  {
   "cell_type": "code",
   "execution_count": 107,
   "id": "42946d7c",
   "metadata": {},
   "outputs": [
    {
     "data": {
      "text/plain": [
       "array([[172.860001, 173.949997, 170.949997],\n",
       "       [174.029999, 174.880005, 171.940002],\n",
       "       [171.029999, 171.910004, 168.470001],\n",
       "       [168.470001, 168.910004, 165.550003],\n",
       "       [160.509995, 164.479996, 159.759995],\n",
       "       [157.050003, 160.      , 154.460007],\n",
       "       [171.160004, 173.360001, 169.850006],\n",
       "       [172.330002, 173.080002, 168.039993],\n",
       "       [168.710007, 169.029999, 165.5     ],\n",
       "       [164.699997, 166.600006, 161.970001],\n",
       "       [171.729996, 175.350006, 171.429993],\n",
       "       [158.979996, 162.759995, 157.020004],\n",
       "       [168.020004, 169.869995, 166.639999],\n",
       "       [176.050003, 176.649994, 174.899994],\n",
       "       [170.970001, 172.949997, 170.25    ],\n",
       "       [177.5     , 178.300003, 174.419998],\n",
       "       [165.710007, 170.350006, 162.800003],\n",
       "       [171.679993, 174.100006, 170.679993],\n",
       "       [165.539993, 166.149994, 159.75    ],\n",
       "       [158.929993, 159.279999, 154.5     ],\n",
       "       [174.139999, 175.479996, 171.550003],\n",
       "       [171.059998, 174.139999, 170.210007],\n",
       "       [176.690002, 179.009995, 176.339996],\n",
       "       [172.360001, 173.630005, 170.130005],\n",
       "       [151.449997, 154.119995, 150.100006],\n",
       "       [170.      , 171.080002, 165.940002],\n",
       "       [174.479996, 176.240005, 172.119995],\n",
       "       [167.389999, 171.039993, 166.770004],\n",
       "       [164.979996, 166.690002, 162.149994],\n",
       "       [163.5     , 164.389999, 157.820007],\n",
       "       [169.820007, 170.539993, 166.190002],\n",
       "       [160.199997, 160.389999, 155.979996],\n",
       "       [178.550003, 179.610001, 176.699997],\n",
       "       [171.850006, 173.339996, 170.050003],\n",
       "       [167.369995, 169.580002, 166.559998],\n",
       "       [170.160004, 175.      , 169.509995],\n",
       "       [150.899994, 155.570007, 150.380005],\n",
       "       [171.779999, 171.779999, 169.199997],\n",
       "       [164.419998, 166.330002, 162.300003],\n",
       "       [171.509995, 172.539993, 169.410004],\n",
       "       [174.570007, 178.490005, 174.440002],\n",
       "       [173.880005, 175.279999, 172.75    ],\n",
       "       [165.509995, 169.419998, 164.910004]])"
      ]
     },
     "execution_count": 107,
     "metadata": {},
     "output_type": "execute_result"
    }
   ],
   "source": [
    "x_train"
   ]
  },
  {
   "cell_type": "code",
   "execution_count": 108,
   "id": "78740faa",
   "metadata": {},
   "outputs": [
    {
     "data": {
      "text/plain": [
       "array([[164.389999, 167.360001, 162.949997],\n",
       "       [164.490005, 165.550003, 162.100006],\n",
       "       [163.360001, 165.020004, 159.039993],\n",
       "       [172.169998, 175.729996, 172.      ],\n",
       "       [177.839996, 178.029999, 174.399994],\n",
       "       [161.479996, 163.410004, 159.410004],\n",
       "       [174.75    , 175.880005, 173.330002],\n",
       "       [167.990005, 172.639999, 167.649994],\n",
       "       [166.979996, 169.679993, 164.179993],\n",
       "       [163.509995, 166.350006, 163.009995],\n",
       "       [152.580002, 162.850006, 152.      ],\n",
       "       [160.020004, 162.300003, 154.699997],\n",
       "       [174.009995, 174.839996, 172.309998],\n",
       "       [158.610001, 161.      , 157.630005],\n",
       "       [163.059998, 165.419998, 162.429993],\n",
       "       [158.820007, 162.880005, 155.800003],\n",
       "       [170.619995, 171.270004, 165.039993],\n",
       "       [163.839996, 165.119995, 160.869995],\n",
       "       [162.449997, 163.839996, 158.279999]])"
      ]
     },
     "execution_count": 108,
     "metadata": {},
     "output_type": "execute_result"
    }
   ],
   "source": [
    "x_test"
   ]
  },
  {
   "cell_type": "code",
   "execution_count": 109,
   "id": "fa52b8d6",
   "metadata": {},
   "outputs": [],
   "source": [
    "#Fitting the MLR model to the training set  \n",
    "from sklearn.linear_model import LinearRegression  "
   ]
  },
  {
   "cell_type": "code",
   "execution_count": 111,
   "id": "f7080fa4",
   "metadata": {},
   "outputs": [
    {
     "data": {
      "text/plain": [
       "LinearRegression()"
      ]
     },
     "execution_count": 111,
     "metadata": {},
     "output_type": "execute_result"
    }
   ],
   "source": [
    "regressor= LinearRegression()\n",
    "regressor.fit(x_train, y_train) "
   ]
  },
  {
   "cell_type": "code",
   "execution_count": 112,
   "id": "02441b04",
   "metadata": {},
   "outputs": [],
   "source": [
    "#Predicting the Test set result \n",
    "y_pred= regressor.predict(x_test)  "
   ]
  },
  {
   "cell_type": "code",
   "execution_count": 113,
   "id": "0847c178",
   "metadata": {},
   "outputs": [
    {
     "data": {
      "text/plain": [
       "array([165.98731625, 163.04914973, 161.11729258, 175.67020996,\n",
       "       174.8904301 , 161.25689616, 174.41803069, 172.56254041,\n",
       "       167.2663436 , 165.65559353, 163.3380171 , 157.66160108,\n",
       "       173.07937932, 159.71040647, 164.51371116, 160.3599524 ,\n",
       "       166.37507117, 162.19780798, 159.97358352])"
      ]
     },
     "execution_count": 113,
     "metadata": {},
     "output_type": "execute_result"
    }
   ],
   "source": [
    "y_pred"
   ]
  },
  {
   "cell_type": "code",
   "execution_count": 114,
   "id": "45240e50",
   "metadata": {},
   "outputs": [
    {
     "data": {
      "text/plain": [
       "array([166.559998, 163.169998, 159.300003, 175.600006, 174.610001,\n",
       "       162.949997, 175.839996, 170.210007, 164.509995, 165.380005,\n",
       "       162.740005, 161.619995, 174.610001, 160.619995, 165.119995,\n",
       "       157.440002, 165.289993, 164.850006, 159.220001])"
      ]
     },
     "execution_count": 114,
     "metadata": {},
     "output_type": "execute_result"
    }
   ],
   "source": [
    "y_test"
   ]
  },
  {
   "cell_type": "code",
   "execution_count": 115,
   "id": "7be14ba5",
   "metadata": {},
   "outputs": [],
   "source": [
    "#Predicting the Train set result\n",
    "y_tpred=regressor.predict(x_train)"
   ]
  },
  {
   "cell_type": "code",
   "execution_count": 116,
   "id": "9ddc45b4",
   "metadata": {},
   "outputs": [
    {
     "data": {
      "text/plain": [
       "array([172.04977169, 172.82179838, 169.41401482, 165.97608437,\n",
       "       163.74554005, 157.53686714, 172.10891375, 169.2509265 ,\n",
       "       165.85290552, 164.01476121, 175.19016906, 161.00787254,\n",
       "       168.40890299, 175.32232098, 172.1056667 , 175.55641637,\n",
       "       168.21812043, 173.14843991, 160.94905177, 154.90370316,\n",
       "       173.13843028, 173.42455555, 178.67465834, 171.50568116,\n",
       "       152.41121893, 167.43544026, 174.17248917, 170.52301903,\n",
       "       163.99544158, 159.27793779, 167.14952513, 156.17714551,\n",
       "       177.90128761, 171.58081307, 168.61777057, 174.77920719,\n",
       "       154.90303798, 169.1066462 , 164.2121384 , 170.44425542,\n",
       "       178.5993621 , 174.07542684, 168.92227951])"
      ]
     },
     "execution_count": 116,
     "metadata": {},
     "output_type": "execute_result"
    }
   ],
   "source": [
    "y_tpred"
   ]
  },
  {
   "cell_type": "code",
   "execution_count": 117,
   "id": "2656372c",
   "metadata": {},
   "outputs": [
    {
     "data": {
      "text/plain": [
       "array([171.660004, 174.309998, 168.880005, 166.229996, 163.979996,\n",
       "       159.589996, 172.139999, 168.639999, 165.75    , 163.199997,\n",
       "       174.830002, 159.779999, 167.660004, 176.279999, 172.789993,\n",
       "       175.059998, 170.330002, 172.389999, 160.070007, 154.729996,\n",
       "       172.119995, 174.070007, 178.960007, 171.830002, 150.619995,\n",
       "       166.229996, 172.899994, 170.399994, 164.320007, 159.690002,\n",
       "       167.300003, 158.520004, 177.770004, 172.550003, 168.880005,\n",
       "       174.779999, 155.089996, 170.089996, 162.410004, 169.800003,\n",
       "       178.440002, 174.720001, 168.820007])"
      ]
     },
     "execution_count": 117,
     "metadata": {},
     "output_type": "execute_result"
    }
   ],
   "source": [
    "y_train"
   ]
  },
  {
   "cell_type": "code",
   "execution_count": 118,
   "id": "a8be3c20",
   "metadata": {},
   "outputs": [
    {
     "name": "stdout",
     "output_type": "stream",
     "text": [
      "Train Score:  0.9804723399199823\n",
      "Test Score:  0.9021250696977647\n"
     ]
    }
   ],
   "source": [
    "#Printing the Train set and Test set scores\n",
    "print('Train Score: ', regressor.score(x_train, y_train))  \n",
    "print('Test Score: ', regressor.score(x_test, y_test))  "
   ]
  },
  {
   "cell_type": "code",
   "execution_count": 119,
   "id": "fa904972",
   "metadata": {},
   "outputs": [
    {
     "name": "stdout",
     "output_type": "stream",
     "text": [
      "Linear regressor performance:\n",
      "R2 score = 0.9\n"
     ]
    }
   ],
   "source": [
    "import sklearn.metrics as sm\n",
    "\n",
    "# Compute performance metrics\n",
    "print(\"Linear regressor performance:\")\n",
    "print(\"R2 score =\", round(sm.r2_score(y_test, y_pred), 2))"
   ]
  },
  {
   "cell_type": "markdown",
   "id": "126c3103",
   "metadata": {},
   "source": [
    "*So, the Linear Regressor performance is 90% Accuracy*"
   ]
  },
  {
   "cell_type": "markdown",
   "id": "38cdf506",
   "metadata": {},
   "source": [
    "## Visualize the original dataset"
   ]
  },
  {
   "cell_type": "code",
   "execution_count": 137,
   "id": "69019d33",
   "metadata": {},
   "outputs": [],
   "source": [
    "import numpy as np  \n",
    "from bokeh.plotting import figure, output_file, show"
   ]
  },
  {
   "cell_type": "code",
   "execution_count": 138,
   "id": "295401db",
   "metadata": {},
   "outputs": [],
   "source": [
    "# instantiating the figure object\n",
    "graph = figure(x_axis_type = \"datetime\", title = \"Apple Stock Closing Prices\")"
   ]
  },
  {
   "cell_type": "code",
   "execution_count": 139,
   "id": "338de250",
   "metadata": {},
   "outputs": [],
   "source": [
    "# name of the x-axis\n",
    "graph.xaxis.axis_label = 'Date'\n",
    "   \n",
    "# name of the y-axis\n",
    "graph.yaxis.axis_label = 'Price (in USD)'"
   ]
  },
  {
   "cell_type": "code",
   "execution_count": 140,
   "id": "e9b6bd4d",
   "metadata": {},
   "outputs": [],
   "source": [
    "#Combining the original dataset of testing and training\n",
    "import pandas as pd\n",
    "originalResult = np.concatenate((y_train, y_test))"
   ]
  },
  {
   "cell_type": "code",
   "execution_count": 141,
   "id": "6920bd2f",
   "metadata": {},
   "outputs": [
    {
     "data": {
      "text/html": [
       "<div style=\"display: table;\"><div style=\"display: table-row;\"><div style=\"display: table-cell;\"><b title=\"bokeh.models.renderers.GlyphRenderer\">GlyphRenderer</b>(</div><div style=\"display: table-cell;\">id&nbsp;=&nbsp;'5035', <span id=\"5062\" style=\"cursor: pointer;\">&hellip;)</span></div></div><div class=\"5061\" style=\"display: none;\"><div style=\"display: table-cell;\"></div><div style=\"display: table-cell;\">coordinates&nbsp;=&nbsp;None,</div></div><div class=\"5061\" style=\"display: none;\"><div style=\"display: table-cell;\"></div><div style=\"display: table-cell;\">data_source&nbsp;=&nbsp;ColumnDataSource(id='5031', ...),</div></div><div class=\"5061\" style=\"display: none;\"><div style=\"display: table-cell;\"></div><div style=\"display: table-cell;\">glyph&nbsp;=&nbsp;Line(id='5032', ...),</div></div><div class=\"5061\" style=\"display: none;\"><div style=\"display: table-cell;\"></div><div style=\"display: table-cell;\">group&nbsp;=&nbsp;None,</div></div><div class=\"5061\" style=\"display: none;\"><div style=\"display: table-cell;\"></div><div style=\"display: table-cell;\">hover_glyph&nbsp;=&nbsp;None,</div></div><div class=\"5061\" style=\"display: none;\"><div style=\"display: table-cell;\"></div><div style=\"display: table-cell;\">js_event_callbacks&nbsp;=&nbsp;{},</div></div><div class=\"5061\" style=\"display: none;\"><div style=\"display: table-cell;\"></div><div style=\"display: table-cell;\">js_property_callbacks&nbsp;=&nbsp;{},</div></div><div class=\"5061\" style=\"display: none;\"><div style=\"display: table-cell;\"></div><div style=\"display: table-cell;\">level&nbsp;=&nbsp;'glyph',</div></div><div class=\"5061\" style=\"display: none;\"><div style=\"display: table-cell;\"></div><div style=\"display: table-cell;\">muted&nbsp;=&nbsp;False,</div></div><div class=\"5061\" style=\"display: none;\"><div style=\"display: table-cell;\"></div><div style=\"display: table-cell;\">muted_glyph&nbsp;=&nbsp;Line(id='5034', ...),</div></div><div class=\"5061\" style=\"display: none;\"><div style=\"display: table-cell;\"></div><div style=\"display: table-cell;\">name&nbsp;=&nbsp;None,</div></div><div class=\"5061\" style=\"display: none;\"><div style=\"display: table-cell;\"></div><div style=\"display: table-cell;\">nonselection_glyph&nbsp;=&nbsp;Line(id='5033', ...),</div></div><div class=\"5061\" style=\"display: none;\"><div style=\"display: table-cell;\"></div><div style=\"display: table-cell;\">selection_glyph&nbsp;=&nbsp;'auto',</div></div><div class=\"5061\" style=\"display: none;\"><div style=\"display: table-cell;\"></div><div style=\"display: table-cell;\">subscribed_events&nbsp;=&nbsp;[],</div></div><div class=\"5061\" style=\"display: none;\"><div style=\"display: table-cell;\"></div><div style=\"display: table-cell;\">syncable&nbsp;=&nbsp;True,</div></div><div class=\"5061\" style=\"display: none;\"><div style=\"display: table-cell;\"></div><div style=\"display: table-cell;\">tags&nbsp;=&nbsp;[],</div></div><div class=\"5061\" style=\"display: none;\"><div style=\"display: table-cell;\"></div><div style=\"display: table-cell;\">view&nbsp;=&nbsp;CDSView(id='5036', ...),</div></div><div class=\"5061\" style=\"display: none;\"><div style=\"display: table-cell;\"></div><div style=\"display: table-cell;\">visible&nbsp;=&nbsp;True,</div></div><div class=\"5061\" style=\"display: none;\"><div style=\"display: table-cell;\"></div><div style=\"display: table-cell;\">x_range_name&nbsp;=&nbsp;'default',</div></div><div class=\"5061\" style=\"display: none;\"><div style=\"display: table-cell;\"></div><div style=\"display: table-cell;\">y_range_name&nbsp;=&nbsp;'default')</div></div></div>\n",
       "<script>\n",
       "(function() {\n",
       "  let expanded = false;\n",
       "  const ellipsis = document.getElementById(\"5062\");\n",
       "  ellipsis.addEventListener(\"click\", function() {\n",
       "    const rows = document.getElementsByClassName(\"5061\");\n",
       "    for (let i = 0; i < rows.length; i++) {\n",
       "      const el = rows[i];\n",
       "      el.style.display = expanded ? \"none\" : \"table-row\";\n",
       "    }\n",
       "    ellipsis.innerHTML = expanded ? \"&hellip;)\" : \"&lsaquo;&lsaquo;&lsaquo;\";\n",
       "    expanded = !expanded;\n",
       "  });\n",
       "})();\n",
       "</script>\n"
      ],
      "text/plain": [
       "GlyphRenderer(id='5035', ...)"
      ]
     },
     "execution_count": 141,
     "metadata": {},
     "output_type": "execute_result"
    }
   ],
   "source": [
    "# plotting the line graph for Original Dataset\n",
    "x_axis_coordinates = np.array(datasetOriginal['Date'], dtype = np.datetime64)\n",
    "y_axis_coordinates = originalResult\n",
    "color = \"blue\"\n",
    "legend_label = 'Original'\n",
    "graph.line(x_axis_coordinates,\n",
    "        y_axis_coordinates,\n",
    "        color = color,\n",
    "        legend_label = legend_label)"
   ]
  },
  {
   "cell_type": "markdown",
   "id": "1f4a114f",
   "metadata": {},
   "source": [
    "## Visualize the predicted dataset"
   ]
  },
  {
   "cell_type": "code",
   "execution_count": 142,
   "id": "3efeb7a7",
   "metadata": {},
   "outputs": [],
   "source": [
    "#Combining the prediction data of testing and training\n",
    "import pandas as pd\n",
    "predictionResult = np.concatenate((y_tpred, y_pred))"
   ]
  },
  {
   "cell_type": "code",
   "execution_count": 143,
   "id": "3cdaf62b",
   "metadata": {},
   "outputs": [
    {
     "data": {
      "text/html": [
       "<div style=\"display: table;\"><div style=\"display: table-row;\"><div style=\"display: table-cell;\"><b title=\"bokeh.models.renderers.GlyphRenderer\">GlyphRenderer</b>(</div><div style=\"display: table-cell;\">id&nbsp;=&nbsp;'5067', <span id=\"5095\" style=\"cursor: pointer;\">&hellip;)</span></div></div><div class=\"5094\" style=\"display: none;\"><div style=\"display: table-cell;\"></div><div style=\"display: table-cell;\">coordinates&nbsp;=&nbsp;None,</div></div><div class=\"5094\" style=\"display: none;\"><div style=\"display: table-cell;\"></div><div style=\"display: table-cell;\">data_source&nbsp;=&nbsp;ColumnDataSource(id='5063', ...),</div></div><div class=\"5094\" style=\"display: none;\"><div style=\"display: table-cell;\"></div><div style=\"display: table-cell;\">glyph&nbsp;=&nbsp;Line(id='5064', ...),</div></div><div class=\"5094\" style=\"display: none;\"><div style=\"display: table-cell;\"></div><div style=\"display: table-cell;\">group&nbsp;=&nbsp;None,</div></div><div class=\"5094\" style=\"display: none;\"><div style=\"display: table-cell;\"></div><div style=\"display: table-cell;\">hover_glyph&nbsp;=&nbsp;None,</div></div><div class=\"5094\" style=\"display: none;\"><div style=\"display: table-cell;\"></div><div style=\"display: table-cell;\">js_event_callbacks&nbsp;=&nbsp;{},</div></div><div class=\"5094\" style=\"display: none;\"><div style=\"display: table-cell;\"></div><div style=\"display: table-cell;\">js_property_callbacks&nbsp;=&nbsp;{},</div></div><div class=\"5094\" style=\"display: none;\"><div style=\"display: table-cell;\"></div><div style=\"display: table-cell;\">level&nbsp;=&nbsp;'glyph',</div></div><div class=\"5094\" style=\"display: none;\"><div style=\"display: table-cell;\"></div><div style=\"display: table-cell;\">muted&nbsp;=&nbsp;False,</div></div><div class=\"5094\" style=\"display: none;\"><div style=\"display: table-cell;\"></div><div style=\"display: table-cell;\">muted_glyph&nbsp;=&nbsp;Line(id='5066', ...),</div></div><div class=\"5094\" style=\"display: none;\"><div style=\"display: table-cell;\"></div><div style=\"display: table-cell;\">name&nbsp;=&nbsp;None,</div></div><div class=\"5094\" style=\"display: none;\"><div style=\"display: table-cell;\"></div><div style=\"display: table-cell;\">nonselection_glyph&nbsp;=&nbsp;Line(id='5065', ...),</div></div><div class=\"5094\" style=\"display: none;\"><div style=\"display: table-cell;\"></div><div style=\"display: table-cell;\">selection_glyph&nbsp;=&nbsp;'auto',</div></div><div class=\"5094\" style=\"display: none;\"><div style=\"display: table-cell;\"></div><div style=\"display: table-cell;\">subscribed_events&nbsp;=&nbsp;[],</div></div><div class=\"5094\" style=\"display: none;\"><div style=\"display: table-cell;\"></div><div style=\"display: table-cell;\">syncable&nbsp;=&nbsp;True,</div></div><div class=\"5094\" style=\"display: none;\"><div style=\"display: table-cell;\"></div><div style=\"display: table-cell;\">tags&nbsp;=&nbsp;[],</div></div><div class=\"5094\" style=\"display: none;\"><div style=\"display: table-cell;\"></div><div style=\"display: table-cell;\">view&nbsp;=&nbsp;CDSView(id='5068', ...),</div></div><div class=\"5094\" style=\"display: none;\"><div style=\"display: table-cell;\"></div><div style=\"display: table-cell;\">visible&nbsp;=&nbsp;True,</div></div><div class=\"5094\" style=\"display: none;\"><div style=\"display: table-cell;\"></div><div style=\"display: table-cell;\">x_range_name&nbsp;=&nbsp;'default',</div></div><div class=\"5094\" style=\"display: none;\"><div style=\"display: table-cell;\"></div><div style=\"display: table-cell;\">y_range_name&nbsp;=&nbsp;'default')</div></div></div>\n",
       "<script>\n",
       "(function() {\n",
       "  let expanded = false;\n",
       "  const ellipsis = document.getElementById(\"5095\");\n",
       "  ellipsis.addEventListener(\"click\", function() {\n",
       "    const rows = document.getElementsByClassName(\"5094\");\n",
       "    for (let i = 0; i < rows.length; i++) {\n",
       "      const el = rows[i];\n",
       "      el.style.display = expanded ? \"none\" : \"table-row\";\n",
       "    }\n",
       "    ellipsis.innerHTML = expanded ? \"&hellip;)\" : \"&lsaquo;&lsaquo;&lsaquo;\";\n",
       "    expanded = !expanded;\n",
       "  });\n",
       "})();\n",
       "</script>\n"
      ],
      "text/plain": [
       "GlyphRenderer(id='5067', ...)"
      ]
     },
     "execution_count": 143,
     "metadata": {},
     "output_type": "execute_result"
    }
   ],
   "source": [
    "# plotting the line graph for Original Dataset\n",
    "x_axis_coordinates = np.array(datasetOriginal['Date'], dtype = np.datetime64)\n",
    "y_axis_coordinates = predictionResult\n",
    "color = \"red\"\n",
    "legend_label = 'Prediction'\n",
    "graph.line(x_axis_coordinates,\n",
    "        y_axis_coordinates,\n",
    "        color = color,\n",
    "        legend_label = legend_label)"
   ]
  },
  {
   "cell_type": "code",
   "execution_count": 144,
   "id": "9dba3d30",
   "metadata": {},
   "outputs": [],
   "source": [
    "graph.legend.location = \"top_left\""
   ]
  },
  {
   "cell_type": "code",
   "execution_count": 145,
   "id": "56998198",
   "metadata": {},
   "outputs": [],
   "source": [
    "show(graph)"
   ]
  },
  {
   "cell_type": "code",
   "execution_count": 130,
   "id": "e80ce55f",
   "metadata": {},
   "outputs": [
    {
     "data": {
      "text/plain": [
       "array([172.04977169, 172.82179838, 169.41401482, 165.97608437,\n",
       "       163.74554005, 157.53686714, 172.10891375, 169.2509265 ,\n",
       "       165.85290552, 164.01476121, 175.19016906, 161.00787254,\n",
       "       168.40890299, 175.32232098, 172.1056667 , 175.55641637,\n",
       "       168.21812043, 173.14843991, 160.94905177, 154.90370316,\n",
       "       173.13843028, 173.42455555, 178.67465834, 171.50568116,\n",
       "       152.41121893, 167.43544026, 174.17248917, 170.52301903,\n",
       "       163.99544158, 159.27793779, 167.14952513, 156.17714551,\n",
       "       177.90128761, 171.58081307, 168.61777057, 174.77920719,\n",
       "       154.90303798, 169.1066462 , 164.2121384 , 170.44425542,\n",
       "       178.5993621 , 174.07542684, 168.92227951, 165.98731625,\n",
       "       163.04914973, 161.11729258, 175.67020996, 174.8904301 ,\n",
       "       161.25689616, 174.41803069, 172.56254041, 167.2663436 ,\n",
       "       165.65559353, 163.3380171 , 157.66160108, 173.07937932,\n",
       "       159.71040647, 164.51371116, 160.3599524 , 166.37507117,\n",
       "       162.19780798, 159.97358352])"
      ]
     },
     "execution_count": 130,
     "metadata": {},
     "output_type": "execute_result"
    }
   ],
   "source": [
    "predictionResult"
   ]
  },
  {
   "cell_type": "code",
   "execution_count": 131,
   "id": "75940abc",
   "metadata": {},
   "outputs": [
    {
     "data": {
      "text/plain": [
       "array([171.660004, 174.309998, 168.880005, 166.229996, 163.979996,\n",
       "       159.589996, 172.139999, 168.639999, 165.75    , 163.199997,\n",
       "       174.830002, 159.779999, 167.660004, 176.279999, 172.789993,\n",
       "       175.059998, 170.330002, 172.389999, 160.070007, 154.729996,\n",
       "       172.119995, 174.070007, 178.960007, 171.830002, 150.619995,\n",
       "       166.229996, 172.899994, 170.399994, 164.320007, 159.690002,\n",
       "       167.300003, 158.520004, 177.770004, 172.550003, 168.880005,\n",
       "       174.779999, 155.089996, 170.089996, 162.410004, 169.800003,\n",
       "       178.440002, 174.720001, 168.820007, 166.559998, 163.169998,\n",
       "       159.300003, 175.600006, 174.610001, 162.949997, 175.839996,\n",
       "       170.210007, 164.509995, 165.380005, 162.740005, 161.619995,\n",
       "       174.610001, 160.619995, 165.119995, 157.440002, 165.289993,\n",
       "       164.850006, 159.220001])"
      ]
     },
     "execution_count": 131,
     "metadata": {},
     "output_type": "execute_result"
    }
   ],
   "source": [
    "originalResult"
   ]
  }
 ],
 "metadata": {
  "kernelspec": {
   "display_name": "Python 3 (ipykernel)",
   "language": "python",
   "name": "python3"
  },
  "language_info": {
   "codemirror_mode": {
    "name": "ipython",
    "version": 3
   },
   "file_extension": ".py",
   "mimetype": "text/x-python",
   "name": "python",
   "nbconvert_exporter": "python",
   "pygments_lexer": "ipython3",
   "version": "3.9.7"
  }
 },
 "nbformat": 4,
 "nbformat_minor": 5
}
