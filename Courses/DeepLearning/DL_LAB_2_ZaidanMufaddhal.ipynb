{
 "cells": [
  {
   "cell_type": "markdown",
   "id": "0be6bc23",
   "metadata": {},
   "source": [
    "# Deep Learning - Lab 2\n",
    "### Zaidan Mufaddhal - AIU20092029"
   ]
  },
  {
   "cell_type": "markdown",
   "id": "bd799555",
   "metadata": {},
   "source": [
    "# SECTION ONE:"
   ]
  },
  {
   "cell_type": "markdown",
   "id": "e1a5bb39",
   "metadata": {},
   "source": [
    "### Importing dataset (House Price)"
   ]
  },
  {
   "cell_type": "code",
   "execution_count": 4,
   "id": "8e47a73f",
   "metadata": {},
   "outputs": [],
   "source": [
    "#import library\n",
    "import pandas as pd"
   ]
  },
  {
   "cell_type": "code",
   "execution_count": 5,
   "id": "75d963e1",
   "metadata": {},
   "outputs": [],
   "source": [
    "#import dataset\n",
    "df = pd.read_csv('Downloads\\housepricedata.csv')"
   ]
  },
  {
   "cell_type": "code",
   "execution_count": 6,
   "id": "4925bd5d",
   "metadata": {},
   "outputs": [
    {
     "data": {
      "text/html": [
       "<div>\n",
       "<style scoped>\n",
       "    .dataframe tbody tr th:only-of-type {\n",
       "        vertical-align: middle;\n",
       "    }\n",
       "\n",
       "    .dataframe tbody tr th {\n",
       "        vertical-align: top;\n",
       "    }\n",
       "\n",
       "    .dataframe thead th {\n",
       "        text-align: right;\n",
       "    }\n",
       "</style>\n",
       "<table border=\"1\" class=\"dataframe\">\n",
       "  <thead>\n",
       "    <tr style=\"text-align: right;\">\n",
       "      <th></th>\n",
       "      <th>LotArea</th>\n",
       "      <th>OverallQual</th>\n",
       "      <th>OverallCond</th>\n",
       "      <th>TotalBsmtSF</th>\n",
       "      <th>FullBath</th>\n",
       "      <th>HalfBath</th>\n",
       "      <th>BedroomAbvGr</th>\n",
       "      <th>TotRmsAbvGrd</th>\n",
       "      <th>Fireplaces</th>\n",
       "      <th>GarageArea</th>\n",
       "      <th>AboveMedianPrice</th>\n",
       "    </tr>\n",
       "  </thead>\n",
       "  <tbody>\n",
       "    <tr>\n",
       "      <th>0</th>\n",
       "      <td>8450.0</td>\n",
       "      <td>7.0</td>\n",
       "      <td>5.0</td>\n",
       "      <td>856.0</td>\n",
       "      <td>2.0</td>\n",
       "      <td>1.0</td>\n",
       "      <td>3.0</td>\n",
       "      <td>8.0</td>\n",
       "      <td>0.0</td>\n",
       "      <td>548.0</td>\n",
       "      <td>1</td>\n",
       "    </tr>\n",
       "    <tr>\n",
       "      <th>1</th>\n",
       "      <td>9600.0</td>\n",
       "      <td>6.0</td>\n",
       "      <td>8.0</td>\n",
       "      <td>1262.0</td>\n",
       "      <td>2.0</td>\n",
       "      <td>0.0</td>\n",
       "      <td>3.0</td>\n",
       "      <td>6.0</td>\n",
       "      <td>1.0</td>\n",
       "      <td>460.0</td>\n",
       "      <td>1</td>\n",
       "    </tr>\n",
       "    <tr>\n",
       "      <th>2</th>\n",
       "      <td>11250.0</td>\n",
       "      <td>7.0</td>\n",
       "      <td>5.0</td>\n",
       "      <td>920.0</td>\n",
       "      <td>2.0</td>\n",
       "      <td>1.0</td>\n",
       "      <td>3.0</td>\n",
       "      <td>6.0</td>\n",
       "      <td>1.0</td>\n",
       "      <td>608.0</td>\n",
       "      <td>1</td>\n",
       "    </tr>\n",
       "    <tr>\n",
       "      <th>3</th>\n",
       "      <td>9550.0</td>\n",
       "      <td>7.0</td>\n",
       "      <td>5.0</td>\n",
       "      <td>756.0</td>\n",
       "      <td>1.0</td>\n",
       "      <td>0.0</td>\n",
       "      <td>3.0</td>\n",
       "      <td>7.0</td>\n",
       "      <td>1.0</td>\n",
       "      <td>642.0</td>\n",
       "      <td>0</td>\n",
       "    </tr>\n",
       "    <tr>\n",
       "      <th>4</th>\n",
       "      <td>14260.0</td>\n",
       "      <td>8.0</td>\n",
       "      <td>5.0</td>\n",
       "      <td>1145.0</td>\n",
       "      <td>2.0</td>\n",
       "      <td>1.0</td>\n",
       "      <td>4.0</td>\n",
       "      <td>9.0</td>\n",
       "      <td>1.0</td>\n",
       "      <td>836.0</td>\n",
       "      <td>1</td>\n",
       "    </tr>\n",
       "    <tr>\n",
       "      <th>...</th>\n",
       "      <td>...</td>\n",
       "      <td>...</td>\n",
       "      <td>...</td>\n",
       "      <td>...</td>\n",
       "      <td>...</td>\n",
       "      <td>...</td>\n",
       "      <td>...</td>\n",
       "      <td>...</td>\n",
       "      <td>...</td>\n",
       "      <td>...</td>\n",
       "      <td>...</td>\n",
       "    </tr>\n",
       "    <tr>\n",
       "      <th>1455</th>\n",
       "      <td>7917.0</td>\n",
       "      <td>6.0</td>\n",
       "      <td>5.0</td>\n",
       "      <td>953.0</td>\n",
       "      <td>2.0</td>\n",
       "      <td>1.0</td>\n",
       "      <td>3.0</td>\n",
       "      <td>7.0</td>\n",
       "      <td>1.0</td>\n",
       "      <td>460.0</td>\n",
       "      <td>1</td>\n",
       "    </tr>\n",
       "    <tr>\n",
       "      <th>1456</th>\n",
       "      <td>13175.0</td>\n",
       "      <td>6.0</td>\n",
       "      <td>6.0</td>\n",
       "      <td>1542.0</td>\n",
       "      <td>2.0</td>\n",
       "      <td>0.0</td>\n",
       "      <td>3.0</td>\n",
       "      <td>7.0</td>\n",
       "      <td>2.0</td>\n",
       "      <td>500.0</td>\n",
       "      <td>1</td>\n",
       "    </tr>\n",
       "    <tr>\n",
       "      <th>1457</th>\n",
       "      <td>9042.0</td>\n",
       "      <td>7.0</td>\n",
       "      <td>9.0</td>\n",
       "      <td>1152.0</td>\n",
       "      <td>2.0</td>\n",
       "      <td>0.0</td>\n",
       "      <td>4.0</td>\n",
       "      <td>9.0</td>\n",
       "      <td>2.0</td>\n",
       "      <td>252.0</td>\n",
       "      <td>1</td>\n",
       "    </tr>\n",
       "    <tr>\n",
       "      <th>1458</th>\n",
       "      <td>9717.0</td>\n",
       "      <td>5.0</td>\n",
       "      <td>6.0</td>\n",
       "      <td>1078.0</td>\n",
       "      <td>1.0</td>\n",
       "      <td>0.0</td>\n",
       "      <td>2.0</td>\n",
       "      <td>5.0</td>\n",
       "      <td>0.0</td>\n",
       "      <td>240.0</td>\n",
       "      <td>0</td>\n",
       "    </tr>\n",
       "    <tr>\n",
       "      <th>1459</th>\n",
       "      <td>9937.0</td>\n",
       "      <td>5.0</td>\n",
       "      <td>6.0</td>\n",
       "      <td>1256.0</td>\n",
       "      <td>1.0</td>\n",
       "      <td>1.0</td>\n",
       "      <td>3.0</td>\n",
       "      <td>6.0</td>\n",
       "      <td>0.0</td>\n",
       "      <td>276.0</td>\n",
       "      <td>0</td>\n",
       "    </tr>\n",
       "  </tbody>\n",
       "</table>\n",
       "<p>1460 rows × 11 columns</p>\n",
       "</div>"
      ],
      "text/plain": [
       "      LotArea  OverallQual  OverallCond  TotalBsmtSF  FullBath  HalfBath  \\\n",
       "0      8450.0          7.0          5.0        856.0       2.0       1.0   \n",
       "1      9600.0          6.0          8.0       1262.0       2.0       0.0   \n",
       "2     11250.0          7.0          5.0        920.0       2.0       1.0   \n",
       "3      9550.0          7.0          5.0        756.0       1.0       0.0   \n",
       "4     14260.0          8.0          5.0       1145.0       2.0       1.0   \n",
       "...       ...          ...          ...          ...       ...       ...   \n",
       "1455   7917.0          6.0          5.0        953.0       2.0       1.0   \n",
       "1456  13175.0          6.0          6.0       1542.0       2.0       0.0   \n",
       "1457   9042.0          7.0          9.0       1152.0       2.0       0.0   \n",
       "1458   9717.0          5.0          6.0       1078.0       1.0       0.0   \n",
       "1459   9937.0          5.0          6.0       1256.0       1.0       1.0   \n",
       "\n",
       "      BedroomAbvGr  TotRmsAbvGrd  Fireplaces  GarageArea  AboveMedianPrice  \n",
       "0              3.0           8.0         0.0       548.0                 1  \n",
       "1              3.0           6.0         1.0       460.0                 1  \n",
       "2              3.0           6.0         1.0       608.0                 1  \n",
       "3              3.0           7.0         1.0       642.0                 0  \n",
       "4              4.0           9.0         1.0       836.0                 1  \n",
       "...            ...           ...         ...         ...               ...  \n",
       "1455           3.0           7.0         1.0       460.0                 1  \n",
       "1456           3.0           7.0         2.0       500.0                 1  \n",
       "1457           4.0           9.0         2.0       252.0                 1  \n",
       "1458           2.0           5.0         0.0       240.0                 0  \n",
       "1459           3.0           6.0         0.0       276.0                 0  \n",
       "\n",
       "[1460 rows x 11 columns]"
      ]
     },
     "execution_count": 6,
     "metadata": {},
     "output_type": "execute_result"
    }
   ],
   "source": [
    "#Print dataset\n",
    "df"
   ]
  },
  {
   "cell_type": "code",
   "execution_count": 7,
   "id": "6ddceae4",
   "metadata": {},
   "outputs": [],
   "source": [
    "#convert the column into arrays\n",
    "dataset = df.values"
   ]
  },
  {
   "cell_type": "code",
   "execution_count": 8,
   "id": "a5471cfa",
   "metadata": {},
   "outputs": [
    {
     "data": {
      "text/plain": [
       "array([[8.450e+03, 7.000e+00, 5.000e+00, ..., 0.000e+00, 5.480e+02,\n",
       "        1.000e+00],\n",
       "       [9.600e+03, 6.000e+00, 8.000e+00, ..., 1.000e+00, 4.600e+02,\n",
       "        1.000e+00],\n",
       "       [1.125e+04, 7.000e+00, 5.000e+00, ..., 1.000e+00, 6.080e+02,\n",
       "        1.000e+00],\n",
       "       ...,\n",
       "       [9.042e+03, 7.000e+00, 9.000e+00, ..., 2.000e+00, 2.520e+02,\n",
       "        1.000e+00],\n",
       "       [9.717e+03, 5.000e+00, 6.000e+00, ..., 0.000e+00, 2.400e+02,\n",
       "        0.000e+00],\n",
       "       [9.937e+03, 5.000e+00, 6.000e+00, ..., 0.000e+00, 2.760e+02,\n",
       "        0.000e+00]])"
      ]
     },
     "execution_count": 8,
     "metadata": {},
     "output_type": "execute_result"
    }
   ],
   "source": [
    "dataset"
   ]
  },
  {
   "cell_type": "markdown",
   "id": "0b7d4c90",
   "metadata": {},
   "source": [
    "### Converting our dataframe into an array"
   ]
  },
  {
   "cell_type": "code",
   "execution_count": 9,
   "id": "6a741af6",
   "metadata": {},
   "outputs": [],
   "source": [
    "X = dataset[:,0:10]"
   ]
  },
  {
   "cell_type": "code",
   "execution_count": 10,
   "id": "a2f40511",
   "metadata": {},
   "outputs": [],
   "source": [
    "Y = dataset[:,10]"
   ]
  },
  {
   "cell_type": "code",
   "execution_count": 11,
   "id": "bd61f14e",
   "metadata": {},
   "outputs": [],
   "source": [
    "#import the package from scikit-learn\n",
    "from sklearn import preprocessing"
   ]
  },
  {
   "cell_type": "code",
   "execution_count": 12,
   "id": "afc70fa2",
   "metadata": {},
   "outputs": [],
   "source": [
    "#feature scalling\n",
    "min_max_scaler = preprocessing.MinMaxScaler()\n",
    "X_scale = min_max_scaler.fit_transform(X)"
   ]
  },
  {
   "cell_type": "code",
   "execution_count": 13,
   "id": "918022fe",
   "metadata": {},
   "outputs": [
    {
     "data": {
      "text/plain": [
       "array([[0.0334198 , 0.66666667, 0.5       , ..., 0.5       , 0.        ,\n",
       "        0.3864598 ],\n",
       "       [0.03879502, 0.55555556, 0.875     , ..., 0.33333333, 0.33333333,\n",
       "        0.32440056],\n",
       "       [0.04650728, 0.66666667, 0.5       , ..., 0.33333333, 0.33333333,\n",
       "        0.42877292],\n",
       "       ...,\n",
       "       [0.03618687, 0.66666667, 1.        , ..., 0.58333333, 0.66666667,\n",
       "        0.17771509],\n",
       "       [0.03934189, 0.44444444, 0.625     , ..., 0.25      , 0.        ,\n",
       "        0.16925247],\n",
       "       [0.04037019, 0.44444444, 0.625     , ..., 0.33333333, 0.        ,\n",
       "        0.19464034]])"
      ]
     },
     "execution_count": 13,
     "metadata": {},
     "output_type": "execute_result"
    }
   ],
   "source": [
    "X_scale"
   ]
  },
  {
   "cell_type": "code",
   "execution_count": 14,
   "id": "33d75036",
   "metadata": {},
   "outputs": [],
   "source": [
    "from sklearn.model_selection import train_test_split"
   ]
  },
  {
   "cell_type": "code",
   "execution_count": 15,
   "id": "73d5380e",
   "metadata": {},
   "outputs": [],
   "source": [
    "X_train, X_val_and_test, Y_train, Y_val_and_test = train_test_split(X_scale, Y, test_size = 0.3)"
   ]
  },
  {
   "cell_type": "code",
   "execution_count": 16,
   "id": "8953c2f4",
   "metadata": {},
   "outputs": [],
   "source": [
    "X_val, X_test, Y_val, Y_test = train_test_split(X_val_and_test, Y_val_and_test, test_size = 0.5)"
   ]
  },
  {
   "cell_type": "code",
   "execution_count": 17,
   "id": "734b2f33",
   "metadata": {},
   "outputs": [
    {
     "name": "stdout",
     "output_type": "stream",
     "text": [
      "(1022, 10) (219, 10) (219, 10) (1022,) (219,) (219,)\n"
     ]
    }
   ],
   "source": [
    "print(X_train.shape, X_val.shape, X_test.shape, Y_train.shape, Y_val.shape, Y_test.shape)"
   ]
  },
  {
   "cell_type": "markdown",
   "id": "a4bcbeb8",
   "metadata": {},
   "source": [
    "### Building and trianing our first neural network"
   ]
  },
  {
   "cell_type": "code",
   "execution_count": 18,
   "id": "e74d36f3",
   "metadata": {},
   "outputs": [],
   "source": [
    "#pip install keras"
   ]
  },
  {
   "cell_type": "code",
   "execution_count": 19,
   "id": "4425b9a6",
   "metadata": {},
   "outputs": [],
   "source": [
    "#import library\n",
    "import keras\n",
    "from keras.models import Sequential\n",
    "from keras.layers import Dense"
   ]
  },
  {
   "cell_type": "code",
   "execution_count": 20,
   "id": "5987266e",
   "metadata": {},
   "outputs": [],
   "source": [
    "model = Sequential([Dense(32, activation='relu', input_shape=(10,)),\n",
    "                   Dense(32, activation='relu'),\n",
    "                   Dense(1, activation='sigmoid')])"
   ]
  },
  {
   "cell_type": "markdown",
   "id": "a81424c3",
   "metadata": {},
   "source": [
    "### Filling the best numbers"
   ]
  },
  {
   "cell_type": "code",
   "execution_count": 21,
   "id": "4fa2f575",
   "metadata": {},
   "outputs": [],
   "source": [
    "model.compile(optimizer='sgd',loss='binary_crossentropy',metrics=['accuracy'])"
   ]
  },
  {
   "cell_type": "code",
   "execution_count": 22,
   "id": "432a9cd8",
   "metadata": {},
   "outputs": [
    {
     "name": "stdout",
     "output_type": "stream",
     "text": [
      "Epoch 1/100\n",
      "32/32 [==============================] - 1s 15ms/step - loss: 0.6809 - accuracy: 0.5020 - val_loss: 0.6768 - val_accuracy: 0.4932\n",
      "Epoch 2/100\n",
      "32/32 [==============================] - 0s 4ms/step - loss: 0.6721 - accuracy: 0.5039 - val_loss: 0.6685 - val_accuracy: 0.4932\n",
      "Epoch 3/100\n",
      "32/32 [==============================] - 0s 3ms/step - loss: 0.6654 - accuracy: 0.5068 - val_loss: 0.6617 - val_accuracy: 0.5023\n",
      "Epoch 4/100\n",
      "32/32 [==============================] - 0s 4ms/step - loss: 0.6600 - accuracy: 0.5166 - val_loss: 0.6562 - val_accuracy: 0.5205\n",
      "Epoch 5/100\n",
      "32/32 [==============================] - 0s 3ms/step - loss: 0.6553 - accuracy: 0.5313 - val_loss: 0.6513 - val_accuracy: 0.5662\n",
      "Epoch 6/100\n",
      "32/32 [==============================] - 0s 4ms/step - loss: 0.6510 - accuracy: 0.6115 - val_loss: 0.6466 - val_accuracy: 0.6210\n",
      "Epoch 7/100\n",
      "32/32 [==============================] - 0s 4ms/step - loss: 0.6468 - accuracy: 0.6438 - val_loss: 0.6418 - val_accuracy: 0.6849\n",
      "Epoch 8/100\n",
      "32/32 [==============================] - 0s 3ms/step - loss: 0.6424 - accuracy: 0.7074 - val_loss: 0.6370 - val_accuracy: 0.7260\n",
      "Epoch 9/100\n",
      "32/32 [==============================] - 0s 4ms/step - loss: 0.6380 - accuracy: 0.7309 - val_loss: 0.6319 - val_accuracy: 0.7580\n",
      "Epoch 10/100\n",
      "32/32 [==============================] - 0s 3ms/step - loss: 0.6333 - accuracy: 0.7524 - val_loss: 0.6267 - val_accuracy: 0.7717\n",
      "Epoch 11/100\n",
      "32/32 [==============================] - 0s 4ms/step - loss: 0.6285 - accuracy: 0.7632 - val_loss: 0.6213 - val_accuracy: 0.7900\n",
      "Epoch 12/100\n",
      "32/32 [==============================] - 0s 3ms/step - loss: 0.6235 - accuracy: 0.7691 - val_loss: 0.6156 - val_accuracy: 0.8082\n",
      "Epoch 13/100\n",
      "32/32 [==============================] - 0s 3ms/step - loss: 0.6182 - accuracy: 0.7720 - val_loss: 0.6097 - val_accuracy: 0.8128\n",
      "Epoch 14/100\n",
      "32/32 [==============================] - 0s 3ms/step - loss: 0.6127 - accuracy: 0.7847 - val_loss: 0.6035 - val_accuracy: 0.8219\n",
      "Epoch 15/100\n",
      "32/32 [==============================] - 0s 3ms/step - loss: 0.6070 - accuracy: 0.7975 - val_loss: 0.5970 - val_accuracy: 0.8265\n",
      "Epoch 16/100\n",
      "32/32 [==============================] - 0s 4ms/step - loss: 0.6012 - accuracy: 0.7975 - val_loss: 0.5902 - val_accuracy: 0.8356\n",
      "Epoch 17/100\n",
      "32/32 [==============================] - 0s 4ms/step - loss: 0.5950 - accuracy: 0.8043 - val_loss: 0.5832 - val_accuracy: 0.8356\n",
      "Epoch 18/100\n",
      "32/32 [==============================] - 0s 3ms/step - loss: 0.5885 - accuracy: 0.8141 - val_loss: 0.5758 - val_accuracy: 0.8539\n",
      "Epoch 19/100\n",
      "32/32 [==============================] - 0s 3ms/step - loss: 0.5818 - accuracy: 0.8151 - val_loss: 0.5681 - val_accuracy: 0.8584\n",
      "Epoch 20/100\n",
      "32/32 [==============================] - 0s 3ms/step - loss: 0.5748 - accuracy: 0.8239 - val_loss: 0.5601 - val_accuracy: 0.8721\n",
      "Epoch 21/100\n",
      "32/32 [==============================] - 0s 3ms/step - loss: 0.5677 - accuracy: 0.8239 - val_loss: 0.5521 - val_accuracy: 0.8813\n",
      "Epoch 22/100\n",
      "32/32 [==============================] - 0s 3ms/step - loss: 0.5602 - accuracy: 0.8464 - val_loss: 0.5437 - val_accuracy: 0.8813\n",
      "Epoch 23/100\n",
      "32/32 [==============================] - 0s 3ms/step - loss: 0.5527 - accuracy: 0.8366 - val_loss: 0.5353 - val_accuracy: 0.8813\n",
      "Epoch 24/100\n",
      "32/32 [==============================] - 0s 3ms/step - loss: 0.5452 - accuracy: 0.8405 - val_loss: 0.5269 - val_accuracy: 0.8995\n",
      "Epoch 25/100\n",
      "32/32 [==============================] - 0s 4ms/step - loss: 0.5377 - accuracy: 0.8493 - val_loss: 0.5183 - val_accuracy: 0.8995\n",
      "Epoch 26/100\n",
      "32/32 [==============================] - 0s 3ms/step - loss: 0.5301 - accuracy: 0.8591 - val_loss: 0.5096 - val_accuracy: 0.8995\n",
      "Epoch 27/100\n",
      "32/32 [==============================] - 0s 3ms/step - loss: 0.5225 - accuracy: 0.8513 - val_loss: 0.5009 - val_accuracy: 0.9087\n",
      "Epoch 28/100\n",
      "32/32 [==============================] - 0s 3ms/step - loss: 0.5147 - accuracy: 0.8630 - val_loss: 0.4922 - val_accuracy: 0.9087\n",
      "Epoch 29/100\n",
      "32/32 [==============================] - 0s 3ms/step - loss: 0.5070 - accuracy: 0.8611 - val_loss: 0.4834 - val_accuracy: 0.9132\n",
      "Epoch 30/100\n",
      "32/32 [==============================] - 0s 3ms/step - loss: 0.4993 - accuracy: 0.8620 - val_loss: 0.4748 - val_accuracy: 0.9132\n",
      "Epoch 31/100\n",
      "32/32 [==============================] - 0s 4ms/step - loss: 0.4916 - accuracy: 0.8679 - val_loss: 0.4660 - val_accuracy: 0.9178\n",
      "Epoch 32/100\n",
      "32/32 [==============================] - 0s 3ms/step - loss: 0.4843 - accuracy: 0.8601 - val_loss: 0.4575 - val_accuracy: 0.9087\n",
      "Epoch 33/100\n",
      "32/32 [==============================] - 0s 3ms/step - loss: 0.4767 - accuracy: 0.8650 - val_loss: 0.4492 - val_accuracy: 0.9087\n",
      "Epoch 34/100\n",
      "32/32 [==============================] - 0s 3ms/step - loss: 0.4696 - accuracy: 0.8659 - val_loss: 0.4410 - val_accuracy: 0.9087\n",
      "Epoch 35/100\n",
      "32/32 [==============================] - 0s 3ms/step - loss: 0.4622 - accuracy: 0.8689 - val_loss: 0.4327 - val_accuracy: 0.9087\n",
      "Epoch 36/100\n",
      "32/32 [==============================] - 0s 3ms/step - loss: 0.4553 - accuracy: 0.8679 - val_loss: 0.4244 - val_accuracy: 0.9087\n",
      "Epoch 37/100\n",
      "32/32 [==============================] - 0s 3ms/step - loss: 0.4484 - accuracy: 0.8659 - val_loss: 0.4174 - val_accuracy: 0.9178\n",
      "Epoch 38/100\n",
      "32/32 [==============================] - 0s 3ms/step - loss: 0.4417 - accuracy: 0.8718 - val_loss: 0.4090 - val_accuracy: 0.9178\n",
      "Epoch 39/100\n",
      "32/32 [==============================] - 0s 3ms/step - loss: 0.4352 - accuracy: 0.8708 - val_loss: 0.4020 - val_accuracy: 0.9178\n",
      "Epoch 40/100\n",
      "32/32 [==============================] - 0s 3ms/step - loss: 0.4287 - accuracy: 0.8689 - val_loss: 0.3945 - val_accuracy: 0.9178\n",
      "Epoch 41/100\n",
      "32/32 [==============================] - 0s 3ms/step - loss: 0.4226 - accuracy: 0.8728 - val_loss: 0.3872 - val_accuracy: 0.9178\n",
      "Epoch 42/100\n",
      "32/32 [==============================] - 0s 3ms/step - loss: 0.4164 - accuracy: 0.8718 - val_loss: 0.3801 - val_accuracy: 0.9178\n",
      "Epoch 43/100\n",
      "32/32 [==============================] - 0s 4ms/step - loss: 0.4106 - accuracy: 0.8718 - val_loss: 0.3742 - val_accuracy: 0.9224\n",
      "Epoch 44/100\n",
      "32/32 [==============================] - 0s 3ms/step - loss: 0.4049 - accuracy: 0.8757 - val_loss: 0.3678 - val_accuracy: 0.9224\n",
      "Epoch 45/100\n",
      "32/32 [==============================] - 0s 3ms/step - loss: 0.3997 - accuracy: 0.8767 - val_loss: 0.3613 - val_accuracy: 0.9224\n",
      "Epoch 46/100\n",
      "32/32 [==============================] - 0s 4ms/step - loss: 0.3944 - accuracy: 0.8748 - val_loss: 0.3551 - val_accuracy: 0.9224\n",
      "Epoch 47/100\n",
      "32/32 [==============================] - 0s 3ms/step - loss: 0.3895 - accuracy: 0.8767 - val_loss: 0.3504 - val_accuracy: 0.9178\n",
      "Epoch 48/100\n",
      "32/32 [==============================] - 0s 3ms/step - loss: 0.3847 - accuracy: 0.8748 - val_loss: 0.3454 - val_accuracy: 0.9178\n",
      "Epoch 49/100\n",
      "32/32 [==============================] - 0s 4ms/step - loss: 0.3806 - accuracy: 0.8728 - val_loss: 0.3402 - val_accuracy: 0.9178\n",
      "Epoch 50/100\n",
      "32/32 [==============================] - 0s 3ms/step - loss: 0.3754 - accuracy: 0.8728 - val_loss: 0.3338 - val_accuracy: 0.9178\n",
      "Epoch 51/100\n",
      "32/32 [==============================] - 0s 3ms/step - loss: 0.3715 - accuracy: 0.8738 - val_loss: 0.3287 - val_accuracy: 0.9178\n",
      "Epoch 52/100\n",
      "32/32 [==============================] - 0s 3ms/step - loss: 0.3677 - accuracy: 0.8728 - val_loss: 0.3263 - val_accuracy: 0.9178\n",
      "Epoch 53/100\n",
      "32/32 [==============================] - 0s 4ms/step - loss: 0.3639 - accuracy: 0.8767 - val_loss: 0.3206 - val_accuracy: 0.9178\n",
      "Epoch 54/100\n",
      "32/32 [==============================] - 0s 4ms/step - loss: 0.3601 - accuracy: 0.8757 - val_loss: 0.3170 - val_accuracy: 0.9178\n",
      "Epoch 55/100\n",
      "32/32 [==============================] - 0s 4ms/step - loss: 0.3566 - accuracy: 0.8738 - val_loss: 0.3128 - val_accuracy: 0.9178\n",
      "Epoch 56/100\n",
      "32/32 [==============================] - 0s 3ms/step - loss: 0.3533 - accuracy: 0.8777 - val_loss: 0.3084 - val_accuracy: 0.9178\n",
      "Epoch 57/100\n",
      "32/32 [==============================] - 0s 4ms/step - loss: 0.3504 - accuracy: 0.8826 - val_loss: 0.3046 - val_accuracy: 0.9178\n",
      "Epoch 58/100\n",
      "32/32 [==============================] - 0s 3ms/step - loss: 0.3469 - accuracy: 0.8767 - val_loss: 0.3020 - val_accuracy: 0.9132\n"
     ]
    },
    {
     "name": "stdout",
     "output_type": "stream",
     "text": [
      "Epoch 59/100\n",
      "32/32 [==============================] - 0s 3ms/step - loss: 0.3443 - accuracy: 0.8796 - val_loss: 0.2972 - val_accuracy: 0.9178\n",
      "Epoch 60/100\n",
      "32/32 [==============================] - 0s 4ms/step - loss: 0.3417 - accuracy: 0.8796 - val_loss: 0.2949 - val_accuracy: 0.9132\n",
      "Epoch 61/100\n",
      "32/32 [==============================] - 0s 3ms/step - loss: 0.3391 - accuracy: 0.8806 - val_loss: 0.2933 - val_accuracy: 0.9132\n",
      "Epoch 62/100\n",
      "32/32 [==============================] - 0s 3ms/step - loss: 0.3367 - accuracy: 0.8757 - val_loss: 0.2902 - val_accuracy: 0.9132\n",
      "Epoch 63/100\n",
      "32/32 [==============================] - 0s 3ms/step - loss: 0.3343 - accuracy: 0.8777 - val_loss: 0.2868 - val_accuracy: 0.9132\n",
      "Epoch 64/100\n",
      "32/32 [==============================] - 0s 3ms/step - loss: 0.3325 - accuracy: 0.8767 - val_loss: 0.2844 - val_accuracy: 0.9087\n",
      "Epoch 65/100\n",
      "32/32 [==============================] - 0s 3ms/step - loss: 0.3303 - accuracy: 0.8796 - val_loss: 0.2826 - val_accuracy: 0.9087\n",
      "Epoch 66/100\n",
      "32/32 [==============================] - 0s 3ms/step - loss: 0.3275 - accuracy: 0.8777 - val_loss: 0.2807 - val_accuracy: 0.9087\n",
      "Epoch 67/100\n",
      "32/32 [==============================] - 0s 3ms/step - loss: 0.3262 - accuracy: 0.8757 - val_loss: 0.2780 - val_accuracy: 0.9087\n",
      "Epoch 68/100\n",
      "32/32 [==============================] - 0s 3ms/step - loss: 0.3239 - accuracy: 0.8767 - val_loss: 0.2761 - val_accuracy: 0.9087\n",
      "Epoch 69/100\n",
      "32/32 [==============================] - 0s 4ms/step - loss: 0.3221 - accuracy: 0.8787 - val_loss: 0.2738 - val_accuracy: 0.9087\n",
      "Epoch 70/100\n",
      "32/32 [==============================] - 0s 3ms/step - loss: 0.3206 - accuracy: 0.8767 - val_loss: 0.2719 - val_accuracy: 0.9087\n",
      "Epoch 71/100\n",
      "32/32 [==============================] - 0s 3ms/step - loss: 0.3188 - accuracy: 0.8748 - val_loss: 0.2707 - val_accuracy: 0.9087\n",
      "Epoch 72/100\n",
      "32/32 [==============================] - 0s 3ms/step - loss: 0.3171 - accuracy: 0.8806 - val_loss: 0.2674 - val_accuracy: 0.9087\n",
      "Epoch 73/100\n",
      "32/32 [==============================] - 0s 3ms/step - loss: 0.3157 - accuracy: 0.8787 - val_loss: 0.2685 - val_accuracy: 0.9087\n",
      "Epoch 74/100\n",
      "32/32 [==============================] - 0s 4ms/step - loss: 0.3146 - accuracy: 0.8777 - val_loss: 0.2653 - val_accuracy: 0.9087\n",
      "Epoch 75/100\n",
      "32/32 [==============================] - 0s 3ms/step - loss: 0.3128 - accuracy: 0.8767 - val_loss: 0.2628 - val_accuracy: 0.9132\n",
      "Epoch 76/100\n",
      "32/32 [==============================] - 0s 3ms/step - loss: 0.3118 - accuracy: 0.8796 - val_loss: 0.2638 - val_accuracy: 0.9041\n",
      "Epoch 77/100\n",
      "32/32 [==============================] - 0s 3ms/step - loss: 0.3101 - accuracy: 0.8816 - val_loss: 0.2590 - val_accuracy: 0.9087\n",
      "Epoch 78/100\n",
      "32/32 [==============================] - 0s 3ms/step - loss: 0.3099 - accuracy: 0.8796 - val_loss: 0.2602 - val_accuracy: 0.9087\n",
      "Epoch 79/100\n",
      "32/32 [==============================] - 0s 3ms/step - loss: 0.3084 - accuracy: 0.8826 - val_loss: 0.2582 - val_accuracy: 0.9087\n",
      "Epoch 80/100\n",
      "32/32 [==============================] - 0s 3ms/step - loss: 0.3064 - accuracy: 0.8826 - val_loss: 0.2555 - val_accuracy: 0.9087\n",
      "Epoch 81/100\n",
      "32/32 [==============================] - 0s 3ms/step - loss: 0.3057 - accuracy: 0.8826 - val_loss: 0.2570 - val_accuracy: 0.9041\n",
      "Epoch 82/100\n",
      "32/32 [==============================] - 0s 4ms/step - loss: 0.3049 - accuracy: 0.8806 - val_loss: 0.2546 - val_accuracy: 0.9087\n",
      "Epoch 83/100\n",
      "32/32 [==============================] - 0s 4ms/step - loss: 0.3043 - accuracy: 0.8806 - val_loss: 0.2541 - val_accuracy: 0.9087\n",
      "Epoch 84/100\n",
      "32/32 [==============================] - 0s 3ms/step - loss: 0.3027 - accuracy: 0.8826 - val_loss: 0.2528 - val_accuracy: 0.9087\n",
      "Epoch 85/100\n",
      "32/32 [==============================] - 0s 3ms/step - loss: 0.3024 - accuracy: 0.8816 - val_loss: 0.2517 - val_accuracy: 0.9087\n",
      "Epoch 86/100\n",
      "32/32 [==============================] - 0s 3ms/step - loss: 0.3004 - accuracy: 0.8816 - val_loss: 0.2550 - val_accuracy: 0.9041\n",
      "Epoch 87/100\n",
      "32/32 [==============================] - 0s 3ms/step - loss: 0.3003 - accuracy: 0.8816 - val_loss: 0.2511 - val_accuracy: 0.8995\n",
      "Epoch 88/100\n",
      "32/32 [==============================] - 0s 3ms/step - loss: 0.2993 - accuracy: 0.8806 - val_loss: 0.2501 - val_accuracy: 0.9041\n",
      "Epoch 89/100\n",
      "32/32 [==============================] - 0s 3ms/step - loss: 0.2986 - accuracy: 0.8826 - val_loss: 0.2506 - val_accuracy: 0.8995\n",
      "Epoch 90/100\n",
      "32/32 [==============================] - 0s 3ms/step - loss: 0.2984 - accuracy: 0.8845 - val_loss: 0.2486 - val_accuracy: 0.9041\n",
      "Epoch 91/100\n",
      "32/32 [==============================] - 0s 3ms/step - loss: 0.2966 - accuracy: 0.8816 - val_loss: 0.2489 - val_accuracy: 0.8995\n",
      "Epoch 92/100\n",
      "32/32 [==============================] - 0s 3ms/step - loss: 0.2964 - accuracy: 0.8845 - val_loss: 0.2473 - val_accuracy: 0.9041\n",
      "Epoch 93/100\n",
      "32/32 [==============================] - 0s 3ms/step - loss: 0.2949 - accuracy: 0.8816 - val_loss: 0.2447 - val_accuracy: 0.9041\n",
      "Epoch 94/100\n",
      "32/32 [==============================] - 0s 3ms/step - loss: 0.2947 - accuracy: 0.8796 - val_loss: 0.2442 - val_accuracy: 0.9041\n",
      "Epoch 95/100\n",
      "32/32 [==============================] - 0s 4ms/step - loss: 0.2939 - accuracy: 0.8806 - val_loss: 0.2440 - val_accuracy: 0.9041\n",
      "Epoch 96/100\n",
      "32/32 [==============================] - 0s 3ms/step - loss: 0.2928 - accuracy: 0.8796 - val_loss: 0.2463 - val_accuracy: 0.8995\n",
      "Epoch 97/100\n",
      "32/32 [==============================] - 0s 3ms/step - loss: 0.2924 - accuracy: 0.8816 - val_loss: 0.2445 - val_accuracy: 0.9041\n",
      "Epoch 98/100\n",
      "32/32 [==============================] - 0s 3ms/step - loss: 0.2917 - accuracy: 0.8845 - val_loss: 0.2443 - val_accuracy: 0.8995\n",
      "Epoch 99/100\n",
      "32/32 [==============================] - 0s 3ms/step - loss: 0.2911 - accuracy: 0.8826 - val_loss: 0.2416 - val_accuracy: 0.9041\n",
      "Epoch 100/100\n",
      "32/32 [==============================] - 0s 3ms/step - loss: 0.2911 - accuracy: 0.8796 - val_loss: 0.2410 - val_accuracy: 0.9041\n"
     ]
    }
   ],
   "source": [
    "hist = model.fit(X_train,Y_train,batch_size=32,epochs=100,validation_data=(X_val,Y_val))"
   ]
  },
  {
   "cell_type": "code",
   "execution_count": 23,
   "id": "9b34ace6",
   "metadata": {},
   "outputs": [
    {
     "name": "stdout",
     "output_type": "stream",
     "text": [
      "7/7 [==============================] - 0s 3ms/step - loss: 0.3147 - accuracy: 0.8813\n"
     ]
    },
    {
     "data": {
      "text/plain": [
       "0.8812785148620605"
      ]
     },
     "execution_count": 23,
     "metadata": {},
     "output_type": "execute_result"
    }
   ],
   "source": [
    "#evaluting on the test set\n",
    "model.evaluate(X_test,Y_test)[1]"
   ]
  },
  {
   "cell_type": "markdown",
   "id": "e7318022",
   "metadata": {},
   "source": [
    "### Visualizing loss and accuracy"
   ]
  },
  {
   "cell_type": "code",
   "execution_count": 24,
   "id": "4ccb012e",
   "metadata": {},
   "outputs": [],
   "source": [
    "import matplotlib.pyplot as plt"
   ]
  },
  {
   "cell_type": "code",
   "execution_count": 25,
   "id": "554cf2f3",
   "metadata": {},
   "outputs": [
    {
     "data": {
      "image/png": "[encoded data removed]",
      "text/plain": [
       "<Figure size 640x480 with 1 Axes>"
      ]
     },
     "metadata": {},
     "output_type": "display_data"
    }
   ],
   "source": [
    "plt.plot(hist.history['loss'])\n",
    "plt.plot(hist.history['val_loss'])\n",
    "plt.title('Model loss')\n",
    "plt.ylabel('Loss')\n",
    "plt.xlabel('Epoch')\n",
    "plt.legend(['Train','Val'], loc='upper right')\n",
    "plt.show()"
   ]
  },
  {
   "cell_type": "code",
   "execution_count": 26,
   "id": "25332a21",
   "metadata": {},
   "outputs": [
    {
     "data": {
      "image/png": "[encoded data removed]",
      "text/plain": [
       "<Figure size 640x480 with 1 Axes>"
      ]
     },
     "metadata": {},
     "output_type": "display_data"
    }
   ],
   "source": [
    "plt.plot(hist.history['accuracy'])\n",
    "plt.plot(hist.history['val_accuracy'])\n",
    "plt.title('Model accuracy')\n",
    "plt.ylabel('Accuracy')\n",
    "plt.xlabel('Epoch')\n",
    "plt.legend(['Train','Val'], loc='lower right')\n",
    "plt.show()"
   ]
  },
  {
   "cell_type": "markdown",
   "id": "7533e68f",
   "metadata": {},
   "source": [
    "# SECTION TWO:\n",
    "#### Adding Regularization to our Neural Network"
   ]
  },
  {
   "cell_type": "code",
   "execution_count": 27,
   "id": "3647ee50",
   "metadata": {},
   "outputs": [],
   "source": [
    "model_2 = Sequential([Dense(1000, activation='relu', input_shape=(10,)),\n",
    "                    Dense(1000, activation='relu'),\n",
    "                    Dense(1000, activation='relu'),\n",
    "                    Dense(1000, activation='relu'),\n",
    "                    Dense(1, activation='sigmoid'),])"
   ]
  },
  {
   "cell_type": "code",
   "execution_count": 28,
   "id": "c7fa6afd",
   "metadata": {},
   "outputs": [],
   "source": [
    "model_2.compile(optimizer='adam',loss='binary_crossentropy',metrics=['accuracy'])"
   ]
  },
  {
   "cell_type": "code",
   "execution_count": 29,
   "id": "251e641c",
   "metadata": {},
   "outputs": [
    {
     "name": "stdout",
     "output_type": "stream",
     "text": [
      "Epoch 1/100\n",
      "32/32 [==============================] - 3s 49ms/step - loss: 0.4506 - accuracy: 0.7847 - val_loss: 0.3135 - val_accuracy: 0.8813\n",
      "Epoch 2/100\n",
      "32/32 [==============================] - 1s 38ms/step - loss: 0.3933 - accuracy: 0.8346 - val_loss: 0.3354 - val_accuracy: 0.8584\n",
      "Epoch 3/100\n",
      "32/32 [==============================] - 1s 38ms/step - loss: 0.3432 - accuracy: 0.8601 - val_loss: 0.2690 - val_accuracy: 0.8813\n",
      "Epoch 4/100\n",
      "32/32 [==============================] - 1s 38ms/step - loss: 0.2907 - accuracy: 0.8875 - val_loss: 0.2287 - val_accuracy: 0.9041\n",
      "Epoch 5/100\n",
      "32/32 [==============================] - 1s 38ms/step - loss: 0.2908 - accuracy: 0.8806 - val_loss: 0.2480 - val_accuracy: 0.9087\n",
      "Epoch 6/100\n",
      "32/32 [==============================] - 1s 38ms/step - loss: 0.2703 - accuracy: 0.8943 - val_loss: 0.2363 - val_accuracy: 0.8904\n",
      "Epoch 7/100\n",
      "32/32 [==============================] - 1s 38ms/step - loss: 0.2585 - accuracy: 0.8894 - val_loss: 0.2484 - val_accuracy: 0.8858\n",
      "Epoch 8/100\n",
      "32/32 [==============================] - 1s 39ms/step - loss: 0.2721 - accuracy: 0.8992 - val_loss: 0.2523 - val_accuracy: 0.8858\n",
      "Epoch 9/100\n",
      "32/32 [==============================] - 1s 39ms/step - loss: 0.2461 - accuracy: 0.9012 - val_loss: 0.2349 - val_accuracy: 0.8995\n",
      "Epoch 10/100\n",
      "32/32 [==============================] - 1s 41ms/step - loss: 0.2422 - accuracy: 0.9012 - val_loss: 0.2515 - val_accuracy: 0.8950\n",
      "Epoch 11/100\n",
      "32/32 [==============================] - 1s 42ms/step - loss: 0.2325 - accuracy: 0.9129 - val_loss: 0.2518 - val_accuracy: 0.8950\n",
      "Epoch 12/100\n",
      "32/32 [==============================] - 1s 40ms/step - loss: 0.2254 - accuracy: 0.9061 - val_loss: 0.2653 - val_accuracy: 0.8721\n",
      "Epoch 13/100\n",
      "32/32 [==============================] - 1s 40ms/step - loss: 0.2207 - accuracy: 0.9100 - val_loss: 0.2486 - val_accuracy: 0.8813\n",
      "Epoch 14/100\n",
      "32/32 [==============================] - 1s 39ms/step - loss: 0.2587 - accuracy: 0.9031 - val_loss: 0.2266 - val_accuracy: 0.8950\n",
      "Epoch 15/100\n",
      "32/32 [==============================] - 1s 39ms/step - loss: 0.2225 - accuracy: 0.9100 - val_loss: 0.2665 - val_accuracy: 0.8904\n",
      "Epoch 16/100\n",
      "32/32 [==============================] - 1s 38ms/step - loss: 0.2244 - accuracy: 0.9051 - val_loss: 0.2525 - val_accuracy: 0.8813\n",
      "Epoch 17/100\n",
      "32/32 [==============================] - 1s 39ms/step - loss: 0.2022 - accuracy: 0.9139 - val_loss: 0.2501 - val_accuracy: 0.8995\n",
      "Epoch 18/100\n",
      "32/32 [==============================] - 1s 39ms/step - loss: 0.2091 - accuracy: 0.9237 - val_loss: 0.2769 - val_accuracy: 0.8858\n",
      "Epoch 19/100\n",
      "32/32 [==============================] - 1s 39ms/step - loss: 0.2204 - accuracy: 0.9119 - val_loss: 0.2783 - val_accuracy: 0.8995\n",
      "Epoch 20/100\n",
      "32/32 [==============================] - 1s 40ms/step - loss: 0.2373 - accuracy: 0.8992 - val_loss: 0.2465 - val_accuracy: 0.8904\n",
      "Epoch 21/100\n",
      "32/32 [==============================] - 1s 39ms/step - loss: 0.2042 - accuracy: 0.9178 - val_loss: 0.2502 - val_accuracy: 0.8995\n",
      "Epoch 22/100\n",
      "32/32 [==============================] - 1s 39ms/step - loss: 0.1996 - accuracy: 0.9217 - val_loss: 0.2470 - val_accuracy: 0.9178\n",
      "Epoch 23/100\n",
      "32/32 [==============================] - 1s 40ms/step - loss: 0.2147 - accuracy: 0.9159 - val_loss: 0.3078 - val_accuracy: 0.8539\n",
      "Epoch 24/100\n",
      "32/32 [==============================] - 1s 39ms/step - loss: 0.1996 - accuracy: 0.9129 - val_loss: 0.2553 - val_accuracy: 0.8995\n",
      "Epoch 25/100\n",
      "32/32 [==============================] - 1s 40ms/step - loss: 0.1907 - accuracy: 0.9159 - val_loss: 0.2317 - val_accuracy: 0.9132\n",
      "Epoch 26/100\n",
      "32/32 [==============================] - 1s 39ms/step - loss: 0.1927 - accuracy: 0.9247 - val_loss: 0.2568 - val_accuracy: 0.8904\n",
      "Epoch 27/100\n",
      "32/32 [==============================] - 1s 38ms/step - loss: 0.1891 - accuracy: 0.9198 - val_loss: 0.2653 - val_accuracy: 0.8950\n",
      "Epoch 28/100\n",
      "32/32 [==============================] - 1s 39ms/step - loss: 0.2020 - accuracy: 0.9080 - val_loss: 0.2841 - val_accuracy: 0.8904\n",
      "Epoch 29/100\n",
      "32/32 [==============================] - 1s 39ms/step - loss: 0.1879 - accuracy: 0.9217 - val_loss: 0.2597 - val_accuracy: 0.8995\n",
      "Epoch 30/100\n",
      "32/32 [==============================] - 1s 39ms/step - loss: 0.1931 - accuracy: 0.9129 - val_loss: 0.2748 - val_accuracy: 0.9041\n",
      "Epoch 31/100\n",
      "32/32 [==============================] - 1s 39ms/step - loss: 0.1906 - accuracy: 0.9129 - val_loss: 0.2497 - val_accuracy: 0.8995\n",
      "Epoch 32/100\n",
      "32/32 [==============================] - 1s 39ms/step - loss: 0.2032 - accuracy: 0.9227 - val_loss: 0.2446 - val_accuracy: 0.9087\n",
      "Epoch 33/100\n",
      "32/32 [==============================] - 1s 40ms/step - loss: 0.1927 - accuracy: 0.9217 - val_loss: 0.2548 - val_accuracy: 0.8995\n",
      "Epoch 34/100\n",
      "32/32 [==============================] - 1s 41ms/step - loss: 0.1987 - accuracy: 0.9188 - val_loss: 0.3033 - val_accuracy: 0.8630\n",
      "Epoch 35/100\n",
      "32/32 [==============================] - 1s 41ms/step - loss: 0.1816 - accuracy: 0.9256 - val_loss: 0.2574 - val_accuracy: 0.9087\n",
      "Epoch 36/100\n",
      "32/32 [==============================] - 1s 42ms/step - loss: 0.1699 - accuracy: 0.9217 - val_loss: 0.3485 - val_accuracy: 0.8402\n",
      "Epoch 37/100\n",
      "32/32 [==============================] - 1s 41ms/step - loss: 0.1959 - accuracy: 0.9227 - val_loss: 0.2376 - val_accuracy: 0.8904\n",
      "Epoch 38/100\n",
      "32/32 [==============================] - 1s 41ms/step - loss: 0.1789 - accuracy: 0.9237 - val_loss: 0.2806 - val_accuracy: 0.8950\n",
      "Epoch 39/100\n",
      "32/32 [==============================] - 1s 40ms/step - loss: 0.1959 - accuracy: 0.9149 - val_loss: 0.2939 - val_accuracy: 0.9041\n",
      "Epoch 40/100\n",
      "32/32 [==============================] - 1s 40ms/step - loss: 0.1783 - accuracy: 0.9315 - val_loss: 0.3094 - val_accuracy: 0.8813\n",
      "Epoch 41/100\n",
      "32/32 [==============================] - 1s 40ms/step - loss: 0.1992 - accuracy: 0.9080 - val_loss: 0.2770 - val_accuracy: 0.8995\n",
      "Epoch 42/100\n",
      "32/32 [==============================] - 1s 40ms/step - loss: 0.1789 - accuracy: 0.9237 - val_loss: 0.2431 - val_accuracy: 0.8995\n",
      "Epoch 43/100\n",
      "32/32 [==============================] - 1s 39ms/step - loss: 0.1773 - accuracy: 0.9207 - val_loss: 0.2519 - val_accuracy: 0.9087\n",
      "Epoch 44/100\n",
      "32/32 [==============================] - 1s 39ms/step - loss: 0.1645 - accuracy: 0.9256 - val_loss: 0.2724 - val_accuracy: 0.9041\n",
      "Epoch 45/100\n",
      "32/32 [==============================] - 1s 40ms/step - loss: 0.1664 - accuracy: 0.9354 - val_loss: 0.3377 - val_accuracy: 0.8356\n",
      "Epoch 46/100\n",
      "32/32 [==============================] - 1s 40ms/step - loss: 0.1864 - accuracy: 0.9188 - val_loss: 0.3007 - val_accuracy: 0.8493\n",
      "Epoch 47/100\n",
      "32/32 [==============================] - 1s 39ms/step - loss: 0.1799 - accuracy: 0.9188 - val_loss: 0.2742 - val_accuracy: 0.8950\n",
      "Epoch 48/100\n",
      "32/32 [==============================] - 1s 39ms/step - loss: 0.1856 - accuracy: 0.9305 - val_loss: 0.2850 - val_accuracy: 0.8950\n",
      "Epoch 49/100\n",
      "32/32 [==============================] - 1s 40ms/step - loss: 0.1740 - accuracy: 0.9266 - val_loss: 0.2956 - val_accuracy: 0.9041\n",
      "Epoch 50/100\n",
      "32/32 [==============================] - 1s 40ms/step - loss: 0.1634 - accuracy: 0.9295 - val_loss: 0.2838 - val_accuracy: 0.9041\n",
      "Epoch 51/100\n",
      "32/32 [==============================] - 1s 40ms/step - loss: 0.1582 - accuracy: 0.9315 - val_loss: 0.3153 - val_accuracy: 0.8950\n",
      "Epoch 52/100\n",
      "32/32 [==============================] - 1s 40ms/step - loss: 0.1595 - accuracy: 0.9335 - val_loss: 0.4846 - val_accuracy: 0.8174\n",
      "Epoch 53/100\n",
      "32/32 [==============================] - 1s 39ms/step - loss: 0.1812 - accuracy: 0.9266 - val_loss: 0.3096 - val_accuracy: 0.9041\n",
      "Epoch 54/100\n",
      "32/32 [==============================] - 1s 39ms/step - loss: 0.1635 - accuracy: 0.9305 - val_loss: 0.2868 - val_accuracy: 0.9132\n",
      "Epoch 55/100\n",
      "32/32 [==============================] - 1s 39ms/step - loss: 0.1914 - accuracy: 0.9159 - val_loss: 0.2780 - val_accuracy: 0.9224\n",
      "Epoch 56/100\n",
      "32/32 [==============================] - 1s 39ms/step - loss: 0.1875 - accuracy: 0.9237 - val_loss: 0.3409 - val_accuracy: 0.9041\n",
      "Epoch 57/100\n",
      "32/32 [==============================] - 1s 39ms/step - loss: 0.1747 - accuracy: 0.9256 - val_loss: 0.2952 - val_accuracy: 0.8950\n",
      "Epoch 58/100\n",
      "32/32 [==============================] - 1s 40ms/step - loss: 0.1665 - accuracy: 0.9247 - val_loss: 0.2648 - val_accuracy: 0.9224\n",
      "Epoch 59/100\n",
      "32/32 [==============================] - 1s 39ms/step - loss: 0.1516 - accuracy: 0.9354 - val_loss: 0.2670 - val_accuracy: 0.9087\n",
      "Epoch 60/100\n",
      "32/32 [==============================] - 1s 39ms/step - loss: 0.1541 - accuracy: 0.9344 - val_loss: 0.3114 - val_accuracy: 0.9132\n",
      "Epoch 61/100\n",
      "32/32 [==============================] - 1s 39ms/step - loss: 0.1476 - accuracy: 0.9364 - val_loss: 0.3215 - val_accuracy: 0.8813\n",
      "Epoch 62/100\n",
      "32/32 [==============================] - 1s 39ms/step - loss: 0.1789 - accuracy: 0.9188 - val_loss: 0.2594 - val_accuracy: 0.8995\n",
      "Epoch 63/100\n",
      "32/32 [==============================] - 1s 40ms/step - loss: 0.1435 - accuracy: 0.9354 - val_loss: 0.3484 - val_accuracy: 0.8950\n",
      "Epoch 64/100\n",
      "32/32 [==============================] - 1s 39ms/step - loss: 0.1879 - accuracy: 0.9188 - val_loss: 0.3253 - val_accuracy: 0.8904\n",
      "Epoch 65/100\n",
      "32/32 [==============================] - 1s 39ms/step - loss: 0.1674 - accuracy: 0.9325 - val_loss: 0.3742 - val_accuracy: 0.8493\n",
      "Epoch 66/100\n",
      "32/32 [==============================] - 1s 39ms/step - loss: 0.1800 - accuracy: 0.9325 - val_loss: 0.2998 - val_accuracy: 0.9087\n",
      "Epoch 67/100\n",
      "32/32 [==============================] - 1s 39ms/step - loss: 0.1626 - accuracy: 0.9286 - val_loss: 0.3244 - val_accuracy: 0.9087\n",
      "Epoch 68/100\n",
      "32/32 [==============================] - 1s 38ms/step - loss: 0.1453 - accuracy: 0.9374 - val_loss: 0.3564 - val_accuracy: 0.8904\n",
      "Epoch 69/100\n",
      "32/32 [==============================] - 1s 39ms/step - loss: 0.1449 - accuracy: 0.9335 - val_loss: 0.3086 - val_accuracy: 0.9132\n",
      "Epoch 70/100\n",
      "32/32 [==============================] - 1s 39ms/step - loss: 0.1204 - accuracy: 0.9442 - val_loss: 0.3190 - val_accuracy: 0.9178\n",
      "Epoch 71/100\n",
      "32/32 [==============================] - 1s 40ms/step - loss: 0.1295 - accuracy: 0.9472 - val_loss: 0.3857 - val_accuracy: 0.9178\n",
      "Epoch 72/100\n",
      "32/32 [==============================] - 1s 39ms/step - loss: 0.1411 - accuracy: 0.9393 - val_loss: 0.2979 - val_accuracy: 0.9087\n",
      "Epoch 73/100\n",
      "32/32 [==============================] - 1s 39ms/step - loss: 0.1385 - accuracy: 0.9374 - val_loss: 0.3702 - val_accuracy: 0.8995\n",
      "Epoch 74/100\n",
      "32/32 [==============================] - 1s 41ms/step - loss: 0.1395 - accuracy: 0.9423 - val_loss: 0.5126 - val_accuracy: 0.8584\n",
      "Epoch 75/100\n",
      "32/32 [==============================] - 1s 41ms/step - loss: 0.1577 - accuracy: 0.9315 - val_loss: 0.2936 - val_accuracy: 0.9132\n",
      "Epoch 76/100\n",
      "32/32 [==============================] - 1s 40ms/step - loss: 0.1583 - accuracy: 0.9305 - val_loss: 0.3172 - val_accuracy: 0.9178\n",
      "Epoch 77/100\n",
      "32/32 [==============================] - 1s 38ms/step - loss: 0.1526 - accuracy: 0.9256 - val_loss: 0.2923 - val_accuracy: 0.9087\n",
      "Epoch 78/100\n",
      "32/32 [==============================] - 1s 40ms/step - loss: 0.1345 - accuracy: 0.9432 - val_loss: 0.3433 - val_accuracy: 0.9041\n",
      "Epoch 79/100\n",
      "32/32 [==============================] - 1s 38ms/step - loss: 0.1252 - accuracy: 0.9423 - val_loss: 0.3497 - val_accuracy: 0.8950\n",
      "Epoch 80/100\n",
      "32/32 [==============================] - 1s 39ms/step - loss: 0.1276 - accuracy: 0.9452 - val_loss: 0.3521 - val_accuracy: 0.9132\n",
      "Epoch 81/100\n",
      "32/32 [==============================] - 1s 40ms/step - loss: 0.1449 - accuracy: 0.9305 - val_loss: 0.4017 - val_accuracy: 0.8950\n",
      "Epoch 82/100\n",
      "32/32 [==============================] - 1s 41ms/step - loss: 0.1191 - accuracy: 0.9481 - val_loss: 0.4925 - val_accuracy: 0.9132\n",
      "Epoch 83/100\n",
      "32/32 [==============================] - 1s 40ms/step - loss: 0.1196 - accuracy: 0.9491 - val_loss: 0.4889 - val_accuracy: 0.8904\n",
      "Epoch 84/100\n",
      "32/32 [==============================] - 1s 41ms/step - loss: 0.1587 - accuracy: 0.9305 - val_loss: 0.2276 - val_accuracy: 0.8950\n",
      "Epoch 85/100\n",
      "32/32 [==============================] - 1s 40ms/step - loss: 0.1680 - accuracy: 0.9247 - val_loss: 0.2770 - val_accuracy: 0.9087\n",
      "Epoch 86/100\n",
      "32/32 [==============================] - 1s 39ms/step - loss: 0.1482 - accuracy: 0.9354 - val_loss: 0.3379 - val_accuracy: 0.8767\n",
      "Epoch 87/100\n",
      "32/32 [==============================] - 1s 40ms/step - loss: 0.1343 - accuracy: 0.9384 - val_loss: 0.3569 - val_accuracy: 0.9041\n",
      "Epoch 88/100\n",
      "32/32 [==============================] - 1s 42ms/step - loss: 0.1326 - accuracy: 0.9384 - val_loss: 0.2977 - val_accuracy: 0.8995\n",
      "Epoch 89/100\n",
      "32/32 [==============================] - 1s 43ms/step - loss: 0.1228 - accuracy: 0.9432 - val_loss: 0.4645 - val_accuracy: 0.8721\n",
      "Epoch 90/100\n",
      "32/32 [==============================] - 1s 42ms/step - loss: 0.1095 - accuracy: 0.9481 - val_loss: 0.3127 - val_accuracy: 0.9178\n",
      "Epoch 91/100\n",
      "32/32 [==============================] - 1s 39ms/step - loss: 0.1209 - accuracy: 0.9472 - val_loss: 0.3968 - val_accuracy: 0.8995\n",
      "Epoch 92/100\n",
      "32/32 [==============================] - 1s 39ms/step - loss: 0.1092 - accuracy: 0.9618 - val_loss: 0.5082 - val_accuracy: 0.9087\n",
      "Epoch 93/100\n",
      "32/32 [==============================] - 1s 38ms/step - loss: 0.1069 - accuracy: 0.9530 - val_loss: 0.3600 - val_accuracy: 0.9178\n",
      "Epoch 94/100\n",
      "32/32 [==============================] - 1s 39ms/step - loss: 0.1071 - accuracy: 0.9462 - val_loss: 0.4503 - val_accuracy: 0.9041\n",
      "Epoch 95/100\n",
      "32/32 [==============================] - 1s 39ms/step - loss: 0.0928 - accuracy: 0.9560 - val_loss: 0.5327 - val_accuracy: 0.9178\n",
      "Epoch 96/100\n",
      "32/32 [==============================] - 1s 39ms/step - loss: 0.1038 - accuracy: 0.9501 - val_loss: 0.4798 - val_accuracy: 0.8950\n",
      "Epoch 97/100\n",
      "32/32 [==============================] - 1s 39ms/step - loss: 0.1294 - accuracy: 0.9550 - val_loss: 0.4734 - val_accuracy: 0.8813\n",
      "Epoch 98/100\n",
      "32/32 [==============================] - 1s 39ms/step - loss: 0.1132 - accuracy: 0.9550 - val_loss: 0.4109 - val_accuracy: 0.9178\n",
      "Epoch 99/100\n",
      "32/32 [==============================] - 1s 41ms/step - loss: 0.1121 - accuracy: 0.9530 - val_loss: 0.3877 - val_accuracy: 0.9132\n",
      "Epoch 100/100\n",
      "32/32 [==============================] - 1s 41ms/step - loss: 0.1456 - accuracy: 0.9403 - val_loss: 0.2951 - val_accuracy: 0.8858\n"
     ]
    }
   ],
   "source": [
    "hist_2 = model_2.fit(X_train, Y_train, batch_size=32, epochs=100, validation_data=(X_val,Y_val))"
   ]
  },
  {
   "cell_type": "markdown",
   "id": "55f62536",
   "metadata": {},
   "source": [
    "#### Loss curves for over-fitting model"
   ]
  },
  {
   "cell_type": "code",
   "execution_count": 30,
   "id": "55f3e841",
   "metadata": {},
   "outputs": [
    {
     "data": {
      "image/png": "[encoded data removed]",
      "text/plain": [
       "<Figure size 640x480 with 1 Axes>"
      ]
     },
     "metadata": {},
     "output_type": "display_data"
    }
   ],
   "source": [
    "plt.plot(hist_2.history['accuracy'])\n",
    "plt.plot(hist_2.history['val_accuracy'])\n",
    "plt.title('Model accuracy')\n",
    "plt.ylabel('Accuracy')\n",
    "plt.xlabel('Epoch')\n",
    "plt.legend(['Train','Val'], loc='lower right')\n",
    "plt.show()"
   ]
  },
  {
   "cell_type": "markdown",
   "id": "2395d4c1",
   "metadata": {},
   "source": [
    "#### Training and validation accuracy for our overfitting model"
   ]
  },
  {
   "cell_type": "code",
   "execution_count": 31,
   "id": "2bbacb36",
   "metadata": {},
   "outputs": [],
   "source": [
    "from keras.layers import Dropout\n",
    "from keras import regularizers"
   ]
  },
  {
   "cell_type": "code",
   "execution_count": 65,
   "id": "09c096f2",
   "metadata": {},
   "outputs": [],
   "source": [
    "model_3 = Sequential([Dense(1000, activation='relu',\n",
    "                           kernel_regularizer=regularizers.l2(0.01),\n",
    "                           input_shape=(10,)),\n",
    "                     Dropout(0.3,),\n",
    "                     Dense(1000, activation='relu', kernel_regularizer=regularizers.l2(0.01)),\n",
    "                     Dropout(0.3),\n",
    "                     Dense(1000, activation='relu', kernel_regularizer=regularizers.l2(0.01)),\n",
    "                     Dropout(0.3),\n",
    "                     Dense(1000, activation='relu', kernel_regularizer=regularizers.l2(0.01)),\n",
    "                     Dropout(0.3),\n",
    "                     Dense(1000, activation='relu',\n",
    "                                        kernel_regularizer=regularizers.l2(0.01)),])"
   ]
  },
  {
   "cell_type": "code",
   "execution_count": 66,
   "id": "e9954a89",
   "metadata": {},
   "outputs": [],
   "source": [
    "model_3.compile(optimizer='adam', loss='binary_crossentropy', metrics=['accuracy'])"
   ]
  },
  {
   "cell_type": "code",
   "execution_count": 67,
   "id": "89c8212d",
   "metadata": {},
   "outputs": [
    {
     "name": "stdout",
     "output_type": "stream",
     "text": [
      "Epoch 1/33\n",
      "32/32 [==============================] - 3s 65ms/step - loss: 27.2689 - accuracy: 0.0000e+00 - val_loss: 15.9591 - val_accuracy: 0.0000e+00\n",
      "Epoch 2/33\n",
      "32/32 [==============================] - 2s 52ms/step - loss: 11.6713 - accuracy: 0.0000e+00 - val_loss: 8.5999 - val_accuracy: 0.0000e+00\n",
      "Epoch 3/33\n",
      "32/32 [==============================] - 2s 52ms/step - loss: 7.1891 - accuracy: 0.0000e+00 - val_loss: 5.9075 - val_accuracy: 0.0000e+00\n",
      "Epoch 4/33\n",
      "32/32 [==============================] - 2s 60ms/step - loss: 5.1490 - accuracy: 0.0000e+00 - val_loss: 4.3663 - val_accuracy: 0.0000e+00\n",
      "Epoch 5/33\n",
      "32/32 [==============================] - 2s 59ms/step - loss: 3.9544 - accuracy: 0.0000e+00 - val_loss: 3.4339 - val_accuracy: 0.0000e+00\n",
      "Epoch 6/33\n",
      "32/32 [==============================] - 2s 59ms/step - loss: 3.1774 - accuracy: 0.0000e+00 - val_loss: 2.8141 - val_accuracy: 0.0000e+00\n",
      "Epoch 7/33\n",
      "32/32 [==============================] - 2s 60ms/step - loss: 2.6458 - accuracy: 0.0000e+00 - val_loss: 2.3502 - val_accuracy: 0.0000e+00\n",
      "Epoch 8/33\n",
      "32/32 [==============================] - 2s 59ms/step - loss: 2.3466 - accuracy: 0.0000e+00 - val_loss: 2.1512 - val_accuracy: 0.0000e+00\n",
      "Epoch 9/33\n",
      "32/32 [==============================] - 2s 60ms/step - loss: 2.0237 - accuracy: 0.0000e+00 - val_loss: 1.8023 - val_accuracy: 0.0000e+00\n",
      "Epoch 10/33\n",
      "32/32 [==============================] - 2s 60ms/step - loss: 1.7785 - accuracy: 0.0000e+00 - val_loss: 1.6033 - val_accuracy: 0.0000e+00\n",
      "Epoch 11/33\n",
      "32/32 [==============================] - 2s 60ms/step - loss: 1.5973 - accuracy: 0.0000e+00 - val_loss: 1.8248 - val_accuracy: 0.0000e+00\n",
      "Epoch 12/33\n",
      "32/32 [==============================] - 2s 60ms/step - loss: 1.7355 - accuracy: 0.0000e+00 - val_loss: 1.5198 - val_accuracy: 0.0000e+00\n",
      "Epoch 13/33\n",
      "32/32 [==============================] - 2s 60ms/step - loss: 1.4861 - accuracy: 0.0000e+00 - val_loss: 1.4032 - val_accuracy: 0.0000e+00\n",
      "Epoch 14/33\n",
      "32/32 [==============================] - 2s 59ms/step - loss: 1.3649 - accuracy: 0.0000e+00 - val_loss: 1.2020 - val_accuracy: 0.0000e+00\n",
      "Epoch 15/33\n",
      "32/32 [==============================] - 2s 60ms/step - loss: 1.4396 - accuracy: 0.0000e+00 - val_loss: 1.2757 - val_accuracy: 0.0000e+00\n",
      "Epoch 16/33\n",
      "32/32 [==============================] - 2s 64ms/step - loss: 1.2496 - accuracy: 0.0000e+00 - val_loss: 1.0794 - val_accuracy: 0.0000e+00\n",
      "Epoch 17/33\n",
      "32/32 [==============================] - 2s 63ms/step - loss: 1.1277 - accuracy: 0.0000e+00 - val_loss: 0.9878 - val_accuracy: 0.0000e+00\n",
      "Epoch 18/33\n",
      "32/32 [==============================] - 2s 61ms/step - loss: 1.0525 - accuracy: 0.0000e+00 - val_loss: 0.9305 - val_accuracy: 0.0000e+00\n",
      "Epoch 19/33\n",
      "32/32 [==============================] - 2s 62ms/step - loss: 1.0261 - accuracy: 0.0000e+00 - val_loss: 0.9908 - val_accuracy: 0.0000e+00\n",
      "Epoch 20/33\n",
      "32/32 [==============================] - 2s 65ms/step - loss: 1.1088 - accuracy: 0.0000e+00 - val_loss: 1.0903 - val_accuracy: 0.0000e+00\n",
      "Epoch 21/33\n",
      "32/32 [==============================] - 2s 63ms/step - loss: 1.0556 - accuracy: 0.0000e+00 - val_loss: 0.8820 - val_accuracy: 0.0000e+00\n",
      "Epoch 22/33\n",
      "32/32 [==============================] - 2s 59ms/step - loss: 1.0790 - accuracy: 0.0000e+00 - val_loss: 0.9017 - val_accuracy: 0.0000e+00\n",
      "Epoch 23/33\n",
      "32/32 [==============================] - 2s 59ms/step - loss: 0.9277 - accuracy: 0.0000e+00 - val_loss: 0.7897 - val_accuracy: 0.0000e+00\n",
      "Epoch 24/33\n",
      "32/32 [==============================] - 2s 61ms/step - loss: 0.9035 - accuracy: 0.0000e+00 - val_loss: 0.8225 - val_accuracy: 0.0000e+00\n",
      "Epoch 25/33\n",
      "32/32 [==============================] - 2s 60ms/step - loss: 0.8850 - accuracy: 0.0000e+00 - val_loss: 0.7518 - val_accuracy: 0.0000e+00\n",
      "Epoch 26/33\n",
      "32/32 [==============================] - 2s 61ms/step - loss: 0.8525 - accuracy: 0.0000e+00 - val_loss: 0.7403 - val_accuracy: 0.0000e+00\n",
      "Epoch 27/33\n",
      "32/32 [==============================] - 2s 61ms/step - loss: 0.7783 - accuracy: 0.0000e+00 - val_loss: 0.6841 - val_accuracy: 0.0000e+00\n",
      "Epoch 28/33\n",
      "32/32 [==============================] - 2s 59ms/step - loss: 0.7645 - accuracy: 0.0000e+00 - val_loss: 0.7243 - val_accuracy: 0.0000e+00\n",
      "Epoch 29/33\n",
      "32/32 [==============================] - 2s 60ms/step - loss: 0.8219 - accuracy: 0.0029 - val_loss: 0.7055 - val_accuracy: 0.0000e+00\n",
      "Epoch 30/33\n",
      "32/32 [==============================] - 2s 60ms/step - loss: 0.7844 - accuracy: 0.0000e+00 - val_loss: 0.6876 - val_accuracy: 0.0000e+00\n",
      "Epoch 31/33\n",
      "32/32 [==============================] - 2s 59ms/step - loss: 0.7565 - accuracy: 0.0000e+00 - val_loss: 0.6716 - val_accuracy: 0.0000e+00\n",
      "Epoch 32/33\n",
      "32/32 [==============================] - 2s 64ms/step - loss: 0.7875 - accuracy: 0.0000e+00 - val_loss: 0.7157 - val_accuracy: 0.0000e+00\n",
      "Epoch 33/33\n",
      "32/32 [==============================] - 2s 62ms/step - loss: 0.7743 - accuracy: 0.0000e+00 - val_loss: 0.6609 - val_accuracy: 0.0000e+00\n"
     ]
    }
   ],
   "source": [
    "hist_3 = model_3.fit(X_train, Y_train, batch_size=32, epochs=33, validation_data=(X_val, Y_val))"
   ]
  },
  {
   "cell_type": "code",
   "execution_count": 70,
   "id": "d68b1cf8",
   "metadata": {},
   "outputs": [
    {
     "data": {
      "image/png": "[encoded data removed]",
      "text/plain": [
       "<Figure size 640x480 with 1 Axes>"
      ]
     },
     "metadata": {},
     "output_type": "display_data"
    }
   ],
   "source": [
    "plt.plot(hist_3.history['loss'])\n",
    "plt.plot(hist_3.history['val_loss'])\n",
    "plt.title('Model loss')\n",
    "plt.ylabel('Loss')\n",
    "plt.xlabel('Epoch')\n",
    "plt.legend(['Train','Val'], loc='upper right')\n",
    "plt.ylim(top=1.2, bottom=0)\n",
    "plt.show()"
   ]
  },
  {
   "cell_type": "code",
   "execution_count": 71,
   "id": "7fc35e81",
   "metadata": {},
   "outputs": [
    {
     "data": {
      "image/png": "[encoded data removed]",
      "text/plain": [
       "<Figure size 640x480 with 1 Axes>"
      ]
     },
     "metadata": {},
     "output_type": "display_data"
    }
   ],
   "source": [
    "plt.plot(hist_3.history['accuracy'])\n",
    "plt.plot(hist_3.history['val_accuracy'])\n",
    "plt.title('Model accuracy')\n",
    "plt.ylabel('Accuracy')\n",
    "plt.xlabel('Epoch')\n",
    "plt.legend(['Train','Val'], loc='upper left')\n",
    "plt.show()"
   ]
  }
 ],
 "metadata": {
  "kernelspec": {
   "display_name": "Python 3 (ipykernel)",
   "language": "python",
   "name": "python3"
  },
  "language_info": {
   "codemirror_mode": {
    "name": "ipython",
    "version": 3
   },
   "file_extension": ".py",
   "mimetype": "text/x-python",
   "name": "python",
   "nbconvert_exporter": "python",
   "pygments_lexer": "ipython3",
   "version": "3.9.13"
  }
 },
 "nbformat": 4,
 "nbformat_minor": 5
}
