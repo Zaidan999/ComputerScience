{
 "cells": [
  {
   "cell_type": "markdown",
   "id": "cf926c1b",
   "metadata": {},
   "source": [
    "# Deep Learning LAB 3\n",
    "### Zaidan Mufaddhal - AIU20092029"
   ]
  },
  {
   "cell_type": "markdown",
   "id": "323b7536",
   "metadata": {},
   "source": [
    "## Reinforcement Learning"
   ]
  },
  {
   "cell_type": "markdown",
   "id": "99718c6d",
   "metadata": {},
   "source": [
    "### 1. The taxi driving problem"
   ]
  },
  {
   "cell_type": "code",
   "execution_count": null,
   "id": "06a867cf",
   "metadata": {},
   "outputs": [],
   "source": [
    "#!pip uninstall gym"
   ]
  },
  {
   "cell_type": "code",
   "execution_count": 43,
   "id": "20e2aa92",
   "metadata": {},
   "outputs": [
    {
     "name": "stdout",
     "output_type": "stream",
     "text": [
      "Collecting gym==0.23.1\n",
      "  Downloading gym-0.23.1.tar.gz (626 kB)\n",
      "     ------------------------------------- 626.2/626.2 kB 31.6 kB/s eta 0:00:00\n",
      "  Installing build dependencies: started\n",
      "  Installing build dependencies: finished with status 'done'\n",
      "  Getting requirements to build wheel: started\n",
      "  Getting requirements to build wheel: finished with status 'done'\n",
      "  Preparing metadata (pyproject.toml): started\n",
      "  Preparing metadata (pyproject.toml): finished with status 'done'\n",
      "Requirement already satisfied: importlib-metadata>=4.10.0 in c:\\users\\zaida\\anaconda3\\lib\\site-packages (from gym==0.23.1) (4.11.3)\n",
      "Requirement already satisfied: numpy>=1.18.0 in c:\\users\\zaida\\anaconda3\\lib\\site-packages (from gym==0.23.1) (1.21.5)\n",
      "Collecting gym-notices>=0.0.4\n",
      "  Using cached gym_notices-0.0.8-py3-none-any.whl (3.0 kB)\n",
      "Requirement already satisfied: cloudpickle>=1.2.0 in c:\\users\\zaida\\anaconda3\\lib\\site-packages (from gym==0.23.1) (1.2.2)\n",
      "Requirement already satisfied: zipp>=0.5 in c:\\users\\zaida\\anaconda3\\lib\\site-packages (from importlib-metadata>=4.10.0->gym==0.23.1) (3.8.0)\n",
      "Building wheels for collected packages: gym\n",
      "  Building wheel for gym (pyproject.toml): started\n",
      "  Building wheel for gym (pyproject.toml): finished with status 'done'\n",
      "  Created wheel for gym: filename=gym-0.23.1-py3-none-any.whl size=701370 sha256=bd0a308c35a4ab2290ebc155b5555a7d9ce826c7608d64d5359c30db9cf46520\n",
      "  Stored in directory: c:\\users\\zaida\\appdata\\local\\pip\\cache\\wheels\\4e\\be\\7e\\92a54668db96883e38ce60a9249dc55de7cd6eee49e7311940\n",
      "Successfully built gym\n",
      "Installing collected packages: gym-notices, gym\n",
      "Successfully installed gym-0.23.1 gym-notices-0.0.8\n"
     ]
    }
   ],
   "source": [
    "#!pip install gym==0.23.1"
   ]
  },
  {
   "cell_type": "code",
   "execution_count": 22,
   "id": "42e425a4",
   "metadata": {},
   "outputs": [
    {
     "name": "stdout",
     "output_type": "stream",
     "text": [
      "Collecting gym==0.15.4\n",
      "  Using cached gym-0.15.4-py3-none-any.whl\n",
      "Requirement already satisfied: cloudpickle~=1.2.0 in c:\\users\\zaida\\anaconda3\\lib\\site-packages (from gym==0.15.4) (1.2.2)\n",
      "Requirement already satisfied: six in c:\\users\\zaida\\anaconda3\\lib\\site-packages (from gym==0.15.4) (1.16.0)\n",
      "Requirement already satisfied: opencv-python in c:\\users\\zaida\\anaconda3\\lib\\site-packages (from gym==0.15.4) (4.6.0.66)\n",
      "Requirement already satisfied: pyglet<=1.3.2,>=1.2.0 in c:\\users\\zaida\\anaconda3\\lib\\site-packages (from gym==0.15.4) (1.3.2)\n",
      "Requirement already satisfied: numpy>=1.10.4 in c:\\users\\zaida\\anaconda3\\lib\\site-packages (from gym==0.15.4) (1.21.5)\n",
      "Requirement already satisfied: scipy in c:\\users\\zaida\\anaconda3\\lib\\site-packages (from gym==0.15.4) (1.9.1)\n",
      "Requirement already satisfied: future in c:\\users\\zaida\\anaconda3\\lib\\site-packages (from pyglet<=1.3.2,>=1.2.0->gym==0.15.4) (0.18.2)\n",
      "Installing collected packages: gym\n",
      "Successfully installed gym-0.15.4\n"
     ]
    }
   ],
   "source": [
    "!pip install gym==0.15.4"
   ]
  },
  {
   "cell_type": "markdown",
   "id": "75a52392",
   "metadata": {},
   "source": [
    "### 2. Environment, actions, states, and rewards"
   ]
  },
  {
   "cell_type": "code",
   "execution_count": 23,
   "id": "e2ea9785",
   "metadata": {},
   "outputs": [],
   "source": [
    "#environment\n",
    "import gym\n",
    "env = gym.make('Taxi-v3').env"
   ]
  },
  {
   "cell_type": "code",
   "execution_count": 24,
   "id": "400d017c",
   "metadata": {},
   "outputs": [
    {
     "name": "stdout",
     "output_type": "stream",
     "text": [
      "Action SpaceDiscrete(6)\n"
     ]
    }
   ],
   "source": [
    "#action\n",
    "print('Action Space{}'.format(env.action_space))"
   ]
  },
  {
   "cell_type": "code",
   "execution_count": 25,
   "id": "ed0f798c",
   "metadata": {},
   "outputs": [
    {
     "name": "stdout",
     "output_type": "stream",
     "text": [
      "State Space Discrete(500)\n"
     ]
    }
   ],
   "source": [
    "#state\n",
    "print('State Space {}'.format(env.observation_space))"
   ]
  },
  {
   "cell_type": "code",
   "execution_count": 26,
   "id": "b7889ecc",
   "metadata": {},
   "outputs": [
    {
     "name": "stdout",
     "output_type": "stream",
     "text": [
      "env.P[state][action][0]: (1.0, 223, -1, False)\n"
     ]
    }
   ],
   "source": [
    "#reward\n",
    "state = 123\n",
    "action = 0\n",
    "\n",
    "print('env.P[state][action][0]:', env.P[state][action][0])"
   ]
  },
  {
   "cell_type": "code",
   "execution_count": 27,
   "id": "1389772b",
   "metadata": {},
   "outputs": [
    {
     "name": "stdout",
     "output_type": "stream",
     "text": [
      "+---------+\n",
      "|R:\u001b[43m \u001b[0m| : :\u001b[35mG\u001b[0m|\n",
      "| : | : : |\n",
      "| : : : : |\n",
      "| | : | : |\n",
      "|\u001b[34;1mY\u001b[0m| : |B: |\n",
      "+---------+\n",
      "\n"
     ]
    }
   ],
   "source": [
    "# need to call reset() at least once before render() will work\n",
    "env.reset()\n",
    "\n",
    "env.s = 123\n",
    "env.render(mode='human')"
   ]
  },
  {
   "cell_type": "code",
   "execution_count": 28,
   "id": "0f6ad2fe",
   "metadata": {},
   "outputs": [
    {
     "name": "stdout",
     "output_type": "stream",
     "text": [
      "+---------+\n",
      "|R:\u001b[43m \u001b[0m| : :\u001b[35mG\u001b[0m|\n",
      "| : | : : |\n",
      "| : : : : |\n",
      "| | : | : |\n",
      "|\u001b[34;1mY\u001b[0m| : |B: |\n",
      "+---------+\n",
      "\n"
     ]
    }
   ],
   "source": [
    "env.s = 223\n",
    "env.render(mode='human')"
   ]
  },
  {
   "cell_type": "markdown",
   "id": "b4b57cbf",
   "metadata": {},
   "source": [
    "### 3. Random agent baseline"
   ]
  },
  {
   "cell_type": "code",
   "execution_count": 29,
   "id": "c0db7b7e",
   "metadata": {},
   "outputs": [],
   "source": [
    "class RandomAgent:\n",
    "    def __init__(self, env):\n",
    "        self.env = env\n",
    "        \n",
    "    def get_action(self, state) -> int:\n",
    "        return self.env.action_space.sample()\n",
    "    \n",
    "agent = RandomAgent(env)"
   ]
  },
  {
   "cell_type": "code",
   "execution_count": 30,
   "id": "02483630",
   "metadata": {},
   "outputs": [
    {
     "name": "stdout",
     "output_type": "stream",
     "text": [
      "Timesteps taken: 566\n",
      "Penalties incurred: 174\n"
     ]
    }
   ],
   "source": [
    "#set initial state of the environment\n",
    "env.reset()\n",
    "state = 123\n",
    "env.s = state\n",
    "\n",
    "epochs = 0\n",
    "penalties = 0 #wrong pick up or drop off\n",
    "reward = 0\n",
    "\n",
    "#store frames to latter plot them\n",
    "frames = []\n",
    "\n",
    "done = False\n",
    "\n",
    "while not done:\n",
    "    action = agent.get_action(state)\n",
    "    \n",
    "    state, reward, done, info = env.step(action)\n",
    "    \n",
    "    if reward == -10:\n",
    "        penalties += 1\n",
    "        \n",
    "    frames.append({\n",
    "        'frame': env.render(mode='ansi'),\n",
    "        'state': state,\n",
    "        'action': action,\n",
    "        'reward': reward\n",
    "    })\n",
    "    epochs += 1\n",
    "    \n",
    "print('Timesteps taken: {}'.format(epochs))\n",
    "print('Penalties incurred: {}'.format(penalties))"
   ]
  },
  {
   "cell_type": "code",
   "execution_count": 31,
   "id": "175457a5",
   "metadata": {},
   "outputs": [
    {
     "name": "stderr",
     "output_type": "stream",
     "text": [
      "100%|██████████| 100/100 [00:06<00:00, 15.92it/s]\n"
     ]
    }
   ],
   "source": [
    "from tqdm import tqdm\n",
    "\n",
    "n_episodes = 100\n",
    "\n",
    "#for plotting metircs\n",
    "timesteps_per_episode = []\n",
    "penalties_per_episode = []\n",
    "\n",
    "for i in tqdm(range(0, n_episodes)):\n",
    "    #reset environment to a random state\n",
    "    state = env.reset()\n",
    "    epochs, penalties, reward = 0,0,0\n",
    "    done = False\n",
    "    \n",
    "    while not done:\n",
    "        action = agent.get_action(state)\n",
    "        \n",
    "        next_state, reward, done, info = env.step(action)\n",
    "        \n",
    "        if reward == -10:\n",
    "            penalties += 1\n",
    "            \n",
    "        state = next_state\n",
    "        epochs += 1\n",
    "        \n",
    "    timesteps_per_episode.append(epochs)\n",
    "    penalties_per_episode.append(penalties)"
   ]
  },
  {
   "cell_type": "code",
   "execution_count": 32,
   "id": "4644de75",
   "metadata": {},
   "outputs": [
    {
     "name": "stdout",
     "output_type": "stream",
     "text": [
      "Avg steps to complete ride: 2329.31\n",
      "Avg penalties to complete ride: 751.51\n"
     ]
    }
   ],
   "source": [
    "import numpy as np\n",
    "print(f'Avg steps to complete ride: {np.array(timesteps_per_episode).mean()}')\n",
    "print(f'Avg penalties to complete ride: {np.array(penalties_per_episode).mean()}')"
   ]
  }
 ],
 "metadata": {
  "kernelspec": {
   "display_name": "Python 3 (ipykernel)",
   "language": "python",
   "name": "python3"
  },
  "language_info": {
   "codemirror_mode": {
    "name": "ipython",
    "version": 3
   },
   "file_extension": ".py",
   "mimetype": "text/x-python",
   "name": "python",
   "nbconvert_exporter": "python",
   "pygments_lexer": "ipython3",
   "version": "3.9.13"
  }
 },
 "nbformat": 4,
 "nbformat_minor": 5
}
