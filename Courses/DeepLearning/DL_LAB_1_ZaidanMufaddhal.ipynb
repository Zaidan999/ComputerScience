{
 "cells": [
  {
   "cell_type": "markdown",
   "id": "0be6bc23",
   "metadata": {},
   "source": [
    "# Deep Learning - Lab 1\n",
    "### Zaidan Mufaddhal - AIU20092029"
   ]
  },
  {
   "cell_type": "markdown",
   "id": "9dd47d56",
   "metadata": {},
   "source": [
    "# 1. Load Data "
   ]
  },
  {
   "cell_type": "code",
   "execution_count": 36,
   "id": "157c7ff5",
   "metadata": {
    "scrolled": false
   },
   "outputs": [
    {
     "name": "stdout",
     "output_type": "stream",
     "text": [
      "Collecting tensorflow\n",
      "  Using cached tensorflow-2.11.0-cp39-cp39-win_amd64.whl (1.9 kB)\n",
      "Collecting tensorflow-intel==2.11.0\n",
      "  Downloading tensorflow_intel-2.11.0-cp39-cp39-win_amd64.whl (266.3 MB)\n",
      "     -------------------------------------- 266.3/266.3 MB 3.3 MB/s eta 0:00:00\n",
      "Collecting gast<=0.4.0,>=0.2.1\n",
      "  Downloading gast-0.4.0-py3-none-any.whl (9.8 kB)\n",
      "Requirement already satisfied: setuptools in c:\\users\\zaida\\anaconda3\\lib\\site-packages (from tensorflow-intel==2.11.0->tensorflow) (63.4.1)\n",
      "Collecting flatbuffers>=2.0\n",
      "  Downloading flatbuffers-22.11.23-py2.py3-none-any.whl (26 kB)\n",
      "Collecting grpcio<2.0,>=1.24.3\n",
      "  Downloading grpcio-1.50.0-cp39-cp39-win_amd64.whl (3.7 MB)\n",
      "     ---------------------------------------- 3.7/3.7 MB 5.2 MB/s eta 0:00:00\n",
      "Collecting protobuf<3.20,>=3.9.2\n",
      "  Downloading protobuf-3.19.6-cp39-cp39-win_amd64.whl (895 kB)\n",
      "     -------------------------------------- 895.9/895.9 kB 5.1 MB/s eta 0:00:00\n",
      "Collecting libclang>=13.0.0\n",
      "  Downloading libclang-14.0.6-py2.py3-none-win_amd64.whl (14.2 MB)\n",
      "     ---------------------------------------- 14.2/14.2 MB 5.1 MB/s eta 0:00:00\n",
      "Collecting absl-py>=1.0.0\n",
      "  Downloading absl_py-1.3.0-py3-none-any.whl (124 kB)\n",
      "     -------------------------------------- 124.6/124.6 kB 2.4 MB/s eta 0:00:00\n",
      "Requirement already satisfied: h5py>=2.9.0 in c:\\users\\zaida\\anaconda3\\lib\\site-packages (from tensorflow-intel==2.11.0->tensorflow) (3.7.0)\n",
      "Collecting termcolor>=1.1.0\n",
      "  Downloading termcolor-2.1.1-py3-none-any.whl (6.2 kB)\n",
      "Requirement already satisfied: keras<2.12,>=2.11.0 in c:\\users\\zaida\\anaconda3\\lib\\site-packages (from tensorflow-intel==2.11.0->tensorflow) (2.11.0)\n",
      "Collecting opt-einsum>=2.3.2\n",
      "  Using cached opt_einsum-3.3.0-py3-none-any.whl (65 kB)\n",
      "Collecting astunparse>=1.6.0\n",
      "  Using cached astunparse-1.6.3-py2.py3-none-any.whl (12 kB)\n",
      "Requirement already satisfied: typing-extensions>=3.6.6 in c:\\users\\zaida\\anaconda3\\lib\\site-packages (from tensorflow-intel==2.11.0->tensorflow) (4.3.0)\n",
      "Requirement already satisfied: packaging in c:\\users\\zaida\\anaconda3\\lib\\site-packages (from tensorflow-intel==2.11.0->tensorflow) (21.3)\n",
      "Collecting tensorflow-estimator<2.12,>=2.11.0\n",
      "  Downloading tensorflow_estimator-2.11.0-py2.py3-none-any.whl (439 kB)\n",
      "     -------------------------------------- 439.2/439.2 kB 2.5 MB/s eta 0:00:00\n",
      "Collecting google-pasta>=0.1.1\n",
      "  Using cached google_pasta-0.2.0-py3-none-any.whl (57 kB)\n",
      "Requirement already satisfied: six>=1.12.0 in c:\\users\\zaida\\anaconda3\\lib\\site-packages (from tensorflow-intel==2.11.0->tensorflow) (1.16.0)\n",
      "Collecting tensorflow-io-gcs-filesystem>=0.23.1\n",
      "  Downloading tensorflow_io_gcs_filesystem-0.28.0-cp39-cp39-win_amd64.whl (1.5 MB)\n",
      "     ---------------------------------------- 1.5/1.5 MB 3.8 MB/s eta 0:00:00\n",
      "Requirement already satisfied: numpy>=1.20 in c:\\users\\zaida\\anaconda3\\lib\\site-packages (from tensorflow-intel==2.11.0->tensorflow) (1.21.5)\n",
      "Collecting tensorboard<2.12,>=2.11\n",
      "  Downloading tensorboard-2.11.0-py3-none-any.whl (6.0 MB)\n",
      "     ---------------------------------------- 6.0/6.0 MB 4.0 MB/s eta 0:00:00\n",
      "Requirement already satisfied: wrapt>=1.11.0 in c:\\users\\zaida\\anaconda3\\lib\\site-packages (from tensorflow-intel==2.11.0->tensorflow) (1.14.1)\n",
      "Requirement already satisfied: wheel<1.0,>=0.23.0 in c:\\users\\zaida\\anaconda3\\lib\\site-packages (from astunparse>=1.6.0->tensorflow-intel==2.11.0->tensorflow) (0.37.1)\n",
      "Collecting tensorboard-plugin-wit>=1.6.0\n",
      "  Using cached tensorboard_plugin_wit-1.8.1-py3-none-any.whl (781 kB)\n",
      "Requirement already satisfied: werkzeug>=1.0.1 in c:\\users\\zaida\\anaconda3\\lib\\site-packages (from tensorboard<2.12,>=2.11->tensorflow-intel==2.11.0->tensorflow) (2.0.3)\n",
      "Collecting google-auth-oauthlib<0.5,>=0.4.1\n",
      "  Using cached google_auth_oauthlib-0.4.6-py2.py3-none-any.whl (18 kB)\n",
      "Collecting tensorboard-data-server<0.7.0,>=0.6.0\n",
      "  Using cached tensorboard_data_server-0.6.1-py3-none-any.whl (2.4 kB)\n",
      "Collecting google-auth<3,>=1.6.3\n",
      "  Downloading google_auth-2.14.1-py2.py3-none-any.whl (175 kB)\n",
      "     -------------------------------------- 175.4/175.4 kB 3.6 MB/s eta 0:00:00\n",
      "Requirement already satisfied: markdown>=2.6.8 in c:\\users\\zaida\\anaconda3\\lib\\site-packages (from tensorboard<2.12,>=2.11->tensorflow-intel==2.11.0->tensorflow) (3.3.4)\n",
      "Requirement already satisfied: requests<3,>=2.21.0 in c:\\users\\zaida\\anaconda3\\lib\\site-packages (from tensorboard<2.12,>=2.11->tensorflow-intel==2.11.0->tensorflow) (2.28.1)\n",
      "Requirement already satisfied: pyparsing!=3.0.5,>=2.0.2 in c:\\users\\zaida\\anaconda3\\lib\\site-packages (from packaging->tensorflow-intel==2.11.0->tensorflow) (3.0.9)\n",
      "Collecting cachetools<6.0,>=2.0.0\n",
      "  Downloading cachetools-5.2.0-py3-none-any.whl (9.3 kB)\n",
      "Requirement already satisfied: pyasn1-modules>=0.2.1 in c:\\users\\zaida\\anaconda3\\lib\\site-packages (from google-auth<3,>=1.6.3->tensorboard<2.12,>=2.11->tensorflow-intel==2.11.0->tensorflow) (0.2.8)\n",
      "Collecting rsa<5,>=3.1.4\n",
      "  Downloading rsa-4.9-py3-none-any.whl (34 kB)\n",
      "Collecting requests-oauthlib>=0.7.0\n",
      "  Using cached requests_oauthlib-1.3.1-py2.py3-none-any.whl (23 kB)\n",
      "Requirement already satisfied: certifi>=2017.4.17 in c:\\users\\zaida\\anaconda3\\lib\\site-packages (from requests<3,>=2.21.0->tensorboard<2.12,>=2.11->tensorflow-intel==2.11.0->tensorflow) (2022.9.14)\n",
      "Requirement already satisfied: urllib3<1.27,>=1.21.1 in c:\\users\\zaida\\anaconda3\\lib\\site-packages (from requests<3,>=2.21.0->tensorboard<2.12,>=2.11->tensorflow-intel==2.11.0->tensorflow) (1.26.11)\n",
      "Requirement already satisfied: charset-normalizer<3,>=2 in c:\\users\\zaida\\anaconda3\\lib\\site-packages (from requests<3,>=2.21.0->tensorboard<2.12,>=2.11->tensorflow-intel==2.11.0->tensorflow) (2.0.4)\n",
      "Requirement already satisfied: idna<4,>=2.5 in c:\\users\\zaida\\anaconda3\\lib\\site-packages (from requests<3,>=2.21.0->tensorboard<2.12,>=2.11->tensorflow-intel==2.11.0->tensorflow) (3.3)\n",
      "Requirement already satisfied: pyasn1<0.5.0,>=0.4.6 in c:\\users\\zaida\\anaconda3\\lib\\site-packages (from pyasn1-modules>=0.2.1->google-auth<3,>=1.6.3->tensorboard<2.12,>=2.11->tensorflow-intel==2.11.0->tensorflow) (0.4.8)\n",
      "Collecting oauthlib>=3.0.0\n",
      "  Downloading oauthlib-3.2.2-py3-none-any.whl (151 kB)\n",
      "     -------------------------------------- 151.7/151.7 kB 4.6 MB/s eta 0:00:00\n",
      "Installing collected packages: tensorboard-plugin-wit, libclang, flatbuffers, termcolor, tensorflow-io-gcs-filesystem, tensorflow-estimator, tensorboard-data-server, rsa, protobuf, opt-einsum, oauthlib, grpcio, google-pasta, gast, cachetools, astunparse, absl-py, requests-oauthlib, google-auth, google-auth-oauthlib, tensorboard, tensorflow-intel, tensorflow\n",
      "Successfully installed absl-py-1.3.0 astunparse-1.6.3 cachetools-5.2.0 flatbuffers-22.11.23 gast-0.4.0 google-auth-2.14.1 google-auth-oauthlib-0.4.6 google-pasta-0.2.0 grpcio-1.50.0 libclang-14.0.6 oauthlib-3.2.2 opt-einsum-3.3.0 protobuf-3.19.6 requests-oauthlib-1.3.1 rsa-4.9 tensorboard-2.11.0 tensorboard-data-server-0.6.1 tensorboard-plugin-wit-1.8.1 tensorflow-2.11.0 tensorflow-estimator-2.11.0 tensorflow-intel-2.11.0 tensorflow-io-gcs-filesystem-0.28.0 termcolor-2.1.1\n"
     ]
    }
   ],
   "source": [
    "#importing libraries\n",
    "#!pip install tensorflow"
   ]
  },
  {
   "cell_type": "code",
   "execution_count": 58,
   "id": "7df21ed0",
   "metadata": {},
   "outputs": [],
   "source": [
    "import pandas as pd\n",
    "from tensorflow.keras.models import Sequential\n",
    "from tensorflow.keras.layers import Dense"
   ]
  },
  {
   "cell_type": "code",
   "execution_count": 59,
   "id": "35e04b24",
   "metadata": {},
   "outputs": [],
   "source": [
    "#load the dataset\n",
    "dataset = pd.read_csv('Downloads\\pima-indians-diabetes.csv', delimiter=',')"
   ]
  },
  {
   "cell_type": "code",
   "execution_count": 60,
   "id": "da521112",
   "metadata": {},
   "outputs": [
    {
     "data": {
      "text/html": [
       "<div>\n",
       "<style scoped>\n",
       "    .dataframe tbody tr th:only-of-type {\n",
       "        vertical-align: middle;\n",
       "    }\n",
       "\n",
       "    .dataframe tbody tr th {\n",
       "        vertical-align: top;\n",
       "    }\n",
       "\n",
       "    .dataframe thead th {\n",
       "        text-align: right;\n",
       "    }\n",
       "</style>\n",
       "<table border=\"1\" class=\"dataframe\">\n",
       "  <thead>\n",
       "    <tr style=\"text-align: right;\">\n",
       "      <th></th>\n",
       "      <th>preg</th>\n",
       "      <th>pias</th>\n",
       "      <th>pres</th>\n",
       "      <th>skin</th>\n",
       "      <th>test</th>\n",
       "      <th>maa</th>\n",
       "      <th>pedi</th>\n",
       "      <th>age</th>\n",
       "      <th>class</th>\n",
       "    </tr>\n",
       "  </thead>\n",
       "  <tbody>\n",
       "    <tr>\n",
       "      <th>0</th>\n",
       "      <td>6</td>\n",
       "      <td>148</td>\n",
       "      <td>72</td>\n",
       "      <td>35</td>\n",
       "      <td>0</td>\n",
       "      <td>33.6</td>\n",
       "      <td>0.627</td>\n",
       "      <td>50</td>\n",
       "      <td>1</td>\n",
       "    </tr>\n",
       "    <tr>\n",
       "      <th>1</th>\n",
       "      <td>1</td>\n",
       "      <td>85</td>\n",
       "      <td>66</td>\n",
       "      <td>29</td>\n",
       "      <td>0</td>\n",
       "      <td>26.6</td>\n",
       "      <td>0.351</td>\n",
       "      <td>31</td>\n",
       "      <td>0</td>\n",
       "    </tr>\n",
       "    <tr>\n",
       "      <th>2</th>\n",
       "      <td>8</td>\n",
       "      <td>183</td>\n",
       "      <td>64</td>\n",
       "      <td>0</td>\n",
       "      <td>0</td>\n",
       "      <td>23.3</td>\n",
       "      <td>0.672</td>\n",
       "      <td>32</td>\n",
       "      <td>1</td>\n",
       "    </tr>\n",
       "    <tr>\n",
       "      <th>3</th>\n",
       "      <td>1</td>\n",
       "      <td>89</td>\n",
       "      <td>66</td>\n",
       "      <td>23</td>\n",
       "      <td>94</td>\n",
       "      <td>28.1</td>\n",
       "      <td>0.167</td>\n",
       "      <td>21</td>\n",
       "      <td>0</td>\n",
       "    </tr>\n",
       "    <tr>\n",
       "      <th>4</th>\n",
       "      <td>0</td>\n",
       "      <td>137</td>\n",
       "      <td>40</td>\n",
       "      <td>35</td>\n",
       "      <td>168</td>\n",
       "      <td>43.1</td>\n",
       "      <td>2.288</td>\n",
       "      <td>33</td>\n",
       "      <td>1</td>\n",
       "    </tr>\n",
       "    <tr>\n",
       "      <th>...</th>\n",
       "      <td>...</td>\n",
       "      <td>...</td>\n",
       "      <td>...</td>\n",
       "      <td>...</td>\n",
       "      <td>...</td>\n",
       "      <td>...</td>\n",
       "      <td>...</td>\n",
       "      <td>...</td>\n",
       "      <td>...</td>\n",
       "    </tr>\n",
       "    <tr>\n",
       "      <th>763</th>\n",
       "      <td>10</td>\n",
       "      <td>101</td>\n",
       "      <td>76</td>\n",
       "      <td>48</td>\n",
       "      <td>180</td>\n",
       "      <td>32.9</td>\n",
       "      <td>0.171</td>\n",
       "      <td>63</td>\n",
       "      <td>0</td>\n",
       "    </tr>\n",
       "    <tr>\n",
       "      <th>764</th>\n",
       "      <td>2</td>\n",
       "      <td>122</td>\n",
       "      <td>70</td>\n",
       "      <td>27</td>\n",
       "      <td>0</td>\n",
       "      <td>36.8</td>\n",
       "      <td>0.340</td>\n",
       "      <td>27</td>\n",
       "      <td>0</td>\n",
       "    </tr>\n",
       "    <tr>\n",
       "      <th>765</th>\n",
       "      <td>5</td>\n",
       "      <td>121</td>\n",
       "      <td>72</td>\n",
       "      <td>23</td>\n",
       "      <td>112</td>\n",
       "      <td>26.2</td>\n",
       "      <td>0.245</td>\n",
       "      <td>30</td>\n",
       "      <td>0</td>\n",
       "    </tr>\n",
       "    <tr>\n",
       "      <th>766</th>\n",
       "      <td>1</td>\n",
       "      <td>126</td>\n",
       "      <td>60</td>\n",
       "      <td>0</td>\n",
       "      <td>0</td>\n",
       "      <td>30.1</td>\n",
       "      <td>0.349</td>\n",
       "      <td>47</td>\n",
       "      <td>1</td>\n",
       "    </tr>\n",
       "    <tr>\n",
       "      <th>767</th>\n",
       "      <td>1</td>\n",
       "      <td>93</td>\n",
       "      <td>70</td>\n",
       "      <td>31</td>\n",
       "      <td>0</td>\n",
       "      <td>30.4</td>\n",
       "      <td>0.315</td>\n",
       "      <td>23</td>\n",
       "      <td>0</td>\n",
       "    </tr>\n",
       "  </tbody>\n",
       "</table>\n",
       "<p>768 rows × 9 columns</p>\n",
       "</div>"
      ],
      "text/plain": [
       "     preg  pias  pres  skin  test   maa   pedi  age  class\n",
       "0       6   148    72    35     0  33.6  0.627   50      1\n",
       "1       1    85    66    29     0  26.6  0.351   31      0\n",
       "2       8   183    64     0     0  23.3  0.672   32      1\n",
       "3       1    89    66    23    94  28.1  0.167   21      0\n",
       "4       0   137    40    35   168  43.1  2.288   33      1\n",
       "..    ...   ...   ...   ...   ...   ...    ...  ...    ...\n",
       "763    10   101    76    48   180  32.9  0.171   63      0\n",
       "764     2   122    70    27     0  36.8  0.340   27      0\n",
       "765     5   121    72    23   112  26.2  0.245   30      0\n",
       "766     1   126    60     0     0  30.1  0.349   47      1\n",
       "767     1    93    70    31     0  30.4  0.315   23      0\n",
       "\n",
       "[768 rows x 9 columns]"
      ]
     },
     "execution_count": 60,
     "metadata": {},
     "output_type": "execute_result"
    }
   ],
   "source": [
    "dataset"
   ]
  },
  {
   "cell_type": "code",
   "execution_count": 61,
   "id": "6cbb44fc",
   "metadata": {},
   "outputs": [
    {
     "name": "stdout",
     "output_type": "stream",
     "text": [
      "<class 'pandas.core.frame.DataFrame'>\n",
      "RangeIndex: 768 entries, 0 to 767\n",
      "Data columns (total 9 columns):\n",
      " #   Column  Non-Null Count  Dtype  \n",
      "---  ------  --------------  -----  \n",
      " 0   preg    768 non-null    int64  \n",
      " 1   pias    768 non-null    int64  \n",
      " 2   pres    768 non-null    int64  \n",
      " 3   skin    768 non-null    int64  \n",
      " 4   test    768 non-null    int64  \n",
      " 5   maa     768 non-null    float64\n",
      " 6   pedi    768 non-null    float64\n",
      " 7   age     768 non-null    int64  \n",
      " 8   class   768 non-null    int64  \n",
      "dtypes: float64(2), int64(7)\n",
      "memory usage: 54.1 KB\n"
     ]
    }
   ],
   "source": [
    "dataset.info()"
   ]
  },
  {
   "cell_type": "code",
   "execution_count": 62,
   "id": "10fb5b34",
   "metadata": {},
   "outputs": [],
   "source": [
    "#split into input (X) and output (Y) variables\n",
    "array = dataset.values\n",
    "X = array[:,0:8]\n",
    "Y = array[:,8]"
   ]
  },
  {
   "cell_type": "markdown",
   "id": "05e16e9b",
   "metadata": {},
   "source": [
    "# 2. Define Keras Model"
   ]
  },
  {
   "cell_type": "code",
   "execution_count": 63,
   "id": "b608127b",
   "metadata": {},
   "outputs": [],
   "source": [
    "#define the keras model\n",
    "model = Sequential()\n",
    "model.add(Dense(12, input_shape=(8,), activation='relu'))\n",
    "model.add(Dense(8, activation='relu'))\n",
    "model.add(Dense(1, activation='sigmoid'))"
   ]
  },
  {
   "cell_type": "markdown",
   "id": "b67929ec",
   "metadata": {},
   "source": [
    "# 3. Compile Keras Model"
   ]
  },
  {
   "cell_type": "code",
   "execution_count": 64,
   "id": "eb2ab759",
   "metadata": {},
   "outputs": [],
   "source": [
    "#compile the keras model\n",
    "model.compile(loss='binary_crossentropy', optimizer='adam', metrics=['accuracy'])"
   ]
  },
  {
   "cell_type": "markdown",
   "id": "4b1f2796",
   "metadata": {},
   "source": [
    "# 4. Fit Keras Model"
   ]
  },
  {
   "cell_type": "code",
   "execution_count": 65,
   "id": "f89fb2bb",
   "metadata": {},
   "outputs": [
    {
     "name": "stdout",
     "output_type": "stream",
     "text": [
      "Epoch 1/50\n",
      "77/77 [==============================] - 1s 2ms/step - loss: 5.6425 - accuracy: 0.5924\n",
      "Epoch 2/50\n",
      "77/77 [==============================] - 0s 2ms/step - loss: 2.9692 - accuracy: 0.5273\n",
      "Epoch 3/50\n",
      "77/77 [==============================] - 0s 2ms/step - loss: 2.3257 - accuracy: 0.5599\n",
      "Epoch 4/50\n",
      "77/77 [==============================] - 0s 2ms/step - loss: 1.7705 - accuracy: 0.5508\n",
      "Epoch 5/50\n",
      "77/77 [==============================] - 0s 2ms/step - loss: 1.3236 - accuracy: 0.5820\n",
      "Epoch 6/50\n",
      "77/77 [==============================] - 0s 2ms/step - loss: 1.0848 - accuracy: 0.5924\n",
      "Epoch 7/50\n",
      "77/77 [==============================] - 0s 2ms/step - loss: 0.9990 - accuracy: 0.6380\n",
      "Epoch 8/50\n",
      "77/77 [==============================] - 0s 2ms/step - loss: 0.9118 - accuracy: 0.6406\n",
      "Epoch 9/50\n",
      "77/77 [==============================] - 0s 2ms/step - loss: 0.8582 - accuracy: 0.6237\n",
      "Epoch 10/50\n",
      "77/77 [==============================] - 0s 2ms/step - loss: 0.7985 - accuracy: 0.6667\n",
      "Epoch 11/50\n",
      "77/77 [==============================] - 0s 2ms/step - loss: 0.7598 - accuracy: 0.6536\n",
      "Epoch 12/50\n",
      "77/77 [==============================] - 0s 2ms/step - loss: 0.7529 - accuracy: 0.6654\n",
      "Epoch 13/50\n",
      "77/77 [==============================] - 0s 2ms/step - loss: 0.7106 - accuracy: 0.6797\n",
      "Epoch 14/50\n",
      "77/77 [==============================] - 0s 2ms/step - loss: 0.7192 - accuracy: 0.6706\n",
      "Epoch 15/50\n",
      "77/77 [==============================] - 0s 2ms/step - loss: 0.7085 - accuracy: 0.6732\n",
      "Epoch 16/50\n",
      "77/77 [==============================] - 0s 2ms/step - loss: 0.6766 - accuracy: 0.6888\n",
      "Epoch 17/50\n",
      "77/77 [==============================] - 0s 2ms/step - loss: 0.6589 - accuracy: 0.6784\n",
      "Epoch 18/50\n",
      "77/77 [==============================] - 0s 2ms/step - loss: 0.6540 - accuracy: 0.6901\n",
      "Epoch 19/50\n",
      "77/77 [==============================] - 0s 2ms/step - loss: 0.6229 - accuracy: 0.6979\n",
      "Epoch 20/50\n",
      "77/77 [==============================] - 0s 2ms/step - loss: 0.6225 - accuracy: 0.6992\n",
      "Epoch 21/50\n",
      "77/77 [==============================] - 0s 2ms/step - loss: 0.6274 - accuracy: 0.6862\n",
      "Epoch 22/50\n",
      "77/77 [==============================] - 0s 2ms/step - loss: 0.6301 - accuracy: 0.6797\n",
      "Epoch 23/50\n",
      "77/77 [==============================] - 0s 2ms/step - loss: 0.6228 - accuracy: 0.6992\n",
      "Epoch 24/50\n",
      "77/77 [==============================] - 0s 2ms/step - loss: 0.5944 - accuracy: 0.7031\n",
      "Epoch 25/50\n",
      "77/77 [==============================] - 0s 2ms/step - loss: 0.5844 - accuracy: 0.7096\n",
      "Epoch 26/50\n",
      "77/77 [==============================] - 0s 2ms/step - loss: 0.5996 - accuracy: 0.6862\n",
      "Epoch 27/50\n",
      "77/77 [==============================] - 0s 2ms/step - loss: 0.6141 - accuracy: 0.6927\n",
      "Epoch 28/50\n",
      "77/77 [==============================] - 0s 2ms/step - loss: 0.5946 - accuracy: 0.7070\n",
      "Epoch 29/50\n",
      "77/77 [==============================] - 0s 2ms/step - loss: 0.6076 - accuracy: 0.6836\n",
      "Epoch 30/50\n",
      "77/77 [==============================] - 0s 2ms/step - loss: 0.6055 - accuracy: 0.6875\n",
      "Epoch 31/50\n",
      "77/77 [==============================] - 0s 2ms/step - loss: 0.6016 - accuracy: 0.6875\n",
      "Epoch 32/50\n",
      "77/77 [==============================] - 0s 2ms/step - loss: 0.5863 - accuracy: 0.6940\n",
      "Epoch 33/50\n",
      "77/77 [==============================] - 0s 2ms/step - loss: 0.5799 - accuracy: 0.7005\n",
      "Epoch 34/50\n",
      "77/77 [==============================] - 0s 2ms/step - loss: 0.5759 - accuracy: 0.7188\n",
      "Epoch 35/50\n",
      "77/77 [==============================] - 0s 2ms/step - loss: 0.5820 - accuracy: 0.7122\n",
      "Epoch 36/50\n",
      "77/77 [==============================] - 0s 2ms/step - loss: 0.5808 - accuracy: 0.6966\n",
      "Epoch 37/50\n",
      "77/77 [==============================] - 0s 2ms/step - loss: 0.5807 - accuracy: 0.7396\n",
      "Epoch 38/50\n",
      "77/77 [==============================] - 0s 2ms/step - loss: 0.6079 - accuracy: 0.6914\n",
      "Epoch 39/50\n",
      "77/77 [==============================] - 0s 2ms/step - loss: 0.5862 - accuracy: 0.6979\n",
      "Epoch 40/50\n",
      "77/77 [==============================] - 0s 2ms/step - loss: 0.5710 - accuracy: 0.7109\n",
      "Epoch 41/50\n",
      "77/77 [==============================] - 0s 2ms/step - loss: 0.5827 - accuracy: 0.7135\n",
      "Epoch 42/50\n",
      "77/77 [==============================] - 0s 2ms/step - loss: 0.5713 - accuracy: 0.7292\n",
      "Epoch 43/50\n",
      "77/77 [==============================] - 0s 2ms/step - loss: 0.5651 - accuracy: 0.7253\n",
      "Epoch 44/50\n",
      "77/77 [==============================] - 0s 2ms/step - loss: 0.5684 - accuracy: 0.7214\n",
      "Epoch 45/50\n",
      "77/77 [==============================] - 0s 2ms/step - loss: 0.5494 - accuracy: 0.7266\n",
      "Epoch 46/50\n",
      "77/77 [==============================] - 0s 2ms/step - loss: 0.5658 - accuracy: 0.7031\n",
      "Epoch 47/50\n",
      "77/77 [==============================] - 0s 2ms/step - loss: 0.5473 - accuracy: 0.7214\n",
      "Epoch 48/50\n",
      "77/77 [==============================] - 0s 2ms/step - loss: 0.5585 - accuracy: 0.7214\n",
      "Epoch 49/50\n",
      "77/77 [==============================] - 0s 2ms/step - loss: 0.5584 - accuracy: 0.7214\n",
      "Epoch 50/50\n",
      "77/77 [==============================] - 0s 2ms/step - loss: 0.5591 - accuracy: 0.7396\n"
     ]
    },
    {
     "data": {
      "text/plain": [
       "<keras.callbacks.History at 0x26aea451730>"
      ]
     },
     "execution_count": 65,
     "metadata": {},
     "output_type": "execute_result"
    }
   ],
   "source": [
    "#fit the keras model on the dataset\n",
    "model.fit(X, Y, epochs=50, batch_size=10)"
   ]
  },
  {
   "cell_type": "markdown",
   "id": "317c2df8",
   "metadata": {},
   "source": [
    "# 5. Evaluate Keras Model"
   ]
  },
  {
   "cell_type": "code",
   "execution_count": 52,
   "id": "1265ceae",
   "metadata": {},
   "outputs": [
    {
     "name": "stdout",
     "output_type": "stream",
     "text": [
      "24/24 [==============================] - 0s 2ms/step - loss: 0.5406 - accuracy: 0.7383\n",
      "Accuracy: \n",
      "[0.5405998826026917, 0.73828125, 0.5405998826026917, 0.73828125, 0.5405998826026917, 0.73828125, 0.5405998826026917, 0.73828125, 0.5405998826026917, 0.73828125, 0.5405998826026917, 0.73828125, 0.5405998826026917, 0.73828125, 0.5405998826026917, 0.73828125, 0.5405998826026917, 0.73828125, 0.5405998826026917, 0.73828125, 0.5405998826026917, 0.73828125, 0.5405998826026917, 0.73828125, 0.5405998826026917, 0.73828125, 0.5405998826026917, 0.73828125, 0.5405998826026917, 0.73828125, 0.5405998826026917, 0.73828125, 0.5405998826026917, 0.73828125, 0.5405998826026917, 0.73828125, 0.5405998826026917, 0.73828125, 0.5405998826026917, 0.73828125, 0.5405998826026917, 0.73828125, 0.5405998826026917, 0.73828125, 0.5405998826026917, 0.73828125, 0.5405998826026917, 0.73828125, 0.5405998826026917, 0.73828125, 0.5405998826026917, 0.73828125, 0.5405998826026917, 0.73828125, 0.5405998826026917, 0.73828125, 0.5405998826026917, 0.73828125, 0.5405998826026917, 0.73828125, 0.5405998826026917, 0.73828125, 0.5405998826026917, 0.73828125, 0.5405998826026917, 0.73828125, 0.5405998826026917, 0.73828125, 0.5405998826026917, 0.73828125, 0.5405998826026917, 0.73828125, 0.5405998826026917, 0.73828125, 0.5405998826026917, 0.73828125, 0.5405998826026917, 0.73828125, 0.5405998826026917, 0.73828125, 0.5405998826026917, 0.73828125, 0.5405998826026917, 0.73828125, 0.5405998826026917, 0.73828125, 0.5405998826026917, 0.73828125, 0.5405998826026917, 0.73828125, 0.5405998826026917, 0.73828125, 0.5405998826026917, 0.73828125, 0.5405998826026917, 0.73828125, 0.5405998826026917, 0.73828125, 0.5405998826026917, 0.73828125, 0.5405998826026917, 0.73828125, 0.5405998826026917, 0.73828125, 0.5405998826026917, 0.73828125, 0.5405998826026917, 0.73828125, 0.5405998826026917, 0.73828125, 0.5405998826026917, 0.73828125, 0.5405998826026917, 0.73828125, 0.5405998826026917, 0.73828125, 0.5405998826026917, 0.73828125, 0.5405998826026917, 0.73828125, 0.5405998826026917, 0.73828125, 0.5405998826026917, 0.73828125, 0.5405998826026917, 0.73828125, 0.5405998826026917, 0.73828125, 0.5405998826026917, 0.73828125, 0.5405998826026917, 0.73828125, 0.5405998826026917, 0.73828125, 0.5405998826026917, 0.73828125, 0.5405998826026917, 0.73828125, 0.5405998826026917, 0.73828125, 0.5405998826026917, 0.73828125, 0.5405998826026917, 0.73828125, 0.5405998826026917, 0.73828125, 0.5405998826026917, 0.73828125, 0.5405998826026917, 0.73828125, 0.5405998826026917, 0.73828125, 0.5405998826026917, 0.73828125, 0.5405998826026917, 0.73828125, 0.5405998826026917, 0.73828125, 0.5405998826026917, 0.73828125, 0.5405998826026917, 0.73828125, 0.5405998826026917, 0.73828125, 0.5405998826026917, 0.73828125, 0.5405998826026917, 0.73828125, 0.5405998826026917, 0.73828125, 0.5405998826026917, 0.73828125, 0.5405998826026917, 0.73828125, 0.5405998826026917, 0.73828125, 0.5405998826026917, 0.73828125, 0.5405998826026917, 0.73828125, 0.5405998826026917, 0.73828125, 0.5405998826026917, 0.73828125, 0.5405998826026917, 0.73828125, 0.5405998826026917, 0.73828125, 0.5405998826026917, 0.73828125, 0.5405998826026917, 0.73828125, 0.5405998826026917, 0.73828125, 0.5405998826026917, 0.73828125, 0.5405998826026917, 0.73828125, 0.5405998826026917, 0.73828125]:\n"
     ]
    }
   ],
   "source": [
    "#evalute the keras model\n",
    "accuracy = model.evaluate(X, Y)\n",
    "print('Accuracy: \\n%s:' % (accuracy*100))"
   ]
  },
  {
   "cell_type": "markdown",
   "id": "e1a5bb39",
   "metadata": {},
   "source": [
    "### Importing dataset (House Price)"
   ]
  },
  {
   "cell_type": "code",
   "execution_count": 1,
   "id": "8e47a73f",
   "metadata": {},
   "outputs": [],
   "source": [
    "#import library\n",
    "import pandas as pd"
   ]
  },
  {
   "cell_type": "code",
   "execution_count": 2,
   "id": "75d963e1",
   "metadata": {},
   "outputs": [],
   "source": [
    "#import dataset\n",
    "df = pd.read_csv('Downloads\\housepricedata.csv')"
   ]
  },
  {
   "cell_type": "code",
   "execution_count": 3,
   "id": "4925bd5d",
   "metadata": {},
   "outputs": [
    {
     "data": {
      "text/html": [
       "<div>\n",
       "<style scoped>\n",
       "    .dataframe tbody tr th:only-of-type {\n",
       "        vertical-align: middle;\n",
       "    }\n",
       "\n",
       "    .dataframe tbody tr th {\n",
       "        vertical-align: top;\n",
       "    }\n",
       "\n",
       "    .dataframe thead th {\n",
       "        text-align: right;\n",
       "    }\n",
       "</style>\n",
       "<table border=\"1\" class=\"dataframe\">\n",
       "  <thead>\n",
       "    <tr style=\"text-align: right;\">\n",
       "      <th></th>\n",
       "      <th>LotArea</th>\n",
       "      <th>OverallQual</th>\n",
       "      <th>OverallCond</th>\n",
       "      <th>TotalBsmtSF</th>\n",
       "      <th>FullBath</th>\n",
       "      <th>HalfBath</th>\n",
       "      <th>BedroomAbvGr</th>\n",
       "      <th>TotRmsAbvGrd</th>\n",
       "      <th>Fireplaces</th>\n",
       "      <th>GarageArea</th>\n",
       "      <th>AboveMedianPrice</th>\n",
       "    </tr>\n",
       "  </thead>\n",
       "  <tbody>\n",
       "    <tr>\n",
       "      <th>0</th>\n",
       "      <td>8450.0</td>\n",
       "      <td>7.0</td>\n",
       "      <td>5.0</td>\n",
       "      <td>856.0</td>\n",
       "      <td>2.0</td>\n",
       "      <td>1.0</td>\n",
       "      <td>3.0</td>\n",
       "      <td>8.0</td>\n",
       "      <td>0.0</td>\n",
       "      <td>548.0</td>\n",
       "      <td>1</td>\n",
       "    </tr>\n",
       "    <tr>\n",
       "      <th>1</th>\n",
       "      <td>9600.0</td>\n",
       "      <td>6.0</td>\n",
       "      <td>8.0</td>\n",
       "      <td>1262.0</td>\n",
       "      <td>2.0</td>\n",
       "      <td>0.0</td>\n",
       "      <td>3.0</td>\n",
       "      <td>6.0</td>\n",
       "      <td>1.0</td>\n",
       "      <td>460.0</td>\n",
       "      <td>1</td>\n",
       "    </tr>\n",
       "    <tr>\n",
       "      <th>2</th>\n",
       "      <td>11250.0</td>\n",
       "      <td>7.0</td>\n",
       "      <td>5.0</td>\n",
       "      <td>920.0</td>\n",
       "      <td>2.0</td>\n",
       "      <td>1.0</td>\n",
       "      <td>3.0</td>\n",
       "      <td>6.0</td>\n",
       "      <td>1.0</td>\n",
       "      <td>608.0</td>\n",
       "      <td>1</td>\n",
       "    </tr>\n",
       "    <tr>\n",
       "      <th>3</th>\n",
       "      <td>9550.0</td>\n",
       "      <td>7.0</td>\n",
       "      <td>5.0</td>\n",
       "      <td>756.0</td>\n",
       "      <td>1.0</td>\n",
       "      <td>0.0</td>\n",
       "      <td>3.0</td>\n",
       "      <td>7.0</td>\n",
       "      <td>1.0</td>\n",
       "      <td>642.0</td>\n",
       "      <td>0</td>\n",
       "    </tr>\n",
       "    <tr>\n",
       "      <th>4</th>\n",
       "      <td>14260.0</td>\n",
       "      <td>8.0</td>\n",
       "      <td>5.0</td>\n",
       "      <td>1145.0</td>\n",
       "      <td>2.0</td>\n",
       "      <td>1.0</td>\n",
       "      <td>4.0</td>\n",
       "      <td>9.0</td>\n",
       "      <td>1.0</td>\n",
       "      <td>836.0</td>\n",
       "      <td>1</td>\n",
       "    </tr>\n",
       "    <tr>\n",
       "      <th>...</th>\n",
       "      <td>...</td>\n",
       "      <td>...</td>\n",
       "      <td>...</td>\n",
       "      <td>...</td>\n",
       "      <td>...</td>\n",
       "      <td>...</td>\n",
       "      <td>...</td>\n",
       "      <td>...</td>\n",
       "      <td>...</td>\n",
       "      <td>...</td>\n",
       "      <td>...</td>\n",
       "    </tr>\n",
       "    <tr>\n",
       "      <th>1455</th>\n",
       "      <td>7917.0</td>\n",
       "      <td>6.0</td>\n",
       "      <td>5.0</td>\n",
       "      <td>953.0</td>\n",
       "      <td>2.0</td>\n",
       "      <td>1.0</td>\n",
       "      <td>3.0</td>\n",
       "      <td>7.0</td>\n",
       "      <td>1.0</td>\n",
       "      <td>460.0</td>\n",
       "      <td>1</td>\n",
       "    </tr>\n",
       "    <tr>\n",
       "      <th>1456</th>\n",
       "      <td>13175.0</td>\n",
       "      <td>6.0</td>\n",
       "      <td>6.0</td>\n",
       "      <td>1542.0</td>\n",
       "      <td>2.0</td>\n",
       "      <td>0.0</td>\n",
       "      <td>3.0</td>\n",
       "      <td>7.0</td>\n",
       "      <td>2.0</td>\n",
       "      <td>500.0</td>\n",
       "      <td>1</td>\n",
       "    </tr>\n",
       "    <tr>\n",
       "      <th>1457</th>\n",
       "      <td>9042.0</td>\n",
       "      <td>7.0</td>\n",
       "      <td>9.0</td>\n",
       "      <td>1152.0</td>\n",
       "      <td>2.0</td>\n",
       "      <td>0.0</td>\n",
       "      <td>4.0</td>\n",
       "      <td>9.0</td>\n",
       "      <td>2.0</td>\n",
       "      <td>252.0</td>\n",
       "      <td>1</td>\n",
       "    </tr>\n",
       "    <tr>\n",
       "      <th>1458</th>\n",
       "      <td>9717.0</td>\n",
       "      <td>5.0</td>\n",
       "      <td>6.0</td>\n",
       "      <td>1078.0</td>\n",
       "      <td>1.0</td>\n",
       "      <td>0.0</td>\n",
       "      <td>2.0</td>\n",
       "      <td>5.0</td>\n",
       "      <td>0.0</td>\n",
       "      <td>240.0</td>\n",
       "      <td>0</td>\n",
       "    </tr>\n",
       "    <tr>\n",
       "      <th>1459</th>\n",
       "      <td>9937.0</td>\n",
       "      <td>5.0</td>\n",
       "      <td>6.0</td>\n",
       "      <td>1256.0</td>\n",
       "      <td>1.0</td>\n",
       "      <td>1.0</td>\n",
       "      <td>3.0</td>\n",
       "      <td>6.0</td>\n",
       "      <td>0.0</td>\n",
       "      <td>276.0</td>\n",
       "      <td>0</td>\n",
       "    </tr>\n",
       "  </tbody>\n",
       "</table>\n",
       "<p>1460 rows × 11 columns</p>\n",
       "</div>"
      ],
      "text/plain": [
       "      LotArea  OverallQual  OverallCond  TotalBsmtSF  FullBath  HalfBath  \\\n",
       "0      8450.0          7.0          5.0        856.0       2.0       1.0   \n",
       "1      9600.0          6.0          8.0       1262.0       2.0       0.0   \n",
       "2     11250.0          7.0          5.0        920.0       2.0       1.0   \n",
       "3      9550.0          7.0          5.0        756.0       1.0       0.0   \n",
       "4     14260.0          8.0          5.0       1145.0       2.0       1.0   \n",
       "...       ...          ...          ...          ...       ...       ...   \n",
       "1455   7917.0          6.0          5.0        953.0       2.0       1.0   \n",
       "1456  13175.0          6.0          6.0       1542.0       2.0       0.0   \n",
       "1457   9042.0          7.0          9.0       1152.0       2.0       0.0   \n",
       "1458   9717.0          5.0          6.0       1078.0       1.0       0.0   \n",
       "1459   9937.0          5.0          6.0       1256.0       1.0       1.0   \n",
       "\n",
       "      BedroomAbvGr  TotRmsAbvGrd  Fireplaces  GarageArea  AboveMedianPrice  \n",
       "0              3.0           8.0         0.0       548.0                 1  \n",
       "1              3.0           6.0         1.0       460.0                 1  \n",
       "2              3.0           6.0         1.0       608.0                 1  \n",
       "3              3.0           7.0         1.0       642.0                 0  \n",
       "4              4.0           9.0         1.0       836.0                 1  \n",
       "...            ...           ...         ...         ...               ...  \n",
       "1455           3.0           7.0         1.0       460.0                 1  \n",
       "1456           3.0           7.0         2.0       500.0                 1  \n",
       "1457           4.0           9.0         2.0       252.0                 1  \n",
       "1458           2.0           5.0         0.0       240.0                 0  \n",
       "1459           3.0           6.0         0.0       276.0                 0  \n",
       "\n",
       "[1460 rows x 11 columns]"
      ]
     },
     "execution_count": 3,
     "metadata": {},
     "output_type": "execute_result"
    }
   ],
   "source": [
    "#Print dataset\n",
    "df"
   ]
  },
  {
   "cell_type": "code",
   "execution_count": 4,
   "id": "6ddceae4",
   "metadata": {},
   "outputs": [],
   "source": [
    "#convert the column into arrays\n",
    "dataset = df.values"
   ]
  },
  {
   "cell_type": "code",
   "execution_count": 5,
   "id": "a5471cfa",
   "metadata": {},
   "outputs": [
    {
     "data": {
      "text/plain": [
       "array([[8.450e+03, 7.000e+00, 5.000e+00, ..., 0.000e+00, 5.480e+02,\n",
       "        1.000e+00],\n",
       "       [9.600e+03, 6.000e+00, 8.000e+00, ..., 1.000e+00, 4.600e+02,\n",
       "        1.000e+00],\n",
       "       [1.125e+04, 7.000e+00, 5.000e+00, ..., 1.000e+00, 6.080e+02,\n",
       "        1.000e+00],\n",
       "       ...,\n",
       "       [9.042e+03, 7.000e+00, 9.000e+00, ..., 2.000e+00, 2.520e+02,\n",
       "        1.000e+00],\n",
       "       [9.717e+03, 5.000e+00, 6.000e+00, ..., 0.000e+00, 2.400e+02,\n",
       "        0.000e+00],\n",
       "       [9.937e+03, 5.000e+00, 6.000e+00, ..., 0.000e+00, 2.760e+02,\n",
       "        0.000e+00]])"
      ]
     },
     "execution_count": 5,
     "metadata": {},
     "output_type": "execute_result"
    }
   ],
   "source": [
    "dataset"
   ]
  },
  {
   "cell_type": "markdown",
   "id": "0b7d4c90",
   "metadata": {},
   "source": [
    "### Converting our dataframe into an array"
   ]
  },
  {
   "cell_type": "code",
   "execution_count": 21,
   "id": "6a741af6",
   "metadata": {},
   "outputs": [],
   "source": [
    "X = dataset[:,0:10]"
   ]
  },
  {
   "cell_type": "code",
   "execution_count": 22,
   "id": "a2f40511",
   "metadata": {},
   "outputs": [],
   "source": [
    "Y = dataset[:,10]"
   ]
  },
  {
   "cell_type": "code",
   "execution_count": 23,
   "id": "bd61f14e",
   "metadata": {},
   "outputs": [],
   "source": [
    "#import the package from scikit-learn\n",
    "from sklearn import preprocessing"
   ]
  },
  {
   "cell_type": "code",
   "execution_count": 24,
   "id": "afc70fa2",
   "metadata": {},
   "outputs": [],
   "source": [
    "#feature scalling\n",
    "min_max_scaler = preprocessing.MinMaxScaler()\n",
    "X_scale = min_max_scaler.fit_transform(X)"
   ]
  },
  {
   "cell_type": "code",
   "execution_count": 25,
   "id": "918022fe",
   "metadata": {},
   "outputs": [
    {
     "data": {
      "text/plain": [
       "array([[0.0334198 , 0.66666667, 0.5       , ..., 0.5       , 0.        ,\n",
       "        0.3864598 ],\n",
       "       [0.03879502, 0.55555556, 0.875     , ..., 0.33333333, 0.33333333,\n",
       "        0.32440056],\n",
       "       [0.04650728, 0.66666667, 0.5       , ..., 0.33333333, 0.33333333,\n",
       "        0.42877292],\n",
       "       ...,\n",
       "       [0.03618687, 0.66666667, 1.        , ..., 0.58333333, 0.66666667,\n",
       "        0.17771509],\n",
       "       [0.03934189, 0.44444444, 0.625     , ..., 0.25      , 0.        ,\n",
       "        0.16925247],\n",
       "       [0.04037019, 0.44444444, 0.625     , ..., 0.33333333, 0.        ,\n",
       "        0.19464034]])"
      ]
     },
     "execution_count": 25,
     "metadata": {},
     "output_type": "execute_result"
    }
   ],
   "source": [
    "X_scale"
   ]
  },
  {
   "cell_type": "code",
   "execution_count": 26,
   "id": "33d75036",
   "metadata": {},
   "outputs": [],
   "source": [
    "from sklearn.model_selection import train_test_split"
   ]
  },
  {
   "cell_type": "code",
   "execution_count": 27,
   "id": "73d5380e",
   "metadata": {},
   "outputs": [],
   "source": [
    "X_train, X_val_and_test, Y_train, Y_val_and_test = train_test_split(X_scale, Y, test_size = 0.3)"
   ]
  },
  {
   "cell_type": "code",
   "execution_count": 28,
   "id": "8953c2f4",
   "metadata": {},
   "outputs": [],
   "source": [
    "X_val, X_test, Y_val, Y_test = train_test_split(X_val_and_test, Y_val_and_test, test_size = 0.5)"
   ]
  },
  {
   "cell_type": "code",
   "execution_count": 29,
   "id": "734b2f33",
   "metadata": {},
   "outputs": [
    {
     "name": "stdout",
     "output_type": "stream",
     "text": [
      "(1022, 10) (219, 10) (219, 10) (1022,) (219,) (219,)\n"
     ]
    }
   ],
   "source": [
    "print(X_train.shape, X_val.shape, X_test.shape, Y_train.shape, Y_val.shape, Y_test.shape)"
   ]
  },
  {
   "cell_type": "markdown",
   "id": "a4bcbeb8",
   "metadata": {},
   "source": [
    "### Building and trianing our first neural network"
   ]
  },
  {
   "cell_type": "code",
   "execution_count": 30,
   "id": "e74d36f3",
   "metadata": {},
   "outputs": [],
   "source": [
    "#pip install keras"
   ]
  },
  {
   "cell_type": "code",
   "execution_count": 31,
   "id": "4425b9a6",
   "metadata": {},
   "outputs": [],
   "source": [
    "#import library\n",
    "import keras\n",
    "from keras.models import Sequential\n",
    "from keras.layers import Dense"
   ]
  },
  {
   "cell_type": "code",
   "execution_count": 32,
   "id": "5987266e",
   "metadata": {},
   "outputs": [],
   "source": [
    "model = Sequential([Dense(32, activation='relu', input_shape=(10,)),\n",
    "                   Dense(32, activation='relu'),\n",
    "                   Dense(1, activation='sigmoid')])"
   ]
  },
  {
   "cell_type": "markdown",
   "id": "a81424c3",
   "metadata": {},
   "source": [
    "### Filling the best numbers"
   ]
  },
  {
   "cell_type": "code",
   "execution_count": 42,
   "id": "4fa2f575",
   "metadata": {},
   "outputs": [],
   "source": [
    "model.compile(optimizer='sgd',loss='binary_crossentropy',metrics=['accuracy'])"
   ]
  },
  {
   "cell_type": "code",
   "execution_count": 47,
   "id": "432a9cd8",
   "metadata": {},
   "outputs": [
    {
     "name": "stdout",
     "output_type": "stream",
     "text": [
      "Epoch 1/100\n",
      "32/32 [==============================] - 0s 6ms/step - loss: 0.2205 - accuracy: 0.9090 - val_loss: 0.3160 - val_accuracy: 0.8630\n",
      "Epoch 2/100\n",
      "32/32 [==============================] - 0s 4ms/step - loss: 0.2202 - accuracy: 0.9070 - val_loss: 0.3116 - val_accuracy: 0.8493\n",
      "Epoch 3/100\n",
      "32/32 [==============================] - 0s 4ms/step - loss: 0.2203 - accuracy: 0.9070 - val_loss: 0.3136 - val_accuracy: 0.8676\n",
      "Epoch 4/100\n",
      "32/32 [==============================] - 0s 4ms/step - loss: 0.2198 - accuracy: 0.9051 - val_loss: 0.3109 - val_accuracy: 0.8402\n",
      "Epoch 5/100\n",
      "32/32 [==============================] - 0s 4ms/step - loss: 0.2205 - accuracy: 0.9080 - val_loss: 0.3115 - val_accuracy: 0.8493\n",
      "Epoch 6/100\n",
      "32/32 [==============================] - 0s 4ms/step - loss: 0.2208 - accuracy: 0.9129 - val_loss: 0.3159 - val_accuracy: 0.8630\n",
      "Epoch 7/100\n",
      "32/32 [==============================] - 0s 4ms/step - loss: 0.2211 - accuracy: 0.9119 - val_loss: 0.3117 - val_accuracy: 0.8493\n",
      "Epoch 8/100\n",
      "32/32 [==============================] - 0s 4ms/step - loss: 0.2208 - accuracy: 0.9100 - val_loss: 0.3140 - val_accuracy: 0.8676\n",
      "Epoch 9/100\n",
      "32/32 [==============================] - 0s 4ms/step - loss: 0.2183 - accuracy: 0.9061 - val_loss: 0.3114 - val_accuracy: 0.8447\n",
      "Epoch 10/100\n",
      "32/32 [==============================] - 0s 4ms/step - loss: 0.2200 - accuracy: 0.9100 - val_loss: 0.3223 - val_accuracy: 0.8676\n",
      "Epoch 11/100\n",
      "32/32 [==============================] - 0s 4ms/step - loss: 0.2212 - accuracy: 0.9110 - val_loss: 0.3181 - val_accuracy: 0.8630\n",
      "Epoch 12/100\n",
      "32/32 [==============================] - 0s 4ms/step - loss: 0.2202 - accuracy: 0.9090 - val_loss: 0.3245 - val_accuracy: 0.8630\n",
      "Epoch 13/100\n",
      "32/32 [==============================] - 0s 3ms/step - loss: 0.2212 - accuracy: 0.9061 - val_loss: 0.3124 - val_accuracy: 0.8539\n",
      "Epoch 14/100\n",
      "32/32 [==============================] - 0s 4ms/step - loss: 0.2196 - accuracy: 0.9100 - val_loss: 0.3169 - val_accuracy: 0.8630\n",
      "Epoch 15/100\n",
      "32/32 [==============================] - 0s 4ms/step - loss: 0.2190 - accuracy: 0.9051 - val_loss: 0.3229 - val_accuracy: 0.8630\n",
      "Epoch 16/100\n",
      "32/32 [==============================] - 0s 4ms/step - loss: 0.2199 - accuracy: 0.9080 - val_loss: 0.3196 - val_accuracy: 0.8676\n",
      "Epoch 17/100\n",
      "32/32 [==============================] - 0s 4ms/step - loss: 0.2193 - accuracy: 0.9051 - val_loss: 0.3133 - val_accuracy: 0.8539\n",
      "Epoch 18/100\n",
      "32/32 [==============================] - 0s 4ms/step - loss: 0.2191 - accuracy: 0.9100 - val_loss: 0.3138 - val_accuracy: 0.8584\n",
      "Epoch 19/100\n",
      "32/32 [==============================] - 0s 4ms/step - loss: 0.2192 - accuracy: 0.9031 - val_loss: 0.3200 - val_accuracy: 0.8676\n",
      "Epoch 20/100\n",
      "32/32 [==============================] - 0s 4ms/step - loss: 0.2195 - accuracy: 0.9090 - val_loss: 0.3116 - val_accuracy: 0.8402\n",
      "Epoch 21/100\n",
      "32/32 [==============================] - 0s 4ms/step - loss: 0.2196 - accuracy: 0.9100 - val_loss: 0.3161 - val_accuracy: 0.8630\n",
      "Epoch 22/100\n",
      "32/32 [==============================] - 0s 4ms/step - loss: 0.2199 - accuracy: 0.9070 - val_loss: 0.3154 - val_accuracy: 0.8630\n",
      "Epoch 23/100\n",
      "32/32 [==============================] - 0s 4ms/step - loss: 0.2193 - accuracy: 0.9051 - val_loss: 0.3153 - val_accuracy: 0.8630\n",
      "Epoch 24/100\n",
      "32/32 [==============================] - 0s 4ms/step - loss: 0.2195 - accuracy: 0.9051 - val_loss: 0.3189 - val_accuracy: 0.8676\n",
      "Epoch 25/100\n",
      "32/32 [==============================] - 0s 4ms/step - loss: 0.2189 - accuracy: 0.9080 - val_loss: 0.3216 - val_accuracy: 0.8676\n",
      "Epoch 26/100\n",
      "32/32 [==============================] - 0s 4ms/step - loss: 0.2194 - accuracy: 0.9070 - val_loss: 0.3154 - val_accuracy: 0.8630\n",
      "Epoch 27/100\n",
      "32/32 [==============================] - 0s 4ms/step - loss: 0.2196 - accuracy: 0.9080 - val_loss: 0.3131 - val_accuracy: 0.8539\n",
      "Epoch 28/100\n",
      "32/32 [==============================] - 0s 4ms/step - loss: 0.2192 - accuracy: 0.9090 - val_loss: 0.3147 - val_accuracy: 0.8630\n",
      "Epoch 29/100\n",
      "32/32 [==============================] - 0s 4ms/step - loss: 0.2201 - accuracy: 0.9061 - val_loss: 0.3121 - val_accuracy: 0.8402\n",
      "Epoch 30/100\n",
      "32/32 [==============================] - 0s 4ms/step - loss: 0.2197 - accuracy: 0.9070 - val_loss: 0.3136 - val_accuracy: 0.8539\n",
      "Epoch 31/100\n",
      "32/32 [==============================] - 0s 4ms/step - loss: 0.2187 - accuracy: 0.9139 - val_loss: 0.3144 - val_accuracy: 0.8584\n",
      "Epoch 32/100\n",
      "32/32 [==============================] - 0s 4ms/step - loss: 0.2183 - accuracy: 0.9110 - val_loss: 0.3184 - val_accuracy: 0.8630\n",
      "Epoch 33/100\n",
      "32/32 [==============================] - 0s 4ms/step - loss: 0.2186 - accuracy: 0.9022 - val_loss: 0.3127 - val_accuracy: 0.8402\n",
      "Epoch 34/100\n",
      "32/32 [==============================] - 0s 4ms/step - loss: 0.2200 - accuracy: 0.9100 - val_loss: 0.3144 - val_accuracy: 0.8584\n",
      "Epoch 35/100\n",
      "32/32 [==============================] - 0s 4ms/step - loss: 0.2188 - accuracy: 0.9080 - val_loss: 0.3136 - val_accuracy: 0.8539\n",
      "Epoch 36/100\n",
      "32/32 [==============================] - 0s 4ms/step - loss: 0.2194 - accuracy: 0.9090 - val_loss: 0.3158 - val_accuracy: 0.8630\n",
      "Epoch 37/100\n",
      "32/32 [==============================] - 0s 4ms/step - loss: 0.2174 - accuracy: 0.9061 - val_loss: 0.3120 - val_accuracy: 0.8447\n",
      "Epoch 38/100\n",
      "32/32 [==============================] - 0s 4ms/step - loss: 0.2196 - accuracy: 0.9061 - val_loss: 0.3150 - val_accuracy: 0.8584\n",
      "Epoch 39/100\n",
      "32/32 [==============================] - 0s 4ms/step - loss: 0.2189 - accuracy: 0.9119 - val_loss: 0.3135 - val_accuracy: 0.8539\n",
      "Epoch 40/100\n",
      "32/32 [==============================] - 0s 4ms/step - loss: 0.2151 - accuracy: 0.9100 - val_loss: 0.3133 - val_accuracy: 0.8447\n",
      "Epoch 41/100\n",
      "32/32 [==============================] - 0s 4ms/step - loss: 0.2191 - accuracy: 0.9110 - val_loss: 0.3121 - val_accuracy: 0.8447\n",
      "Epoch 42/100\n",
      "32/32 [==============================] - 0s 4ms/step - loss: 0.2207 - accuracy: 0.9100 - val_loss: 0.3156 - val_accuracy: 0.8584\n",
      "Epoch 43/100\n",
      "32/32 [==============================] - 0s 4ms/step - loss: 0.2192 - accuracy: 0.9090 - val_loss: 0.3127 - val_accuracy: 0.8447\n",
      "Epoch 44/100\n",
      "32/32 [==============================] - 0s 4ms/step - loss: 0.2183 - accuracy: 0.9061 - val_loss: 0.3233 - val_accuracy: 0.8630\n",
      "Epoch 45/100\n",
      "32/32 [==============================] - 0s 4ms/step - loss: 0.2167 - accuracy: 0.9129 - val_loss: 0.3361 - val_accuracy: 0.8539\n",
      "Epoch 46/100\n",
      "32/32 [==============================] - 0s 4ms/step - loss: 0.2198 - accuracy: 0.9070 - val_loss: 0.3154 - val_accuracy: 0.8584\n",
      "Epoch 47/100\n",
      "32/32 [==============================] - 0s 4ms/step - loss: 0.2186 - accuracy: 0.9051 - val_loss: 0.3162 - val_accuracy: 0.8584\n",
      "Epoch 48/100\n",
      "32/32 [==============================] - 0s 4ms/step - loss: 0.2177 - accuracy: 0.9090 - val_loss: 0.3197 - val_accuracy: 0.8676\n",
      "Epoch 49/100\n",
      "32/32 [==============================] - 0s 4ms/step - loss: 0.2174 - accuracy: 0.9149 - val_loss: 0.3151 - val_accuracy: 0.8584\n",
      "Epoch 50/100\n",
      "32/32 [==============================] - 0s 4ms/step - loss: 0.2184 - accuracy: 0.9090 - val_loss: 0.3154 - val_accuracy: 0.8584\n",
      "Epoch 51/100\n",
      "32/32 [==============================] - 0s 4ms/step - loss: 0.2179 - accuracy: 0.9080 - val_loss: 0.3126 - val_accuracy: 0.8447\n",
      "Epoch 52/100\n",
      "32/32 [==============================] - 0s 4ms/step - loss: 0.2181 - accuracy: 0.9090 - val_loss: 0.3189 - val_accuracy: 0.8630\n",
      "Epoch 53/100\n",
      "32/32 [==============================] - 0s 4ms/step - loss: 0.2185 - accuracy: 0.9090 - val_loss: 0.3164 - val_accuracy: 0.8539\n",
      "Epoch 54/100\n",
      "32/32 [==============================] - 0s 4ms/step - loss: 0.2179 - accuracy: 0.9090 - val_loss: 0.3161 - val_accuracy: 0.8539\n",
      "Epoch 55/100\n",
      "32/32 [==============================] - 0s 3ms/step - loss: 0.2173 - accuracy: 0.9090 - val_loss: 0.3138 - val_accuracy: 0.8493\n",
      "Epoch 56/100\n",
      "32/32 [==============================] - 0s 3ms/step - loss: 0.2168 - accuracy: 0.9090 - val_loss: 0.3128 - val_accuracy: 0.8493\n",
      "Epoch 57/100\n",
      "32/32 [==============================] - 0s 3ms/step - loss: 0.2184 - accuracy: 0.9090 - val_loss: 0.3185 - val_accuracy: 0.8630\n",
      "Epoch 58/100\n",
      "32/32 [==============================] - 0s 4ms/step - loss: 0.2175 - accuracy: 0.9090 - val_loss: 0.3168 - val_accuracy: 0.8539\n"
     ]
    },
    {
     "name": "stdout",
     "output_type": "stream",
     "text": [
      "Epoch 59/100\n",
      "32/32 [==============================] - 0s 3ms/step - loss: 0.2173 - accuracy: 0.9080 - val_loss: 0.3137 - val_accuracy: 0.8493\n",
      "Epoch 60/100\n",
      "32/32 [==============================] - 0s 3ms/step - loss: 0.2161 - accuracy: 0.9100 - val_loss: 0.3222 - val_accuracy: 0.8676\n",
      "Epoch 61/100\n",
      "32/32 [==============================] - 0s 3ms/step - loss: 0.2171 - accuracy: 0.9070 - val_loss: 0.3132 - val_accuracy: 0.8447\n",
      "Epoch 62/100\n",
      "32/32 [==============================] - 0s 3ms/step - loss: 0.2174 - accuracy: 0.9070 - val_loss: 0.3200 - val_accuracy: 0.8676\n",
      "Epoch 63/100\n",
      "32/32 [==============================] - 0s 3ms/step - loss: 0.2176 - accuracy: 0.9080 - val_loss: 0.3131 - val_accuracy: 0.8447\n",
      "Epoch 64/100\n",
      "32/32 [==============================] - 0s 3ms/step - loss: 0.2172 - accuracy: 0.9061 - val_loss: 0.3133 - val_accuracy: 0.8447\n",
      "Epoch 65/100\n",
      "32/32 [==============================] - 0s 3ms/step - loss: 0.2166 - accuracy: 0.9061 - val_loss: 0.3134 - val_accuracy: 0.8447\n",
      "Epoch 66/100\n",
      "32/32 [==============================] - 0s 3ms/step - loss: 0.2165 - accuracy: 0.9090 - val_loss: 0.3153 - val_accuracy: 0.8493\n",
      "Epoch 67/100\n",
      "32/32 [==============================] - 0s 3ms/step - loss: 0.2171 - accuracy: 0.9070 - val_loss: 0.3157 - val_accuracy: 0.8584\n",
      "Epoch 68/100\n",
      "32/32 [==============================] - 0s 3ms/step - loss: 0.2168 - accuracy: 0.9100 - val_loss: 0.3211 - val_accuracy: 0.8676\n",
      "Epoch 69/100\n",
      "32/32 [==============================] - 0s 4ms/step - loss: 0.2176 - accuracy: 0.9041 - val_loss: 0.3155 - val_accuracy: 0.8539\n",
      "Epoch 70/100\n",
      "32/32 [==============================] - 0s 3ms/step - loss: 0.2169 - accuracy: 0.9100 - val_loss: 0.3162 - val_accuracy: 0.8584\n",
      "Epoch 71/100\n",
      "32/32 [==============================] - 0s 3ms/step - loss: 0.2156 - accuracy: 0.9080 - val_loss: 0.3230 - val_accuracy: 0.8630\n",
      "Epoch 72/100\n",
      "32/32 [==============================] - 0s 4ms/step - loss: 0.2166 - accuracy: 0.9022 - val_loss: 0.3132 - val_accuracy: 0.8447\n",
      "Epoch 73/100\n",
      "32/32 [==============================] - 0s 3ms/step - loss: 0.2172 - accuracy: 0.9080 - val_loss: 0.3134 - val_accuracy: 0.8447\n",
      "Epoch 74/100\n",
      "32/32 [==============================] - 0s 3ms/step - loss: 0.2173 - accuracy: 0.9100 - val_loss: 0.3166 - val_accuracy: 0.8584\n",
      "Epoch 75/100\n",
      "32/32 [==============================] - 0s 4ms/step - loss: 0.2170 - accuracy: 0.9061 - val_loss: 0.3172 - val_accuracy: 0.8539\n",
      "Epoch 76/100\n",
      "32/32 [==============================] - 0s 3ms/step - loss: 0.2165 - accuracy: 0.9070 - val_loss: 0.3154 - val_accuracy: 0.8539\n",
      "Epoch 77/100\n",
      "32/32 [==============================] - 0s 3ms/step - loss: 0.2174 - accuracy: 0.9070 - val_loss: 0.3132 - val_accuracy: 0.8447\n",
      "Epoch 78/100\n",
      "32/32 [==============================] - 0s 3ms/step - loss: 0.2171 - accuracy: 0.9119 - val_loss: 0.3183 - val_accuracy: 0.8539\n",
      "Epoch 79/100\n",
      "32/32 [==============================] - 0s 4ms/step - loss: 0.2159 - accuracy: 0.9070 - val_loss: 0.3229 - val_accuracy: 0.8676\n",
      "Epoch 80/100\n",
      "32/32 [==============================] - 0s 4ms/step - loss: 0.2169 - accuracy: 0.9051 - val_loss: 0.3142 - val_accuracy: 0.8493\n",
      "Epoch 81/100\n",
      "32/32 [==============================] - 0s 4ms/step - loss: 0.2164 - accuracy: 0.9110 - val_loss: 0.3153 - val_accuracy: 0.8539\n",
      "Epoch 82/100\n",
      "32/32 [==============================] - 0s 4ms/step - loss: 0.2171 - accuracy: 0.9031 - val_loss: 0.3164 - val_accuracy: 0.8584\n",
      "Epoch 83/100\n",
      "32/32 [==============================] - 0s 4ms/step - loss: 0.2160 - accuracy: 0.9061 - val_loss: 0.3134 - val_accuracy: 0.8447\n",
      "Epoch 84/100\n",
      "32/32 [==============================] - 0s 4ms/step - loss: 0.2169 - accuracy: 0.9110 - val_loss: 0.3180 - val_accuracy: 0.8539\n",
      "Epoch 85/100\n",
      "32/32 [==============================] - 0s 3ms/step - loss: 0.2175 - accuracy: 0.9051 - val_loss: 0.3173 - val_accuracy: 0.8539\n",
      "Epoch 86/100\n",
      "32/32 [==============================] - 0s 3ms/step - loss: 0.2156 - accuracy: 0.9100 - val_loss: 0.3265 - val_accuracy: 0.8676\n",
      "Epoch 87/100\n",
      "32/32 [==============================] - 0s 3ms/step - loss: 0.2170 - accuracy: 0.9002 - val_loss: 0.3134 - val_accuracy: 0.8447\n",
      "Epoch 88/100\n",
      "32/32 [==============================] - 0s 3ms/step - loss: 0.2169 - accuracy: 0.9080 - val_loss: 0.3143 - val_accuracy: 0.8493\n",
      "Epoch 89/100\n",
      "32/32 [==============================] - 0s 4ms/step - loss: 0.2166 - accuracy: 0.9061 - val_loss: 0.3146 - val_accuracy: 0.8493\n",
      "Epoch 90/100\n",
      "32/32 [==============================] - 0s 3ms/step - loss: 0.2166 - accuracy: 0.9051 - val_loss: 0.3188 - val_accuracy: 0.8539\n",
      "Epoch 91/100\n",
      "32/32 [==============================] - 0s 3ms/step - loss: 0.2164 - accuracy: 0.9110 - val_loss: 0.3136 - val_accuracy: 0.8447\n",
      "Epoch 92/100\n",
      "32/32 [==============================] - 0s 3ms/step - loss: 0.2162 - accuracy: 0.9129 - val_loss: 0.3140 - val_accuracy: 0.8447\n",
      "Epoch 93/100\n",
      "32/32 [==============================] - 0s 3ms/step - loss: 0.2162 - accuracy: 0.9119 - val_loss: 0.3159 - val_accuracy: 0.8584\n",
      "Epoch 94/100\n",
      "32/32 [==============================] - 0s 3ms/step - loss: 0.2173 - accuracy: 0.9090 - val_loss: 0.3143 - val_accuracy: 0.8493\n",
      "Epoch 95/100\n",
      "32/32 [==============================] - 0s 3ms/step - loss: 0.2153 - accuracy: 0.9100 - val_loss: 0.3153 - val_accuracy: 0.8493\n",
      "Epoch 96/100\n",
      "32/32 [==============================] - 0s 4ms/step - loss: 0.2166 - accuracy: 0.9061 - val_loss: 0.3170 - val_accuracy: 0.8584\n",
      "Epoch 97/100\n",
      "32/32 [==============================] - 0s 3ms/step - loss: 0.2166 - accuracy: 0.9080 - val_loss: 0.3171 - val_accuracy: 0.8584\n",
      "Epoch 98/100\n",
      "32/32 [==============================] - 0s 3ms/step - loss: 0.2152 - accuracy: 0.9100 - val_loss: 0.3142 - val_accuracy: 0.8493\n",
      "Epoch 99/100\n",
      "32/32 [==============================] - 0s 3ms/step - loss: 0.2161 - accuracy: 0.9080 - val_loss: 0.3224 - val_accuracy: 0.8676\n",
      "Epoch 100/100\n",
      "32/32 [==============================] - 0s 3ms/step - loss: 0.2158 - accuracy: 0.9051 - val_loss: 0.3145 - val_accuracy: 0.8493\n"
     ]
    }
   ],
   "source": [
    "hist = model.fit(X_train,Y_train,batch_size=32,epochs=100,validation_data=(X_val,Y_val))"
   ]
  },
  {
   "cell_type": "code",
   "execution_count": 48,
   "id": "9b34ace6",
   "metadata": {},
   "outputs": [
    {
     "name": "stdout",
     "output_type": "stream",
     "text": [
      "7/7 [==============================] - 0s 4ms/step - loss: 0.2702 - accuracy: 0.8813\n"
     ]
    },
    {
     "data": {
      "text/plain": [
       "0.8812785148620605"
      ]
     },
     "execution_count": 48,
     "metadata": {},
     "output_type": "execute_result"
    }
   ],
   "source": [
    "#evaluting on the test set\n",
    "model.evaluate(X_test,Y_test)[1]"
   ]
  },
  {
   "cell_type": "markdown",
   "id": "e7318022",
   "metadata": {},
   "source": [
    "### Visualizing loss and accuracy"
   ]
  },
  {
   "cell_type": "code",
   "execution_count": 75,
   "id": "4ccb012e",
   "metadata": {},
   "outputs": [],
   "source": [
    "import matplotlib.pyplot as plt"
   ]
  },
  {
   "cell_type": "code",
   "execution_count": 76,
   "id": "554cf2f3",
   "metadata": {},
   "outputs": [
    {
     "data": {
      "image/png": "[encoded data removed]",
      "text/plain": [
       "<Figure size 640x480 with 1 Axes>"
      ]
     },
     "metadata": {},
     "output_type": "display_data"
    }
   ],
   "source": [
    "plt.plot(hist.history['loss'])\n",
    "plt.plot(hist.history['val_loss'])\n",
    "plt.title('Model loss')\n",
    "plt.ylabel('Loss')\n",
    "plt.xlabel('Epoch')\n",
    "plt.legend(['Train','Val'], loc='upper right')\n",
    "plt.show()"
   ]
  },
  {
   "cell_type": "code",
   "execution_count": 77,
   "id": "25332a21",
   "metadata": {},
   "outputs": [
    {
     "data": {
      "image/png": "[encoded data removed]",
      "text/plain": [
       "<Figure size 640x480 with 1 Axes>"
      ]
     },
     "metadata": {},
     "output_type": "display_data"
    }
   ],
   "source": [
    "plt.plot(hist.history['accuracy'])\n",
    "plt.plot(hist.history['val_accuracy'])\n",
    "plt.title('Model accuracy')\n",
    "plt.ylabel('Accuracy')\n",
    "plt.xlabel('Epoch')\n",
    "plt.legend(['Train','Val'], loc='lower right')\n",
    "plt.show()"
   ]
  }
 ],
 "metadata": {
  "kernelspec": {
   "display_name": "Python 3 (ipykernel)",
   "language": "python",
   "name": "python3"
  },
  "language_info": {
   "codemirror_mode": {
    "name": "ipython",
    "version": 3
   },
   "file_extension": ".py",
   "mimetype": "text/x-python",
   "name": "python",
   "nbconvert_exporter": "python",
   "pygments_lexer": "ipython3",
   "version": "3.9.13"
  }
 },
 "nbformat": 4,
 "nbformat_minor": 5
}
